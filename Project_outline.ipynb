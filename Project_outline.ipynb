{
 "cells": [
  {
   "cell_type": "markdown",
   "metadata": {},
   "source": [
    "# Outline of Capstone\n",
    "\n",
    "This file will describe the outline and steps required for the Capstone project. \n",
    "\n",
    "The first step is to set up the repository with all necessary files. \n",
    "\n",
    "- Proposal\n",
    "    - Have the proposal document here\n",
    "\n",
    "\n",
    "- Project Description\n",
    "    - Describe the project, akin to the proposal, probably will follow the structure of the proposal as well. This might be the Readme or what the Readme will be based on. \n",
    "\n",
    "\n",
    "- Data:\n",
    "    - Baseball data: the actual data, the files which explain the data (attribute list). Have this in its own folder\n",
    "    - Boston homes data: should be on scikit learn to be extracted, so can be collected in a notebook. \n",
    "   \n",
    "   \n",
    "- Two distinct notebooks, one for each dataset:\n",
    "    - Baseball file: follow relevant crisp-dm steps: data collection, eda, preprocessing, modeling, modeling evaluation, model selection. Save models as a file to be imported into interpretation notebooks. SHOULD PARTS OF THESE STEPS BE MODULARIZED INTO MINI .PY FILES?\n",
    "    - Homes file: follow relevatn crisp-d, steps: data collection, eda, feature engineering, preprocessing, modeling, evaluation, model selection. save models as a file to be imported into interpretation notebooks. SHOULD PARTS OF THESE STEPS BE MODULARIZED INTO MINI .PY FILES?\n",
    "\n",
    "- Interpretation notebooks\n",
    "    - Baseball Interpretation file: Apply SHAP and LIME to baseball final model and subsequent explanations of what it all means.\n",
    "    - Homes Interpretation file: Apply SHAP and LIME to homes final model and subsequent explanations of what it all means. \n",
    "    \n"
   ]
  },
  {
   "cell_type": "code",
   "execution_count": null,
   "metadata": {},
   "outputs": [],
   "source": []
  }
 ],
 "metadata": {
  "kernelspec": {
   "display_name": "Python 3",
   "language": "python",
   "name": "python3"
  },
  "language_info": {
   "codemirror_mode": {
    "name": "ipython",
    "version": 3
   },
   "file_extension": ".py",
   "mimetype": "text/x-python",
   "name": "python",
   "nbconvert_exporter": "python",
   "pygments_lexer": "ipython3",
   "version": "3.6.7"
  }
 },
 "nbformat": 4,
 "nbformat_minor": 2
}
