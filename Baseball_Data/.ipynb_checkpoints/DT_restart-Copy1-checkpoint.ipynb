{
 "cells": [
  {
   "cell_type": "markdown",
   "metadata": {},
   "source": [
    "## Undersampler Pipeline Decision Tree with just excluding features"
   ]
  },
  {
   "cell_type": "code",
   "execution_count": 1,
   "metadata": {},
   "outputs": [
    {
     "name": "stderr",
     "output_type": "stream",
     "text": [
      "/home/jupyter-khickey550/.local/lib/python3.6/site-packages/sklearn/externals/six.py:31: DeprecationWarning: The module is deprecated in version 0.21 and will be removed in version 0.23 since we've dropped support for Python 2.7. Please rely on the official version of six (https://pypi.org/project/six/).\n",
      "  \"(https://pypi.org/project/six/).\", DeprecationWarning)\n"
     ]
    }
   ],
   "source": [
    "#start with all dependencies\n",
    "\n",
    "import numpy as np\n",
    "import pandas as pd\n",
    "from Evaluation import *\n",
    "import sklearn\n",
    "import sklearn.metrics as metrics\n",
    "from sklearn.model_selection import cross_val_score, cross_validate\n",
    "from sklearn.preprocessing import Imputer\n",
    "from imblearn.under_sampling import RandomUnderSampler\n",
    "from sklearn.linear_model import LogisticRegression\n",
    "from sklearn.tree import DecisionTreeRegressor\n",
    "import matplotlib.pyplot as plt\n",
    "%matplotlib inline\n",
    "import imblearn\n",
    "import seaborn as sns\n",
    "sns.set()\n",
    "import warnings\n",
    "warnings.filterwarnings(\"ignore\", category=FutureWarning)"
   ]
  },
  {
   "cell_type": "code",
   "execution_count": 2,
   "metadata": {},
   "outputs": [],
   "source": [
    "#Read in the data as pandas dataframe\n",
    "data = 'Statcast_data.csv'\n",
    "\n",
    "def load_data(file):\n",
    "    '''Load the Statcast_data.csv file into a pandas dataframe.\n",
    "       Resolve unnecessary column in csv file'''\n",
    "    baseball = pd.read_csv('Statcast_data.csv', index_col = 0)\n",
    "    \n",
    "    return baseball\n",
    "\n",
    "baseball = load_data(data)\n",
    "baseball['description'] = baseball['description'].replace({'blocked_ball': 0, 'ball': 0, \"called_strike\": 1})\n",
    "\n",
    "baseball = baseball.dropna()"
   ]
  },
  {
   "cell_type": "code",
   "execution_count": 3,
   "metadata": {},
   "outputs": [
    {
     "data": {
      "text/html": [
       "<div>\n",
       "<style scoped>\n",
       "    .dataframe tbody tr th:only-of-type {\n",
       "        vertical-align: middle;\n",
       "    }\n",
       "\n",
       "    .dataframe tbody tr th {\n",
       "        vertical-align: top;\n",
       "    }\n",
       "\n",
       "    .dataframe thead th {\n",
       "        text-align: right;\n",
       "    }\n",
       "</style>\n",
       "<table border=\"1\" class=\"dataframe\">\n",
       "  <thead>\n",
       "    <tr style=\"text-align: right;\">\n",
       "      <th></th>\n",
       "      <th>player_name</th>\n",
       "      <th>p_throws</th>\n",
       "      <th>pitch_name</th>\n",
       "      <th>release_speed</th>\n",
       "      <th>release_spin_rate</th>\n",
       "      <th>release_pos_x</th>\n",
       "      <th>release_pos_y</th>\n",
       "      <th>release_pos_z</th>\n",
       "      <th>pfx_x</th>\n",
       "      <th>pfx_z</th>\n",
       "      <th>vx0</th>\n",
       "      <th>vy0</th>\n",
       "      <th>vz0</th>\n",
       "      <th>ax</th>\n",
       "      <th>ay</th>\n",
       "      <th>az</th>\n",
       "      <th>sz_top</th>\n",
       "      <th>sz_bot</th>\n",
       "      <th>release_extension</th>\n",
       "      <th>description</th>\n",
       "    </tr>\n",
       "  </thead>\n",
       "  <tbody>\n",
       "    <tr>\n",
       "      <th>0</th>\n",
       "      <td>Chris Sale</td>\n",
       "      <td>L</td>\n",
       "      <td>2-Seam Fastball</td>\n",
       "      <td>95.1</td>\n",
       "      <td>2314.0</td>\n",
       "      <td>3.2655</td>\n",
       "      <td>54.4995</td>\n",
       "      <td>5.2575</td>\n",
       "      <td>1.7213</td>\n",
       "      <td>0.4271</td>\n",
       "      <td>-9.8035</td>\n",
       "      <td>-138.1130</td>\n",
       "      <td>0.1339</td>\n",
       "      <td>23.9464</td>\n",
       "      <td>31.0012</td>\n",
       "      <td>-27.0426</td>\n",
       "      <td>3.2971</td>\n",
       "      <td>1.5059</td>\n",
       "      <td>6.001</td>\n",
       "      <td>0</td>\n",
       "    </tr>\n",
       "    <tr>\n",
       "      <th>1</th>\n",
       "      <td>Chris Sale</td>\n",
       "      <td>L</td>\n",
       "      <td>4-Seam Fastball</td>\n",
       "      <td>96.7</td>\n",
       "      <td>2324.0</td>\n",
       "      <td>3.1728</td>\n",
       "      <td>54.3094</td>\n",
       "      <td>5.3966</td>\n",
       "      <td>0.9349</td>\n",
       "      <td>1.0015</td>\n",
       "      <td>-9.0084</td>\n",
       "      <td>-140.5865</td>\n",
       "      <td>-2.4218</td>\n",
       "      <td>14.3766</td>\n",
       "      <td>32.1373</td>\n",
       "      <td>-18.6501</td>\n",
       "      <td>3.3136</td>\n",
       "      <td>1.5730</td>\n",
       "      <td>6.191</td>\n",
       "      <td>1</td>\n",
       "    </tr>\n",
       "    <tr>\n",
       "      <th>2</th>\n",
       "      <td>Chris Sale</td>\n",
       "      <td>L</td>\n",
       "      <td>Slider</td>\n",
       "      <td>80.8</td>\n",
       "      <td>2521.0</td>\n",
       "      <td>3.3517</td>\n",
       "      <td>55.0820</td>\n",
       "      <td>5.1205</td>\n",
       "      <td>-1.0168</td>\n",
       "      <td>-0.1223</td>\n",
       "      <td>-3.7285</td>\n",
       "      <td>-117.3223</td>\n",
       "      <td>1.2140</td>\n",
       "      <td>-8.2088</td>\n",
       "      <td>25.0797</td>\n",
       "      <td>-33.8129</td>\n",
       "      <td>3.9119</td>\n",
       "      <td>1.7080</td>\n",
       "      <td>5.420</td>\n",
       "      <td>1</td>\n",
       "    </tr>\n",
       "    <tr>\n",
       "      <th>3</th>\n",
       "      <td>Chris Sale</td>\n",
       "      <td>L</td>\n",
       "      <td>4-Seam Fastball</td>\n",
       "      <td>96.2</td>\n",
       "      <td>2329.0</td>\n",
       "      <td>3.1334</td>\n",
       "      <td>54.0207</td>\n",
       "      <td>5.2136</td>\n",
       "      <td>1.3175</td>\n",
       "      <td>0.9402</td>\n",
       "      <td>-12.0533</td>\n",
       "      <td>-139.3669</td>\n",
       "      <td>-5.1407</td>\n",
       "      <td>20.1652</td>\n",
       "      <td>36.1370</td>\n",
       "      <td>-18.9205</td>\n",
       "      <td>3.5553</td>\n",
       "      <td>1.5639</td>\n",
       "      <td>6.479</td>\n",
       "      <td>1</td>\n",
       "    </tr>\n",
       "    <tr>\n",
       "      <th>4</th>\n",
       "      <td>Chris Sale</td>\n",
       "      <td>L</td>\n",
       "      <td>4-Seam Fastball</td>\n",
       "      <td>96.5</td>\n",
       "      <td>2437.0</td>\n",
       "      <td>3.3033</td>\n",
       "      <td>54.3597</td>\n",
       "      <td>5.0589</td>\n",
       "      <td>1.2794</td>\n",
       "      <td>0.7425</td>\n",
       "      <td>-14.0287</td>\n",
       "      <td>-139.8559</td>\n",
       "      <td>-3.3434</td>\n",
       "      <td>19.7342</td>\n",
       "      <td>30.0266</td>\n",
       "      <td>-21.9652</td>\n",
       "      <td>3.3450</td>\n",
       "      <td>1.6241</td>\n",
       "      <td>6.141</td>\n",
       "      <td>0</td>\n",
       "    </tr>\n",
       "  </tbody>\n",
       "</table>\n",
       "</div>"
      ],
      "text/plain": [
       "  player_name p_throws       pitch_name  release_speed  release_spin_rate  \\\n",
       "0  Chris Sale        L  2-Seam Fastball           95.1             2314.0   \n",
       "1  Chris Sale        L  4-Seam Fastball           96.7             2324.0   \n",
       "2  Chris Sale        L           Slider           80.8             2521.0   \n",
       "3  Chris Sale        L  4-Seam Fastball           96.2             2329.0   \n",
       "4  Chris Sale        L  4-Seam Fastball           96.5             2437.0   \n",
       "\n",
       "   release_pos_x  release_pos_y  release_pos_z   pfx_x   pfx_z      vx0  \\\n",
       "0         3.2655        54.4995         5.2575  1.7213  0.4271  -9.8035   \n",
       "1         3.1728        54.3094         5.3966  0.9349  1.0015  -9.0084   \n",
       "2         3.3517        55.0820         5.1205 -1.0168 -0.1223  -3.7285   \n",
       "3         3.1334        54.0207         5.2136  1.3175  0.9402 -12.0533   \n",
       "4         3.3033        54.3597         5.0589  1.2794  0.7425 -14.0287   \n",
       "\n",
       "        vy0     vz0       ax       ay       az  sz_top  sz_bot  \\\n",
       "0 -138.1130  0.1339  23.9464  31.0012 -27.0426  3.2971  1.5059   \n",
       "1 -140.5865 -2.4218  14.3766  32.1373 -18.6501  3.3136  1.5730   \n",
       "2 -117.3223  1.2140  -8.2088  25.0797 -33.8129  3.9119  1.7080   \n",
       "3 -139.3669 -5.1407  20.1652  36.1370 -18.9205  3.5553  1.5639   \n",
       "4 -139.8559 -3.3434  19.7342  30.0266 -21.9652  3.3450  1.6241   \n",
       "\n",
       "   release_extension  description  \n",
       "0              6.001            0  \n",
       "1              6.191            1  \n",
       "2              5.420            1  \n",
       "3              6.479            1  \n",
       "4              6.141            0  "
      ]
     },
     "execution_count": 3,
     "metadata": {},
     "output_type": "execute_result"
    }
   ],
   "source": [
    "baseball.head()"
   ]
  },
  {
   "cell_type": "markdown",
   "metadata": {},
   "source": [
    "## Feature Creation\n",
    "1. posx + movementx, posz +movementz\n",
    "2. difference in the top of the zone and the position of the ball\n",
    "    - any negative value will mean the ball is above the zone. \n",
    "4. difference in the position of the ball and the bottom of the zone. \n",
    "    - Any negative value will mean the ball is in the zone. \n",
    "3. compare to target"
   ]
  },
  {
   "cell_type": "code",
   "execution_count": 4,
   "metadata": {},
   "outputs": [],
   "source": [
    "#baseball['position_x'] = baseball['release_pos_x'] + baseball['pfx_x']\n",
    "#baseball['position_z'] = baseball['release_pos_z'] + baseball['pfx_z']\n",
    "\n",
    "#baseball['difference_top_of_zone'] = baseball['sz_top'] - baseball['position_z']\n",
    "#baseball['difference_bottom_of_zone'] = baseball['position_z'] - baseball['sz_top']\n",
    "#baseball['difference_side_of_plate_x'] = baseball['']\n",
    "#baseball['area_of_zone'] = 17 * baseball['height_of_zone']"
   ]
  },
  {
   "cell_type": "code",
   "execution_count": 5,
   "metadata": {},
   "outputs": [
    {
     "data": {
      "text/plain": [
       "Index(['player_name', 'p_throws', 'pitch_name', 'release_speed',\n",
       "       'release_spin_rate', 'release_pos_x', 'release_pos_y', 'release_pos_z',\n",
       "       'pfx_x', 'pfx_z', 'vx0', 'vy0', 'vz0', 'ax', 'ay', 'az', 'sz_top',\n",
       "       'sz_bot', 'release_extension', 'description'],\n",
       "      dtype='object')"
      ]
     },
     "execution_count": 5,
     "metadata": {},
     "output_type": "execute_result"
    }
   ],
   "source": [
    "baseball.columns"
   ]
  },
  {
   "cell_type": "code",
   "execution_count": 6,
   "metadata": {},
   "outputs": [
    {
     "data": {
      "text/html": [
       "<div>\n",
       "<style scoped>\n",
       "    .dataframe tbody tr th:only-of-type {\n",
       "        vertical-align: middle;\n",
       "    }\n",
       "\n",
       "    .dataframe tbody tr th {\n",
       "        vertical-align: top;\n",
       "    }\n",
       "\n",
       "    .dataframe thead th {\n",
       "        text-align: right;\n",
       "    }\n",
       "</style>\n",
       "<table border=\"1\" class=\"dataframe\">\n",
       "  <thead>\n",
       "    <tr style=\"text-align: right;\">\n",
       "      <th></th>\n",
       "      <th>release_speed</th>\n",
       "      <th>release_spin_rate</th>\n",
       "      <th>release_pos_x</th>\n",
       "      <th>release_pos_y</th>\n",
       "      <th>release_pos_z</th>\n",
       "      <th>pfx_x</th>\n",
       "      <th>pfx_z</th>\n",
       "      <th>vx0</th>\n",
       "      <th>vy0</th>\n",
       "      <th>vz0</th>\n",
       "      <th>...</th>\n",
       "      <th>pitch_2-Seam Fastball</th>\n",
       "      <th>pitch_4-Seam Fastball</th>\n",
       "      <th>pitch_Changeup</th>\n",
       "      <th>pitch_Curveball</th>\n",
       "      <th>pitch_Cutter</th>\n",
       "      <th>pitch_Eephus</th>\n",
       "      <th>pitch_Knuckle Curve</th>\n",
       "      <th>pitch_Sinker</th>\n",
       "      <th>pitch_Slider</th>\n",
       "      <th>pitch_Split Finger</th>\n",
       "    </tr>\n",
       "  </thead>\n",
       "  <tbody>\n",
       "    <tr>\n",
       "      <th>0</th>\n",
       "      <td>95.1</td>\n",
       "      <td>2314.0</td>\n",
       "      <td>3.2655</td>\n",
       "      <td>54.4995</td>\n",
       "      <td>5.2575</td>\n",
       "      <td>1.7213</td>\n",
       "      <td>0.4271</td>\n",
       "      <td>-9.8035</td>\n",
       "      <td>-138.1130</td>\n",
       "      <td>0.1339</td>\n",
       "      <td>...</td>\n",
       "      <td>1</td>\n",
       "      <td>0</td>\n",
       "      <td>0</td>\n",
       "      <td>0</td>\n",
       "      <td>0</td>\n",
       "      <td>0</td>\n",
       "      <td>0</td>\n",
       "      <td>0</td>\n",
       "      <td>0</td>\n",
       "      <td>0</td>\n",
       "    </tr>\n",
       "    <tr>\n",
       "      <th>1</th>\n",
       "      <td>96.7</td>\n",
       "      <td>2324.0</td>\n",
       "      <td>3.1728</td>\n",
       "      <td>54.3094</td>\n",
       "      <td>5.3966</td>\n",
       "      <td>0.9349</td>\n",
       "      <td>1.0015</td>\n",
       "      <td>-9.0084</td>\n",
       "      <td>-140.5865</td>\n",
       "      <td>-2.4218</td>\n",
       "      <td>...</td>\n",
       "      <td>0</td>\n",
       "      <td>1</td>\n",
       "      <td>0</td>\n",
       "      <td>0</td>\n",
       "      <td>0</td>\n",
       "      <td>0</td>\n",
       "      <td>0</td>\n",
       "      <td>0</td>\n",
       "      <td>0</td>\n",
       "      <td>0</td>\n",
       "    </tr>\n",
       "    <tr>\n",
       "      <th>2</th>\n",
       "      <td>80.8</td>\n",
       "      <td>2521.0</td>\n",
       "      <td>3.3517</td>\n",
       "      <td>55.0820</td>\n",
       "      <td>5.1205</td>\n",
       "      <td>-1.0168</td>\n",
       "      <td>-0.1223</td>\n",
       "      <td>-3.7285</td>\n",
       "      <td>-117.3223</td>\n",
       "      <td>1.2140</td>\n",
       "      <td>...</td>\n",
       "      <td>0</td>\n",
       "      <td>0</td>\n",
       "      <td>0</td>\n",
       "      <td>0</td>\n",
       "      <td>0</td>\n",
       "      <td>0</td>\n",
       "      <td>0</td>\n",
       "      <td>0</td>\n",
       "      <td>1</td>\n",
       "      <td>0</td>\n",
       "    </tr>\n",
       "    <tr>\n",
       "      <th>3</th>\n",
       "      <td>96.2</td>\n",
       "      <td>2329.0</td>\n",
       "      <td>3.1334</td>\n",
       "      <td>54.0207</td>\n",
       "      <td>5.2136</td>\n",
       "      <td>1.3175</td>\n",
       "      <td>0.9402</td>\n",
       "      <td>-12.0533</td>\n",
       "      <td>-139.3669</td>\n",
       "      <td>-5.1407</td>\n",
       "      <td>...</td>\n",
       "      <td>0</td>\n",
       "      <td>1</td>\n",
       "      <td>0</td>\n",
       "      <td>0</td>\n",
       "      <td>0</td>\n",
       "      <td>0</td>\n",
       "      <td>0</td>\n",
       "      <td>0</td>\n",
       "      <td>0</td>\n",
       "      <td>0</td>\n",
       "    </tr>\n",
       "    <tr>\n",
       "      <th>4</th>\n",
       "      <td>96.5</td>\n",
       "      <td>2437.0</td>\n",
       "      <td>3.3033</td>\n",
       "      <td>54.3597</td>\n",
       "      <td>5.0589</td>\n",
       "      <td>1.2794</td>\n",
       "      <td>0.7425</td>\n",
       "      <td>-14.0287</td>\n",
       "      <td>-139.8559</td>\n",
       "      <td>-3.3434</td>\n",
       "      <td>...</td>\n",
       "      <td>0</td>\n",
       "      <td>1</td>\n",
       "      <td>0</td>\n",
       "      <td>0</td>\n",
       "      <td>0</td>\n",
       "      <td>0</td>\n",
       "      <td>0</td>\n",
       "      <td>0</td>\n",
       "      <td>0</td>\n",
       "      <td>0</td>\n",
       "    </tr>\n",
       "  </tbody>\n",
       "</table>\n",
       "<p>5 rows × 24 columns</p>\n",
       "</div>"
      ],
      "text/plain": [
       "   release_speed  release_spin_rate  release_pos_x  release_pos_y  \\\n",
       "0           95.1             2314.0         3.2655        54.4995   \n",
       "1           96.7             2324.0         3.1728        54.3094   \n",
       "2           80.8             2521.0         3.3517        55.0820   \n",
       "3           96.2             2329.0         3.1334        54.0207   \n",
       "4           96.5             2437.0         3.3033        54.3597   \n",
       "\n",
       "   release_pos_z   pfx_x   pfx_z      vx0       vy0     vz0  \\\n",
       "0         5.2575  1.7213  0.4271  -9.8035 -138.1130  0.1339   \n",
       "1         5.3966  0.9349  1.0015  -9.0084 -140.5865 -2.4218   \n",
       "2         5.1205 -1.0168 -0.1223  -3.7285 -117.3223  1.2140   \n",
       "3         5.2136  1.3175  0.9402 -12.0533 -139.3669 -5.1407   \n",
       "4         5.0589  1.2794  0.7425 -14.0287 -139.8559 -3.3434   \n",
       "\n",
       "          ...          pitch_2-Seam Fastball  pitch_4-Seam Fastball  \\\n",
       "0         ...                              1                      0   \n",
       "1         ...                              0                      1   \n",
       "2         ...                              0                      0   \n",
       "3         ...                              0                      1   \n",
       "4         ...                              0                      1   \n",
       "\n",
       "   pitch_Changeup  pitch_Curveball  pitch_Cutter  pitch_Eephus  \\\n",
       "0               0                0             0             0   \n",
       "1               0                0             0             0   \n",
       "2               0                0             0             0   \n",
       "3               0                0             0             0   \n",
       "4               0                0             0             0   \n",
       "\n",
       "   pitch_Knuckle Curve  pitch_Sinker  pitch_Slider  pitch_Split Finger  \n",
       "0                    0             0             0                   0  \n",
       "1                    0             0             0                   0  \n",
       "2                    0             0             1                   0  \n",
       "3                    0             0             0                   0  \n",
       "4                    0             0             0                   0  \n",
       "\n",
       "[5 rows x 24 columns]"
      ]
     },
     "execution_count": 6,
     "metadata": {},
     "output_type": "execute_result"
    }
   ],
   "source": [
    "final_df = baseball.loc[:, ['p_throws', 'pitch_name', 'release_speed',\n",
    "       'release_spin_rate', 'release_pos_x', 'release_pos_y', 'release_pos_z',\n",
    "       'pfx_x', 'pfx_z', 'vx0', 'vy0', 'vz0',  'sz_top',\n",
    "       'sz_bot',]]\n",
    "\n",
    "final_df=pd.get_dummies(final_df, prefix = 'pitch')\n",
    "final_df.head()"
   ]
  },
  {
   "cell_type": "code",
   "execution_count": 7,
   "metadata": {},
   "outputs": [
    {
     "name": "stdout",
     "output_type": "stream",
     "text": [
      "Index(['release_speed', 'release_spin_rate', 'release_pos_x', 'release_pos_y',\n",
      "       'release_pos_z', 'pfx_x', 'pfx_z', 'vx0', 'vy0', 'vz0', 'sz_top',\n",
      "       'sz_bot', 'pitch_L', 'pitch_R', 'pitch_2-Seam Fastball',\n",
      "       'pitch_4-Seam Fastball', 'pitch_Changeup', 'pitch_Curveball',\n",
      "       'pitch_Cutter', 'pitch_Eephus', 'pitch_Knuckle Curve', 'pitch_Sinker',\n",
      "       'pitch_Slider', 'pitch_Split Finger'],\n",
      "      dtype='object')\n"
     ]
    }
   ],
   "source": [
    "print(final_df.columns)"
   ]
  },
  {
   "cell_type": "markdown",
   "metadata": {},
   "source": [
    "## Simple Random Forest, to evaluatate new features"
   ]
  },
  {
   "cell_type": "code",
   "execution_count": 8,
   "metadata": {},
   "outputs": [],
   "source": [
    "from imblearn.pipeline import make_pipeline, Pipeline\n",
    "from sklearn.tree import DecisionTreeClassifier\n",
    "from sklearn.decomposition import PCA\n",
    "from sklearn.model_selection import cross_val_score, train_test_split"
   ]
  },
  {
   "cell_type": "code",
   "execution_count": 12,
   "metadata": {},
   "outputs": [
    {
     "name": "stdout",
     "output_type": "stream",
     "text": [
      "Accuracy Score: 0.5701501976284585\n",
      "\n",
      "Classification Report: \n",
      "               precision    recall  f1-score   support\n",
      "\n",
      "           0       0.87      0.44      0.58     21552\n",
      "           1       0.42      0.85      0.56     10073\n",
      "\n",
      "    accuracy                           0.57     31625\n",
      "   macro avg       0.64      0.65      0.57     31625\n",
      "weighted avg       0.72      0.57      0.57     31625\n",
      "\n",
      "\n",
      " Confustion Matrix: \n",
      " [[ 9424 12128]\n",
      " [ 1466  8607]]\n"
     ]
    }
   ],
   "source": [
    "X_train, X_test, y_train, y_test = train_test_split(final_df,\n",
    "                                                    baseball['description'], random_state = 777)\n",
    "under_sampler = RandomUnderSampler(ratio = 1, random_state = 777)\n",
    "\n",
    "tree = DecisionTreeClassifier(max_depth=4)\n",
    "\n",
    "pipe = imblearn.pipeline.make_pipeline(under_sampler,tree)\n",
    "\n",
    "\n",
    "\n",
    "pipe.fit(X_train, y_train)\n",
    "\n",
    "pred = pipe.predict(X_test)\n",
    "def eval_test_set(x_test_predictions, y_test):\n",
    "    print(f\"Accuracy Score: {metrics.accuracy_score(y_test, x_test_predictions)}\")\n",
    "    print()\n",
    "    print(f\"Classification Report: \\n {metrics.classification_report(y_test, x_test_predictions)}\")\n",
    "    print()\n",
    "    print(f\" Confustion Matrix: \\n {metrics.confusion_matrix(y_test, x_test_predictions)}\")\n",
    "\n",
    "eval_test_set(pred, y_test)\n",
    "\n"
   ]
  },
  {
   "cell_type": "code",
   "execution_count": 17,
   "metadata": {},
   "outputs": [
    {
     "data": {
      "text/plain": [
       "<matplotlib.axes._subplots.AxesSubplot at 0x7f9a6f0d1860>"
      ]
     },
     "execution_count": 17,
     "metadata": {},
     "output_type": "execute_result"
    },
    {
     "data": {
      "image/png": "[encoded data removed]",
      "text/plain": [
       "<Figure size 432x288 with 1 Axes>"
      ]
     },
     "metadata": {
      "needs_background": "light"
     },
     "output_type": "display_data"
    }
   ],
   "source": [
    "\n",
    "pd.Series(pipe[1].feature_importances_, index=X_train.columns).plot(kind = 'barh')"
   ]
  },
  {
   "cell_type": "markdown",
   "metadata": {},
   "source": [
    "## USE PCA"
   ]
  },
  {
   "cell_type": "code",
   "execution_count": 18,
   "metadata": {},
   "outputs": [
    {
     "name": "stdout",
     "output_type": "stream",
     "text": [
      "Number of Components: 3\n",
      "---------------------------------------------------------------------------\n",
      "\n",
      "Mean train_accuracy Value: 0.5153098361403231\n",
      "train_accuracy scores: [0.49547812 0.51659315 0.53385824]\n",
      "\n",
      "Mean test_accuracy Value: 0.5128647567415152\n",
      "test_accuracy scores: [0.49479842 0.51078295 0.5330129 ]\n",
      "\n",
      "Mean train_f1 Value: 0.4771917742629419\n",
      "train_f1 scores: [0.4837906  0.47921102 0.46857369]\n",
      "\n",
      "Mean test_f1 Value: 0.47438945304679914\n",
      "test_f1 scores: [0.48516096 0.47253759 0.46546981]\n",
      "\n",
      "Mean train_roc_auc Value: 0.5830939844000681\n",
      "train_roc_auc scores: [0.58062354 0.58766671 0.58099171]\n",
      "\n",
      "Mean test_roc_auc Value: 0.5785172712177666\n",
      "test_roc_auc scores: [0.58259639 0.57443279 0.57852264]\n",
      "\n",
      "Number of Components: 4\n",
      "---------------------------------------------------------------------------\n",
      "\n",
      "Mean train_accuracy Value: 0.5977516986313747\n",
      "train_accuracy scores: [0.59156021 0.59991462 0.60178027]\n",
      "\n",
      "Mean test_accuracy Value: 0.5943103671699784\n",
      "test_accuracy scores: [0.58684585 0.60077789 0.59530736]\n",
      "\n",
      "Mean train_f1 Value: 0.5600883026884999\n",
      "train_f1 scores: [0.57010201 0.55652723 0.55363567]\n",
      "\n",
      "Mean test_f1 Value: 0.5565283698669671\n",
      "test_f1 scores: [0.56501764 0.55752988 0.54703759]\n",
      "\n",
      "Mean train_roc_auc Value: 0.6790313085812288\n",
      "train_roc_auc scores: [0.68156204 0.67934081 0.67619107]\n",
      "\n",
      "Mean test_roc_auc Value: 0.6751150496776157\n",
      "test_roc_auc scores: [0.67618501 0.67789032 0.67126982]\n",
      "\n",
      "Number of Components: 5\n",
      "---------------------------------------------------------------------------\n",
      "\n",
      "Mean train_accuracy Value: 0.5977516986313747\n",
      "train_accuracy scores: [0.59156021 0.59991462 0.60178027]\n",
      "\n",
      "Mean test_accuracy Value: 0.5943103671699784\n",
      "test_accuracy scores: [0.58684585 0.60077789 0.59530736]\n",
      "\n",
      "Mean train_f1 Value: 0.5600883026884999\n",
      "train_f1 scores: [0.57010201 0.55652723 0.55363567]\n",
      "\n",
      "Mean test_f1 Value: 0.5565283698669671\n",
      "test_f1 scores: [0.56501764 0.55752988 0.54703759]\n",
      "\n",
      "Mean train_roc_auc Value: 0.6790313085812288\n",
      "train_roc_auc scores: [0.68156204 0.67934081 0.67619107]\n",
      "\n",
      "Mean test_roc_auc Value: 0.6751150496776157\n",
      "test_roc_auc scores: [0.67618501 0.67789032 0.67126982]\n",
      "\n",
      "Number of Components: 6\n",
      "---------------------------------------------------------------------------\n",
      "\n",
      "Mean train_accuracy Value: 0.675840354789018\n",
      "train_accuracy scores: [0.67980015 0.68303056 0.66469035]\n",
      "\n",
      "Mean test_accuracy Value: 0.6710971144145289\n",
      "test_accuracy scores: [0.67456126 0.68011637 0.65861371]\n",
      "\n",
      "Mean train_f1 Value: 0.6220773585472639\n",
      "train_f1 scores: [0.62216418 0.62356829 0.62049961]\n",
      "\n",
      "Mean test_f1 Value: 0.6175590602250844\n",
      "test_f1 scores: [0.61625652 0.61904045 0.61738021]\n",
      "\n",
      "Mean train_roc_auc Value: 0.7487083014251121\n",
      "train_roc_auc scores: [0.74703527 0.74932777 0.74976186]\n",
      "\n",
      "Mean test_roc_auc Value: 0.7443426300074555\n",
      "test_roc_auc scores: [0.74378734 0.74367371 0.74556685]\n",
      "\n"
     ]
    }
   ],
   "source": [
    "\n",
    "cv_results_lst = []\n",
    "for n_components in [3,4,5,6]:\n",
    "    print(f\"Number of Components: {n_components}\")\n",
    "    print('-'*75)\n",
    "    print()\n",
    "    pca = PCA(n_components=n_components)\n",
    "    tree = DecisionTreeClassifier(max_depth=4)\n",
    "    \n",
    "    pipe = Pipeline(steps = [\n",
    "        ('sampler', under_sampler), #RandomUnderSampler(ratio = 1, random_state = 777)\n",
    "        ('pca', pca),\n",
    "        ('tree', tree)\n",
    "    ])\n",
    "    \n",
    "    cv_results = cross_validate(pipe, X_train, y_train, scoring = ['accuracy', 'f1', 'roc_auc'], \n",
    "                                cv =3, return_estimator=True, return_train_score = True)\n",
    "\n",
    "    cv_results_lst.append(cv_results)\n",
    "    for result in ['train_accuracy', 'test_accuracy', 'train_f1', 'test_f1', 'train_roc_auc', 'test_roc_auc']:\n",
    "        print(f\"Mean {result} Value: {np.mean(cv_results[result])}\")\n",
    "        print(f\"{result} scores: {cv_results[result]}\")\n",
    "        print() \n",
    "    \n",
    "\n",
    "    \n"
   ]
  },
  {
   "cell_type": "code",
   "execution_count": 19,
   "metadata": {},
   "outputs": [
    {
     "data": {
      "text/plain": [
       "Pipeline(memory=None,\n",
       "         steps=[('sampler',\n",
       "                 RandomUnderSampler(random_state=777, ratio=1,\n",
       "                                    replacement=False, return_indices=False,\n",
       "                                    sampling_strategy=1)),\n",
       "                ('pca',\n",
       "                 PCA(copy=True, iterated_power='auto', n_components=6,\n",
       "                     random_state=None, svd_solver='auto', tol=0.0,\n",
       "                     whiten=False)),\n",
       "                ('tree',\n",
       "                 DecisionTreeClassifier(class_weight=None, criterion='gini',\n",
       "                                        max_depth=4, max_features=None,\n",
       "                                        max_leaf_nodes=None,\n",
       "                                        min_impurity_decrease=0.0,\n",
       "                                        min_impurity_split=None,\n",
       "                                        min_samples_leaf=1, min_samples_split=2,\n",
       "                                        min_weight_fraction_leaf=0.0,\n",
       "                                        presort=False, random_state=None,\n",
       "                                        splitter='best'))],\n",
       "         verbose=False)"
      ]
     },
     "execution_count": 19,
     "metadata": {},
     "output_type": "execute_result"
    }
   ],
   "source": [
    "cv_results_lst[3]['estimator'][0] #n_components of 6, as it performed best"
   ]
  },
  {
   "cell_type": "code",
   "execution_count": 20,
   "metadata": {},
   "outputs": [
    {
     "name": "stdout",
     "output_type": "stream",
     "text": [
      "Accuracy Score: 0.6754466403162055\n",
      "\n",
      "Classification Report: \n",
      "               precision    recall  f1-score   support\n",
      "\n",
      "           0       0.88      0.61      0.72     21552\n",
      "           1       0.49      0.82      0.62     10073\n",
      "\n",
      "    accuracy                           0.68     31625\n",
      "   macro avg       0.69      0.71      0.67     31625\n",
      "weighted avg       0.76      0.68      0.69     31625\n",
      "\n",
      "\n",
      " Confustion Matrix: \n",
      " [[13083  8469]\n",
      " [ 1795  8278]]\n"
     ]
    }
   ],
   "source": [
    "predictions = cv_results_lst[3]['estimator'][0].predict(X_test)\n",
    "\n",
    "def eval_test_set(x_test_predictions, y_test):\n",
    "    print(f\"Accuracy Score: {metrics.accuracy_score(y_test, x_test_predictions)}\")\n",
    "    print()\n",
    "    print(f\"Classification Report: \\n {metrics.classification_report(y_test, x_test_predictions)}\")\n",
    "    print()\n",
    "    print(f\" Confustion Matrix: \\n {metrics.confusion_matrix(y_test, x_test_predictions)}\")\n",
    "\n",
    "eval_test_set(predictions, y_test)"
   ]
  },
  {
   "cell_type": "code",
   "execution_count": 21,
   "metadata": {},
   "outputs": [
    {
     "data": {
      "text/plain": [
       "<matplotlib.axes._subplots.AxesSubplot at 0x7f9a6eec22e8>"
      ]
     },
     "execution_count": 21,
     "metadata": {},
     "output_type": "execute_result"
    },
    {
     "data": {
      "image/png": "[encoded data removed]",
      "text/plain": [
       "<Figure size 432x288 with 1 Axes>"
      ]
     },
     "metadata": {
      "needs_background": "light"
     },
     "output_type": "display_data"
    }
   ],
   "source": [
    "pd.Series(cv_results_lst[3]['estimator'][0][2].feature_importances_).plot(kind = 'barh')"
   ]
  },
  {
   "cell_type": "code",
   "execution_count": 22,
   "metadata": {},
   "outputs": [
    {
     "data": {
      "text/plain": [
       "0    0.998145\n",
       "1    0.001302\n",
       "2    0.000442\n",
       "3    0.000082\n",
       "4    0.000009\n",
       "5    0.000004\n",
       "dtype: float64"
      ]
     },
     "execution_count": 22,
     "metadata": {},
     "output_type": "execute_result"
    }
   ],
   "source": [
    "pd.Series(cv_results_lst[3]['estimator'][0][1].explained_variance_ratio_)"
   ]
  },
  {
   "cell_type": "code",
   "execution_count": null,
   "metadata": {},
   "outputs": [],
   "source": []
  }
 ],
 "metadata": {
  "kernelspec": {
   "display_name": "Python 3",
   "language": "python",
   "name": "python3"
  },
  "language_info": {
   "codemirror_mode": {
    "name": "ipython",
    "version": 3
   },
   "file_extension": ".py",
   "mimetype": "text/x-python",
   "name": "python",
   "nbconvert_exporter": "python",
   "pygments_lexer": "ipython3",
   "version": "3.6.7"
  }
 },
 "nbformat": 4,
 "nbformat_minor": 2
}
