{
 "cells": [
  {
   "cell_type": "markdown",
   "metadata": {},
   "source": [
    "# Baseball EDA\n",
    "## Change all according info below\n",
    "\n",
    "This file goes through an analytical pipeline of the Statcast baseball data collected from the `Data_Collection.ipynb` notebook. This file will detail a baseline performance using two methods: Logistic Regression and Decision Tree. These two models are specifically chosen for two main reasons: first is that they serve the role of \"traditional models\", and second is that they are, to an extent, interpretable. These two models, Logistic Regression and Decision Trees, will serve as a comparison in terms of performance and interpretability to models used in ***OTHER_NOTEBOOK***. The ultimate goal of this analytical project is utilize newer, more advanced modeling methods and extract knowledge with interpretation techniques. Thus, a benchmark needs to be established, both in terms of performance metrics (Accuracy, AUC, etc.) and interpretation power, in this case, coefficients and tree structure, to conclude that the proposed models and interpretation techniques do provide significant advantages over such traditional methods.\n",
    "\n",
    "As such, the following will outline the process of this notebook. The main goals include: \n",
    "- Establish performance metrics for both models on raw data.\n",
    "- Investigate interpretable aspects for both models. Explore the validity of such aspects\n",
    "- Establish appropriate preprocessing steps to improve performance of models\n",
    "- Re-evaluate models on processed data\n",
    "- Investigate interpretable aspects on model built on processed data\n",
    "\n",
    "## Outline of Notebook\n",
    "\n",
    "Here is the outline of steps to be performed in this notebook.\n",
    "\n",
    "1. Read in data.\n",
    "    - Structure data as Pandas Dataframe\n",
    "2. Ensure data quality\n",
    "    - Investiate and remedy possible issues, such as missing data, poorly formatted data, data types, etc.\n",
    "        - Check missing data\n",
    "        - Check data types\n",
    "        - Initial check on data values, see if any illogical values (for instance, 0mph for pitch speed)\n",
    "3. Light Exploratory Data Analysis\n",
    "    - Visualize data distributions, measures of central tendencies, correlations\n",
    "        - Build Histograms\n",
    "        - Build Box-plots\n",
    "        - Scatter plots of interesting features noted in step 2\n",
    "        - Build correlation matrix\n",
    "        - Check target feature balance\n",
    "        - Analysis of each\n",
    "4. Establish initial baselines\n",
    "    - Establish models with initial hyperparameters used in sci-kit learn library. Build training and testing split procedures, and train models on appropriate splits\n",
    "        - If target value imbalance, balance out levels using simple oversampler\n",
    "        - Instantiate models using scikit-learn library\n",
    "        - Build cross-validation schema\n",
    "        - Implement model with cross-validation schema\n",
    "        - Show evaluation metrics: classification accuracy, f1 score, AUC\n",
    "5. Interpret both models\n",
    "    - Look into models more in depth\n",
    "        - Logit Regression: show coefficients\n",
    "        - Decision Tree: Visualize the tree in the notebook\n",
    "        - Analyze both elements\n",
    "6. Apply data preprocessing steps\n",
    "    - Build data pipelines with preprocessing steps to improve results\n",
    "        - Feature selection based on correlation analysis, statistical methods\n",
    "        - Possible PCA\n",
    "        - Data standardization\n",
    "7. Re-Evaluate models \n",
    "    - Compare results of raw data pipeline with preprocessed data pipeline. For better performing pipeline:\n",
    "        - run simple grid-search of hyperparameters to get best performance. \n",
    "        - Note: number of leaves on decision tree cannot be too large; we want to keep the ability to visualize and understand its decision rules.\n",
    "        - re-evaluate results using grid-search best hyperparameters. \n",
    "        \n"
   ]
  },
  {
   "cell_type": "markdown",
   "metadata": {},
   "source": [
    "## Begin Initial Pipeline\n",
    "\n",
    "### Start with Data Input"
   ]
  },
  {
   "cell_type": "code",
   "execution_count": 1,
   "metadata": {},
   "outputs": [],
   "source": [
    "#start with all dependencies\n",
    "\n",
    "import numpy as np\n",
    "import pandas as pd\n",
    "import sklearn\n",
    "import sklearn.metrics as metrics\n",
    "from sklearn.model_selection import cross_val_score\n",
    "from sklearn.linear_model import LogisticRegression\n",
    "from sklearn.tree import DecisionTreeRegressor\n",
    "import matplotlib.pyplot as plt\n",
    "%matplotlib inline\n",
    "import imblearn\n",
    "import seaborn as sns\n",
    "sns.set()"
   ]
  },
  {
   "cell_type": "code",
   "execution_count": 2,
   "metadata": {},
   "outputs": [
    {
     "data": {
      "text/html": [
       "<div>\n",
       "<style scoped>\n",
       "    .dataframe tbody tr th:only-of-type {\n",
       "        vertical-align: middle;\n",
       "    }\n",
       "\n",
       "    .dataframe tbody tr th {\n",
       "        vertical-align: top;\n",
       "    }\n",
       "\n",
       "    .dataframe thead th {\n",
       "        text-align: right;\n",
       "    }\n",
       "</style>\n",
       "<table border=\"1\" class=\"dataframe\">\n",
       "  <thead>\n",
       "    <tr style=\"text-align: right;\">\n",
       "      <th></th>\n",
       "      <th>player_name</th>\n",
       "      <th>pitch_name</th>\n",
       "      <th>release_speed</th>\n",
       "      <th>release_spin_rate</th>\n",
       "      <th>release_pos_x</th>\n",
       "      <th>release_pos_y</th>\n",
       "      <th>release_pos_z</th>\n",
       "      <th>pfx_x</th>\n",
       "      <th>pfx_z</th>\n",
       "      <th>vx0</th>\n",
       "      <th>vy0</th>\n",
       "      <th>vz0</th>\n",
       "      <th>ax</th>\n",
       "      <th>ay</th>\n",
       "      <th>az</th>\n",
       "      <th>sz_top</th>\n",
       "      <th>sz_bot</th>\n",
       "      <th>release_extension</th>\n",
       "      <th>description</th>\n",
       "    </tr>\n",
       "  </thead>\n",
       "  <tbody>\n",
       "    <tr>\n",
       "      <th>128795</th>\n",
       "      <td>Ken Giles</td>\n",
       "      <td>4-Seam Fastball</td>\n",
       "      <td>96.8</td>\n",
       "      <td>2252.0</td>\n",
       "      <td>-2.0947</td>\n",
       "      <td>54.8756</td>\n",
       "      <td>6.1266</td>\n",
       "      <td>-0.5925</td>\n",
       "      <td>1.4848</td>\n",
       "      <td>3.5119</td>\n",
       "      <td>-140.7344</td>\n",
       "      <td>-5.5570</td>\n",
       "      <td>-8.4711</td>\n",
       "      <td>31.5861</td>\n",
       "      <td>-11.9222</td>\n",
       "      <td>3.4640</td>\n",
       "      <td>1.5896</td>\n",
       "      <td>5.624</td>\n",
       "      <td>ball</td>\n",
       "    </tr>\n",
       "    <tr>\n",
       "      <th>128796</th>\n",
       "      <td>Ken Giles</td>\n",
       "      <td>Slider</td>\n",
       "      <td>88.0</td>\n",
       "      <td>2316.0</td>\n",
       "      <td>-1.9062</td>\n",
       "      <td>56.1755</td>\n",
       "      <td>6.2282</td>\n",
       "      <td>0.2870</td>\n",
       "      <td>0.1921</td>\n",
       "      <td>7.9625</td>\n",
       "      <td>-127.3866</td>\n",
       "      <td>-4.9651</td>\n",
       "      <td>1.1966</td>\n",
       "      <td>27.3637</td>\n",
       "      <td>-29.4953</td>\n",
       "      <td>3.2302</td>\n",
       "      <td>1.5342</td>\n",
       "      <td>4.324</td>\n",
       "      <td>ball</td>\n",
       "    </tr>\n",
       "    <tr>\n",
       "      <th>128797</th>\n",
       "      <td>Ken Giles</td>\n",
       "      <td>4-Seam Fastball</td>\n",
       "      <td>95.9</td>\n",
       "      <td>2512.0</td>\n",
       "      <td>-1.8896</td>\n",
       "      <td>55.3921</td>\n",
       "      <td>6.4011</td>\n",
       "      <td>-0.8028</td>\n",
       "      <td>1.5344</td>\n",
       "      <td>7.4805</td>\n",
       "      <td>-139.0689</td>\n",
       "      <td>-10.6161</td>\n",
       "      <td>-11.5094</td>\n",
       "      <td>26.4429</td>\n",
       "      <td>-11.1119</td>\n",
       "      <td>3.4374</td>\n",
       "      <td>1.3679</td>\n",
       "      <td>5.106</td>\n",
       "      <td>called_strike</td>\n",
       "    </tr>\n",
       "    <tr>\n",
       "      <th>128798</th>\n",
       "      <td>Ken Giles</td>\n",
       "      <td>4-Seam Fastball</td>\n",
       "      <td>97.7</td>\n",
       "      <td>2400.0</td>\n",
       "      <td>-2.2301</td>\n",
       "      <td>55.0385</td>\n",
       "      <td>6.0804</td>\n",
       "      <td>-1.0659</td>\n",
       "      <td>1.3443</td>\n",
       "      <td>5.9860</td>\n",
       "      <td>-141.6711</td>\n",
       "      <td>-7.2205</td>\n",
       "      <td>-15.3199</td>\n",
       "      <td>35.5183</td>\n",
       "      <td>-13.2212</td>\n",
       "      <td>3.3353</td>\n",
       "      <td>1.6169</td>\n",
       "      <td>5.460</td>\n",
       "      <td>called_strike</td>\n",
       "    </tr>\n",
       "    <tr>\n",
       "      <th>128799</th>\n",
       "      <td>Ken Giles</td>\n",
       "      <td>Slider</td>\n",
       "      <td>86.0</td>\n",
       "      <td>2179.0</td>\n",
       "      <td>-1.9239</td>\n",
       "      <td>55.5515</td>\n",
       "      <td>6.1872</td>\n",
       "      <td>-0.0142</td>\n",
       "      <td>0.1733</td>\n",
       "      <td>3.7824</td>\n",
       "      <td>-124.7511</td>\n",
       "      <td>-5.4985</td>\n",
       "      <td>-0.9959</td>\n",
       "      <td>28.2202</td>\n",
       "      <td>-29.5437</td>\n",
       "      <td>3.2713</td>\n",
       "      <td>1.5507</td>\n",
       "      <td>4.951</td>\n",
       "      <td>ball</td>\n",
       "    </tr>\n",
       "  </tbody>\n",
       "</table>\n",
       "</div>"
      ],
      "text/plain": [
       "       player_name       pitch_name  release_speed  release_spin_rate  \\\n",
       "128795   Ken Giles  4-Seam Fastball           96.8             2252.0   \n",
       "128796   Ken Giles           Slider           88.0             2316.0   \n",
       "128797   Ken Giles  4-Seam Fastball           95.9             2512.0   \n",
       "128798   Ken Giles  4-Seam Fastball           97.7             2400.0   \n",
       "128799   Ken Giles           Slider           86.0             2179.0   \n",
       "\n",
       "        release_pos_x  release_pos_y  release_pos_z   pfx_x   pfx_z     vx0  \\\n",
       "128795        -2.0947        54.8756         6.1266 -0.5925  1.4848  3.5119   \n",
       "128796        -1.9062        56.1755         6.2282  0.2870  0.1921  7.9625   \n",
       "128797        -1.8896        55.3921         6.4011 -0.8028  1.5344  7.4805   \n",
       "128798        -2.2301        55.0385         6.0804 -1.0659  1.3443  5.9860   \n",
       "128799        -1.9239        55.5515         6.1872 -0.0142  0.1733  3.7824   \n",
       "\n",
       "             vy0      vz0       ax       ay       az  sz_top  sz_bot  \\\n",
       "128795 -140.7344  -5.5570  -8.4711  31.5861 -11.9222  3.4640  1.5896   \n",
       "128796 -127.3866  -4.9651   1.1966  27.3637 -29.4953  3.2302  1.5342   \n",
       "128797 -139.0689 -10.6161 -11.5094  26.4429 -11.1119  3.4374  1.3679   \n",
       "128798 -141.6711  -7.2205 -15.3199  35.5183 -13.2212  3.3353  1.6169   \n",
       "128799 -124.7511  -5.4985  -0.9959  28.2202 -29.5437  3.2713  1.5507   \n",
       "\n",
       "        release_extension    description  \n",
       "128795              5.624           ball  \n",
       "128796              4.324           ball  \n",
       "128797              5.106  called_strike  \n",
       "128798              5.460  called_strike  \n",
       "128799              4.951           ball  "
      ]
     },
     "execution_count": 2,
     "metadata": {},
     "output_type": "execute_result"
    }
   ],
   "source": [
    "#Read in the data as pandas dataframe\n",
    "data = 'Statcast_data.csv'\n",
    "\n",
    "def load_data(file):\n",
    "    '''Load the Statcast_data.csv file into a pandas dataframe.\n",
    "       Resolve unnecessary column in csv file'''\n",
    "    baseball = pd.read_csv('Statcast_data.csv', index_col = 0)\n",
    "    \n",
    "    return baseball\n",
    "\n",
    "baseball = load_data(data)\n",
    "\n",
    "baseball.tail()"
   ]
  },
  {
   "cell_type": "markdown",
   "metadata": {},
   "source": [
    "## Information regarding data REORDER FEATURES\n",
    "\n",
    "As detailed in the `Data_Collection.ipynb` notebook, here is a review of the meaning of features within the datset. \n",
    "\n",
    "Note that the distance from home plate, where the batter stands, and the pitcher’s mound, where the pitcher throws, is 60 feet and 2 inches. \n",
    "- Release_speed: pitch velocity, reported out-of-hand.\n",
    "- Release_pos_x: horizontal release position of the ball measured in feet from the catchers perspective.\n",
    "- Release_pos_z: vertical release position of the ball measured in feet from the catchers perspective.\n",
    "- Player_name: the name of the pitcher\n",
    "- Description: description of the resulting pitch: ball, blocked_ball, called strike.\n",
    "- P_throws: hand the pitcher throws with.\n",
    "- Pfx_x: Horizontal movement in feet from the catcher’s perspective.\n",
    "- Pfx_z: Vertical movement in feet from the catcher’s perspective.\n",
    "- Vx0: the velocity of the pitch, measured in feet per second, in the x-dimension, determined at y=50 feet.\n",
    "- Vy0: The velocity of the pitch, in feet per second, in the y-dimension, determined at y=50 feet.\n",
    "- Vz0: the velocity of the pitch, in feet per second, in the z-dimension, determined at y=50 feet.\n",
    "- ax: the acceleration of the pitch, in feet per second per second, in the x-dimension, determined at y=50 feet.\n",
    "- ay:   the acceleration of the pitch, in feet per second per second, in the y-dimension, determined at y=50 feet.\n",
    "- az: the acceleration of the pitch, in feet per second per second, in the z-dimension, determined at y=50 feet.\n",
    "- Sz_top: Top of the batter’s strike zone set by the operator when the ball is halfway to the plate\n",
    "- Sz_bottom: Bottom of the batter’s strike zone set by the operator when the ball is halfway to the plate.\n",
    "- Release_spin_rate: Spin rate of the pitch tracked by Statcast.\n",
    "- Release_extension: Release extension of pitch in feet as tracked by Statcast.\n",
    "- Release_pos_y: Release position of the pitch measured in feet from the catcher’s perspective\n",
    "- Pitch_name: the type of pitch derived from Statcast.\n",
    "\n",
    "## Data formatting steps \n",
    "\n",
    "Looking at the data, there are some aspects we need to address:\n",
    "\n",
    "- We have three classes in the target (description): called_strike, blocked_ball, and ball. All we need to do is consider a blocked_ball as a ball, because that is true. So we'll replace blocked_ball with ball.\n",
    "- Can drop the pitcher's name from the data, as we don't need such identifying information.\n",
    "- Formatting categorical variables. Need to format 'description' into binary 0/1, as mentioned above, and 'pitch_name' into a numeric representation. We'll perform a simple one-hot-encoding procedure. Only this step is concered with the modeling procedure; the previous two steps are simply trimming and restructuring of data, and isn't considered a part of a pipeline. \n",
    "\n",
    "Let's peform these steps now."
   ]
  },
  {
   "cell_type": "markdown",
   "metadata": {},
   "source": [
    "## Data formatting\n",
    "\n",
    "This is the second step in Outline of Notebook section above."
   ]
  },
  {
   "cell_type": "code",
   "execution_count": 3,
   "metadata": {},
   "outputs": [],
   "source": [
    "def format_data(bsb):\n",
    "    '''format the baseball data according to first two bullet points in Data Formatting Steps'''\n",
    "    \n",
    "    #format the classes of the target\n",
    "    bsb['description'] = bsb['description'].replace({'blocked_ball': 0, 'ball': 0, \"called_strike\": 1})\n",
    "    \n",
    "    #drop the player_name column\n",
    "    bsb = bsb.drop('player_name', axis = 1)\n",
    "\n",
    "    return bsb\n",
    "\n",
    "baseball= format_data(baseball)"
   ]
  },
  {
   "cell_type": "code",
   "execution_count": 4,
   "metadata": {},
   "outputs": [
    {
     "data": {
      "text/html": [
       "<div>\n",
       "<style scoped>\n",
       "    .dataframe tbody tr th:only-of-type {\n",
       "        vertical-align: middle;\n",
       "    }\n",
       "\n",
       "    .dataframe tbody tr th {\n",
       "        vertical-align: top;\n",
       "    }\n",
       "\n",
       "    .dataframe thead th {\n",
       "        text-align: right;\n",
       "    }\n",
       "</style>\n",
       "<table border=\"1\" class=\"dataframe\">\n",
       "  <thead>\n",
       "    <tr style=\"text-align: right;\">\n",
       "      <th></th>\n",
       "      <th>pitch_name</th>\n",
       "      <th>release_speed</th>\n",
       "      <th>release_spin_rate</th>\n",
       "      <th>release_pos_x</th>\n",
       "      <th>release_pos_y</th>\n",
       "      <th>release_pos_z</th>\n",
       "      <th>pfx_x</th>\n",
       "      <th>pfx_z</th>\n",
       "      <th>vx0</th>\n",
       "      <th>vy0</th>\n",
       "      <th>vz0</th>\n",
       "      <th>ax</th>\n",
       "      <th>ay</th>\n",
       "      <th>az</th>\n",
       "      <th>sz_top</th>\n",
       "      <th>sz_bot</th>\n",
       "      <th>release_extension</th>\n",
       "      <th>description</th>\n",
       "    </tr>\n",
       "  </thead>\n",
       "  <tbody>\n",
       "    <tr>\n",
       "      <th>128797</th>\n",
       "      <td>4-Seam Fastball</td>\n",
       "      <td>95.9</td>\n",
       "      <td>2512.0</td>\n",
       "      <td>-1.8896</td>\n",
       "      <td>55.3921</td>\n",
       "      <td>6.4011</td>\n",
       "      <td>-0.8028</td>\n",
       "      <td>1.5344</td>\n",
       "      <td>7.4805</td>\n",
       "      <td>-139.0689</td>\n",
       "      <td>-10.6161</td>\n",
       "      <td>-11.5094</td>\n",
       "      <td>26.4429</td>\n",
       "      <td>-11.1119</td>\n",
       "      <td>3.4374</td>\n",
       "      <td>1.3679</td>\n",
       "      <td>5.106</td>\n",
       "      <td>1</td>\n",
       "    </tr>\n",
       "    <tr>\n",
       "      <th>128798</th>\n",
       "      <td>4-Seam Fastball</td>\n",
       "      <td>97.7</td>\n",
       "      <td>2400.0</td>\n",
       "      <td>-2.2301</td>\n",
       "      <td>55.0385</td>\n",
       "      <td>6.0804</td>\n",
       "      <td>-1.0659</td>\n",
       "      <td>1.3443</td>\n",
       "      <td>5.9860</td>\n",
       "      <td>-141.6711</td>\n",
       "      <td>-7.2205</td>\n",
       "      <td>-15.3199</td>\n",
       "      <td>35.5183</td>\n",
       "      <td>-13.2212</td>\n",
       "      <td>3.3353</td>\n",
       "      <td>1.6169</td>\n",
       "      <td>5.460</td>\n",
       "      <td>1</td>\n",
       "    </tr>\n",
       "    <tr>\n",
       "      <th>128799</th>\n",
       "      <td>Slider</td>\n",
       "      <td>86.0</td>\n",
       "      <td>2179.0</td>\n",
       "      <td>-1.9239</td>\n",
       "      <td>55.5515</td>\n",
       "      <td>6.1872</td>\n",
       "      <td>-0.0142</td>\n",
       "      <td>0.1733</td>\n",
       "      <td>3.7824</td>\n",
       "      <td>-124.7511</td>\n",
       "      <td>-5.4985</td>\n",
       "      <td>-0.9959</td>\n",
       "      <td>28.2202</td>\n",
       "      <td>-29.5437</td>\n",
       "      <td>3.2713</td>\n",
       "      <td>1.5507</td>\n",
       "      <td>4.951</td>\n",
       "      <td>0</td>\n",
       "    </tr>\n",
       "  </tbody>\n",
       "</table>\n",
       "</div>"
      ],
      "text/plain": [
       "             pitch_name  release_speed  release_spin_rate  release_pos_x  \\\n",
       "128797  4-Seam Fastball           95.9             2512.0        -1.8896   \n",
       "128798  4-Seam Fastball           97.7             2400.0        -2.2301   \n",
       "128799           Slider           86.0             2179.0        -1.9239   \n",
       "\n",
       "        release_pos_y  release_pos_z   pfx_x   pfx_z     vx0       vy0  \\\n",
       "128797        55.3921         6.4011 -0.8028  1.5344  7.4805 -139.0689   \n",
       "128798        55.0385         6.0804 -1.0659  1.3443  5.9860 -141.6711   \n",
       "128799        55.5515         6.1872 -0.0142  0.1733  3.7824 -124.7511   \n",
       "\n",
       "            vz0       ax       ay       az  sz_top  sz_bot  release_extension  \\\n",
       "128797 -10.6161 -11.5094  26.4429 -11.1119  3.4374  1.3679              5.106   \n",
       "128798  -7.2205 -15.3199  35.5183 -13.2212  3.3353  1.6169              5.460   \n",
       "128799  -5.4985  -0.9959  28.2202 -29.5437  3.2713  1.5507              4.951   \n",
       "\n",
       "        description  \n",
       "128797            1  \n",
       "128798            1  \n",
       "128799            0  "
      ]
     },
     "execution_count": 4,
     "metadata": {},
     "output_type": "execute_result"
    }
   ],
   "source": [
    "baseball.tail(3)"
   ]
  },
  {
   "cell_type": "markdown",
   "metadata": {},
   "source": [
    "## Ensure Data Quality"
   ]
  },
  {
   "cell_type": "code",
   "execution_count": 5,
   "metadata": {},
   "outputs": [
    {
     "data": {
      "text/plain": [
       "pitch_name            483\n",
       "release_speed         478\n",
       "release_spin_rate    2280\n",
       "release_pos_x         502\n",
       "release_pos_y         502\n",
       "release_pos_z         502\n",
       "pfx_x                 502\n",
       "pfx_z                 502\n",
       "vx0                   502\n",
       "vy0                   502\n",
       "vz0                   502\n",
       "ax                    502\n",
       "ay                    502\n",
       "az                    502\n",
       "sz_top                306\n",
       "sz_bot                306\n",
       "release_extension     485\n",
       "description             0\n",
       "dtype: int64"
      ]
     },
     "execution_count": 5,
     "metadata": {},
     "output_type": "execute_result"
    }
   ],
   "source": [
    "#check missing\n",
    "baseball.isnull().sum()"
   ]
  },
  {
   "cell_type": "markdown",
   "metadata": {},
   "source": [
    "Have some missing values, but not enough to severly impact performance. Since this is a baseline performance pipeline anyway, we can remove all rows with missing values. This will only eliminate 2280/128799 = .017% of our data. \n",
    "\n",
    "Further analysis in the more in-depth pipelines will have to reveal the nature of the missing data: missing completely at random, missing at random, missing not at random?"
   ]
  },
  {
   "cell_type": "code",
   "execution_count": 6,
   "metadata": {},
   "outputs": [],
   "source": [
    "baseball = baseball.dropna(how='any')"
   ]
  },
  {
   "cell_type": "code",
   "execution_count": 7,
   "metadata": {},
   "outputs": [
    {
     "data": {
      "text/html": [
       "<div>\n",
       "<style scoped>\n",
       "    .dataframe tbody tr th:only-of-type {\n",
       "        vertical-align: middle;\n",
       "    }\n",
       "\n",
       "    .dataframe tbody tr th {\n",
       "        vertical-align: top;\n",
       "    }\n",
       "\n",
       "    .dataframe thead th {\n",
       "        text-align: right;\n",
       "    }\n",
       "</style>\n",
       "<table border=\"1\" class=\"dataframe\">\n",
       "  <thead>\n",
       "    <tr style=\"text-align: right;\">\n",
       "      <th></th>\n",
       "      <th>count</th>\n",
       "      <th>mean</th>\n",
       "      <th>std</th>\n",
       "      <th>min</th>\n",
       "      <th>25%</th>\n",
       "      <th>50%</th>\n",
       "      <th>75%</th>\n",
       "      <th>max</th>\n",
       "    </tr>\n",
       "  </thead>\n",
       "  <tbody>\n",
       "    <tr>\n",
       "      <th>release_speed</th>\n",
       "      <td>126498.0</td>\n",
       "      <td>88.744293</td>\n",
       "      <td>5.995683</td>\n",
       "      <td>56.0000</td>\n",
       "      <td>84.600000</td>\n",
       "      <td>90.20000</td>\n",
       "      <td>93.300000</td>\n",
       "      <td>104.4000</td>\n",
       "    </tr>\n",
       "    <tr>\n",
       "      <th>release_spin_rate</th>\n",
       "      <td>126498.0</td>\n",
       "      <td>2244.377208</td>\n",
       "      <td>310.195684</td>\n",
       "      <td>485.0000</td>\n",
       "      <td>2094.000000</td>\n",
       "      <td>2258.00000</td>\n",
       "      <td>2423.000000</td>\n",
       "      <td>3640.0000</td>\n",
       "    </tr>\n",
       "    <tr>\n",
       "      <th>release_pos_x</th>\n",
       "      <td>126498.0</td>\n",
       "      <td>-0.816727</td>\n",
       "      <td>1.972819</td>\n",
       "      <td>-5.0047</td>\n",
       "      <td>-2.205800</td>\n",
       "      <td>-1.57160</td>\n",
       "      <td>0.915275</td>\n",
       "      <td>4.8683</td>\n",
       "    </tr>\n",
       "    <tr>\n",
       "      <th>release_pos_y</th>\n",
       "      <td>126498.0</td>\n",
       "      <td>54.504670</td>\n",
       "      <td>0.505534</td>\n",
       "      <td>51.0297</td>\n",
       "      <td>54.171200</td>\n",
       "      <td>54.49810</td>\n",
       "      <td>54.831700</td>\n",
       "      <td>57.7872</td>\n",
       "    </tr>\n",
       "    <tr>\n",
       "      <th>release_pos_z</th>\n",
       "      <td>126498.0</td>\n",
       "      <td>5.854403</td>\n",
       "      <td>0.556557</td>\n",
       "      <td>1.7088</td>\n",
       "      <td>5.597100</td>\n",
       "      <td>5.91200</td>\n",
       "      <td>6.199400</td>\n",
       "      <td>7.4209</td>\n",
       "    </tr>\n",
       "    <tr>\n",
       "      <th>pfx_x</th>\n",
       "      <td>126498.0</td>\n",
       "      <td>-0.155723</td>\n",
       "      <td>0.886632</td>\n",
       "      <td>-2.4215</td>\n",
       "      <td>-0.927200</td>\n",
       "      <td>-0.25050</td>\n",
       "      <td>0.559900</td>\n",
       "      <td>2.2929</td>\n",
       "    </tr>\n",
       "    <tr>\n",
       "      <th>pfx_z</th>\n",
       "      <td>126498.0</td>\n",
       "      <td>0.645176</td>\n",
       "      <td>0.755695</td>\n",
       "      <td>-2.0134</td>\n",
       "      <td>0.219400</td>\n",
       "      <td>0.81570</td>\n",
       "      <td>1.245200</td>\n",
       "      <td>2.6710</td>\n",
       "    </tr>\n",
       "    <tr>\n",
       "      <th>vx0</th>\n",
       "      <td>126498.0</td>\n",
       "      <td>2.509655</td>\n",
       "      <td>6.244055</td>\n",
       "      <td>-20.0954</td>\n",
       "      <td>-1.715250</td>\n",
       "      <td>4.14015</td>\n",
       "      <td>7.066775</td>\n",
       "      <td>18.9980</td>\n",
       "    </tr>\n",
       "    <tr>\n",
       "      <th>vy0</th>\n",
       "      <td>126498.0</td>\n",
       "      <td>-128.965149</td>\n",
       "      <td>8.703604</td>\n",
       "      <td>-152.0191</td>\n",
       "      <td>-135.622475</td>\n",
       "      <td>-131.09795</td>\n",
       "      <td>-123.002875</td>\n",
       "      <td>-80.9000</td>\n",
       "    </tr>\n",
       "    <tr>\n",
       "      <th>vz0</th>\n",
       "      <td>126498.0</td>\n",
       "      <td>-4.284054</td>\n",
       "      <td>3.461919</td>\n",
       "      <td>-17.2848</td>\n",
       "      <td>-6.751075</td>\n",
       "      <td>-4.48280</td>\n",
       "      <td>-2.036000</td>\n",
       "      <td>11.6642</td>\n",
       "    </tr>\n",
       "    <tr>\n",
       "      <th>ax</th>\n",
       "      <td>126498.0</td>\n",
       "      <td>-2.601395</td>\n",
       "      <td>10.677024</td>\n",
       "      <td>-31.2501</td>\n",
       "      <td>-11.685275</td>\n",
       "      <td>-3.22340</td>\n",
       "      <td>5.477200</td>\n",
       "      <td>29.0833</td>\n",
       "    </tr>\n",
       "    <tr>\n",
       "      <th>ay</th>\n",
       "      <td>126498.0</td>\n",
       "      <td>26.353014</td>\n",
       "      <td>3.795084</td>\n",
       "      <td>10.4509</td>\n",
       "      <td>23.533500</td>\n",
       "      <td>26.45280</td>\n",
       "      <td>29.122250</td>\n",
       "      <td>43.8013</td>\n",
       "    </tr>\n",
       "    <tr>\n",
       "      <th>az</th>\n",
       "      <td>126498.0</td>\n",
       "      <td>-23.475137</td>\n",
       "      <td>8.834994</td>\n",
       "      <td>-51.2350</td>\n",
       "      <td>-29.537725</td>\n",
       "      <td>-22.05095</td>\n",
       "      <td>-16.144200</td>\n",
       "      <td>2.2053</td>\n",
       "    </tr>\n",
       "    <tr>\n",
       "      <th>sz_top</th>\n",
       "      <td>126498.0</td>\n",
       "      <td>3.426683</td>\n",
       "      <td>0.213368</td>\n",
       "      <td>2.5192</td>\n",
       "      <td>3.288200</td>\n",
       "      <td>3.42450</td>\n",
       "      <td>3.565100</td>\n",
       "      <td>4.4484</td>\n",
       "    </tr>\n",
       "    <tr>\n",
       "      <th>sz_bot</th>\n",
       "      <td>126498.0</td>\n",
       "      <td>1.605059</td>\n",
       "      <td>0.135303</td>\n",
       "      <td>0.8087</td>\n",
       "      <td>1.520500</td>\n",
       "      <td>1.60550</td>\n",
       "      <td>1.691700</td>\n",
       "      <td>2.3569</td>\n",
       "    </tr>\n",
       "    <tr>\n",
       "      <th>release_extension</th>\n",
       "      <td>126498.0</td>\n",
       "      <td>5.994946</td>\n",
       "      <td>0.505533</td>\n",
       "      <td>2.7130</td>\n",
       "      <td>5.668000</td>\n",
       "      <td>6.00200</td>\n",
       "      <td>6.328000</td>\n",
       "      <td>9.4680</td>\n",
       "    </tr>\n",
       "    <tr>\n",
       "      <th>description</th>\n",
       "      <td>126498.0</td>\n",
       "      <td>0.320369</td>\n",
       "      <td>0.466620</td>\n",
       "      <td>0.0000</td>\n",
       "      <td>0.000000</td>\n",
       "      <td>0.00000</td>\n",
       "      <td>1.000000</td>\n",
       "      <td>1.0000</td>\n",
       "    </tr>\n",
       "  </tbody>\n",
       "</table>\n",
       "</div>"
      ],
      "text/plain": [
       "                      count         mean         std       min          25%  \\\n",
       "release_speed      126498.0    88.744293    5.995683   56.0000    84.600000   \n",
       "release_spin_rate  126498.0  2244.377208  310.195684  485.0000  2094.000000   \n",
       "release_pos_x      126498.0    -0.816727    1.972819   -5.0047    -2.205800   \n",
       "release_pos_y      126498.0    54.504670    0.505534   51.0297    54.171200   \n",
       "release_pos_z      126498.0     5.854403    0.556557    1.7088     5.597100   \n",
       "pfx_x              126498.0    -0.155723    0.886632   -2.4215    -0.927200   \n",
       "pfx_z              126498.0     0.645176    0.755695   -2.0134     0.219400   \n",
       "vx0                126498.0     2.509655    6.244055  -20.0954    -1.715250   \n",
       "vy0                126498.0  -128.965149    8.703604 -152.0191  -135.622475   \n",
       "vz0                126498.0    -4.284054    3.461919  -17.2848    -6.751075   \n",
       "ax                 126498.0    -2.601395   10.677024  -31.2501   -11.685275   \n",
       "ay                 126498.0    26.353014    3.795084   10.4509    23.533500   \n",
       "az                 126498.0   -23.475137    8.834994  -51.2350   -29.537725   \n",
       "sz_top             126498.0     3.426683    0.213368    2.5192     3.288200   \n",
       "sz_bot             126498.0     1.605059    0.135303    0.8087     1.520500   \n",
       "release_extension  126498.0     5.994946    0.505533    2.7130     5.668000   \n",
       "description        126498.0     0.320369    0.466620    0.0000     0.000000   \n",
       "\n",
       "                          50%          75%        max  \n",
       "release_speed        90.20000    93.300000   104.4000  \n",
       "release_spin_rate  2258.00000  2423.000000  3640.0000  \n",
       "release_pos_x        -1.57160     0.915275     4.8683  \n",
       "release_pos_y        54.49810    54.831700    57.7872  \n",
       "release_pos_z         5.91200     6.199400     7.4209  \n",
       "pfx_x                -0.25050     0.559900     2.2929  \n",
       "pfx_z                 0.81570     1.245200     2.6710  \n",
       "vx0                   4.14015     7.066775    18.9980  \n",
       "vy0                -131.09795  -123.002875   -80.9000  \n",
       "vz0                  -4.48280    -2.036000    11.6642  \n",
       "ax                   -3.22340     5.477200    29.0833  \n",
       "ay                   26.45280    29.122250    43.8013  \n",
       "az                  -22.05095   -16.144200     2.2053  \n",
       "sz_top                3.42450     3.565100     4.4484  \n",
       "sz_bot                1.60550     1.691700     2.3569  \n",
       "release_extension     6.00200     6.328000     9.4680  \n",
       "description           0.00000     1.000000     1.0000  "
      ]
     },
     "execution_count": 7,
     "metadata": {},
     "output_type": "execute_result"
    }
   ],
   "source": [
    "#description of the data\n",
    "baseball.describe().T"
   ]
  },
  {
   "cell_type": "markdown",
   "metadata": {},
   "source": [
    "Here is to check that that there are no outlandish or impossible values for features. We wouldn't want to see a negative value for release_speed!\n",
    "\n",
    "Speaking of release_speed, there appear to be some interesting values for min and max. However, those are not erroneous values; a few pitchers are now starting to throw over 100 mph; the fastest recorded pitch was roughly 106 mph by Aroldis Chapman in 2015. \n",
    "\n",
    "As for most other features, there are not seemingly extreme values that physcially cannot happen; outliers potentially, but not impossible values. \n"
   ]
  },
  {
   "cell_type": "markdown",
   "metadata": {},
   "source": [
    "## Light EDA # MAKE SURE TO LOOK AT TARGET\n",
    "\n",
    "\n",
    "This next section will perform some EDA on our features. We will follow some of the procedures described in step 3 of the Outline of Notebook section."
   ]
  },
  {
   "cell_type": "code",
   "execution_count": 6,
   "metadata": {},
   "outputs": [
    {
     "name": "stdout",
     "output_type": "stream",
     "text": [
      "<class 'pandas.core.frame.DataFrame'>\n",
      "Int64Index: 126498 entries, 0 to 128799\n",
      "Data columns (total 19 columns):\n",
      "player_name          126498 non-null object\n",
      "pitch_name           126498 non-null object\n",
      "release_speed        126498 non-null float64\n",
      "release_spin_rate    126498 non-null float64\n",
      "release_pos_x        126498 non-null float64\n",
      "release_pos_y        126498 non-null float64\n",
      "release_pos_z        126498 non-null float64\n",
      "pfx_x                126498 non-null float64\n",
      "pfx_z                126498 non-null float64\n",
      "vx0                  126498 non-null float64\n",
      "vy0                  126498 non-null float64\n",
      "vz0                  126498 non-null float64\n",
      "ax                   126498 non-null float64\n",
      "ay                   126498 non-null float64\n",
      "az                   126498 non-null float64\n",
      "sz_top               126498 non-null float64\n",
      "sz_bot               126498 non-null float64\n",
      "release_extension    126498 non-null float64\n",
      "description          126498 non-null object\n",
      "dtypes: float64(16), object(3)\n",
      "memory usage: 19.3+ MB\n"
     ]
    }
   ],
   "source": [
    "baseball.info()"
   ]
  },
  {
   "cell_type": "code",
   "execution_count": 9,
   "metadata": {},
   "outputs": [
    {
     "data": {
      "text/plain": [
       "<matplotlib.axes._subplots.AxesSubplot at 0x7f3b9d573d68>"
      ]
     },
     "execution_count": 9,
     "metadata": {},
     "output_type": "execute_result"
    },
    {
     "data": {
      "image/png": "[encoded data removed]",
      "text/plain": [
       "<Figure size 432x288 with 1 Axes>"
      ]
     },
     "metadata": {
      "needs_background": "light"
     },
     "output_type": "display_data"
    }
   ],
   "source": [
    "#visualize the target\n",
    "\n",
    "baseball['description'].value_counts().plot(kind='bar')"
   ]
  },
  {
   "cell_type": "markdown",
   "metadata": {},
   "source": [
    "# ANALYSIS"
   ]
  },
  {
   "cell_type": "code",
   "execution_count": 10,
   "metadata": {},
   "outputs": [
    {
     "data": {
      "image/png": "[encoded data removed]",
      "text/plain": [
       "<Figure size 864x576 with 16 Axes>"
      ]
     },
     "metadata": {
      "needs_background": "light"
     },
     "output_type": "display_data"
    }
   ],
   "source": [
    "#visualizations\n",
    "\n",
    "num_features_to_plot = ['release_speed', 'release_spin_rate', 'release_pos_x',\n",
    "       'release_pos_y', 'release_pos_z', 'pfx_x', 'pfx_z', 'vx0', 'vy0', 'vz0',\n",
    "       'ax', 'ay', 'az', 'sz_top', 'sz_bot', 'release_extension']\n",
    "\n",
    "def plot_hist(df, features, subplot_dimensions):\n",
    "    '''Input: list of feature names, list of subplot dimensions'''\n",
    "    fig = plt.figure(figsize = (12, 8))\n",
    "    \n",
    "    for idx, feature in enumerate(list(df[features])):\n",
    "        idx += 1\n",
    "        plt.subplot(subplot_dimensions[0], subplot_dimensions[1], idx)\n",
    "        sns.distplot(df[feature])\n",
    "        idx +=1\n",
    "        \n",
    "        plt.tight_layout()\n",
    "\n",
    "plot_hist(baseball, num_features_to_plot, [4,4])"
   ]
  },
  {
   "cell_type": "code",
   "execution_count": 11,
   "metadata": {},
   "outputs": [
    {
     "data": {
      "image/png": "[encoded data removed]",
      "text/plain": [
       "<Figure size 864x576 with 16 Axes>"
      ]
     },
     "metadata": {
      "needs_background": "light"
     },
     "output_type": "display_data"
    }
   ],
   "source": [
    "def plot_box(df, features, subplot_dimensions):\n",
    "    '''Input: list of feature names, list of subplot dimensions'''\n",
    "    fig = plt.figure(figsize = (12, 8))\n",
    "    \n",
    "    for idx, feature in enumerate(list(df[features])):\n",
    "        idx += 1\n",
    "        plt.subplot(subplot_dimensions[0], subplot_dimensions[1], idx)\n",
    "        sns.boxplot(df[feature])\n",
    "        idx +=1\n",
    "        \n",
    "        plt.tight_layout()\n",
    "\n",
    "plot_box(baseball, num_features_to_plot, [4,4])"
   ]
  },
  {
   "cell_type": "markdown",
   "metadata": {},
   "source": [
    "# DO MORE EDA HERE\n",
    "\n",
    "Look at Categorical feature\n",
    "\n"
   ]
  },
  {
   "cell_type": "code",
   "execution_count": 12,
   "metadata": {},
   "outputs": [
    {
     "data": {
      "text/plain": [
       "<matplotlib.axes._subplots.AxesSubplot at 0x7f3b91be6c88>"
      ]
     },
     "execution_count": 12,
     "metadata": {},
     "output_type": "execute_result"
    },
    {
     "data": {
      "image/png": "[encoded data removed]",
      "text/plain": [
       "<Figure size 432x288 with 1 Axes>"
      ]
     },
     "metadata": {
      "needs_background": "light"
     },
     "output_type": "display_data"
    }
   ],
   "source": [
    "baseball['pitch_name'].value_counts().plot(kind='barh')"
   ]
  },
  {
   "cell_type": "markdown",
   "metadata": {},
   "source": [
    "2 Things: Don't need Euphus, and can consider Knuckle Curve as Curveball"
   ]
  },
  {
   "cell_type": "code",
   "execution_count": 13,
   "metadata": {},
   "outputs": [
    {
     "name": "stderr",
     "output_type": "stream",
     "text": [
      "/opt/tljh/user/lib/python3.6/site-packages/ipykernel_launcher.py:5: SettingWithCopyWarning: \n",
      "A value is trying to be set on a copy of a slice from a DataFrame.\n",
      "Try using .loc[row_indexer,col_indexer] = value instead\n",
      "\n",
      "See the caveats in the documentation: http://pandas.pydata.org/pandas-docs/stable/indexing.html#indexing-view-versus-copy\n",
      "  \"\"\"\n"
     ]
    },
    {
     "data": {
      "text/plain": [
       "<matplotlib.axes._subplots.AxesSubplot at 0x7f3b91321b00>"
      ]
     },
     "execution_count": 13,
     "metadata": {},
     "output_type": "execute_result"
    },
    {
     "data": {
      "image/png": "[encoded data removed]",
      "text/plain": [
       "<Figure size 432x288 with 1 Axes>"
      ]
     },
     "metadata": {
      "needs_background": "light"
     },
     "output_type": "display_data"
    }
   ],
   "source": [
    "#filter out dataframe to exclude any rows with Eephus\n",
    "baseball = baseball[baseball.pitch_name != 'Eephus']\n",
    "\n",
    "#replace Knuckle Curve with Curveball\n",
    "baseball['pitch_name'] = baseball['pitch_name'].replace('Knuckle Curve', 'Curveball')\n",
    "\n",
    "#ensure steps above worked\n",
    "baseball['pitch_name'].value_counts().plot(kind='barh')"
   ]
  },
  {
   "cell_type": "markdown",
   "metadata": {},
   "source": [
    "## Baseline Logistic Regression Pipeline\n",
    "\n",
    "Build a basic pipeline for Logistic Regression Model. The main steps of the pipeline is to \n",
    "\n",
    "1. Will need to one-hot encode the categroical varaible pitch_name.\n",
    "2. Standardize our data; we'll use scikit-learn's StandardScaler class on just the numeric features within the pipeline.\n",
    "3. To balance out target classes, we'll use a simple Random Oversampler provided by imblearn package. We will have an even ratio of balls and strikes.\n",
    "\n",
    "\n",
    "\n",
    "\n"
   ]
  },
  {
   "cell_type": "code",
   "execution_count": 14,
   "metadata": {},
   "outputs": [
    {
     "data": {
      "text/html": [
       "<div>\n",
       "<style scoped>\n",
       "    .dataframe tbody tr th:only-of-type {\n",
       "        vertical-align: middle;\n",
       "    }\n",
       "\n",
       "    .dataframe tbody tr th {\n",
       "        vertical-align: top;\n",
       "    }\n",
       "\n",
       "    .dataframe thead th {\n",
       "        text-align: right;\n",
       "    }\n",
       "</style>\n",
       "<table border=\"1\" class=\"dataframe\">\n",
       "  <thead>\n",
       "    <tr style=\"text-align: right;\">\n",
       "      <th></th>\n",
       "      <th>release_speed</th>\n",
       "      <th>release_spin_rate</th>\n",
       "      <th>release_pos_x</th>\n",
       "      <th>release_pos_y</th>\n",
       "      <th>release_pos_z</th>\n",
       "      <th>pfx_x</th>\n",
       "      <th>pfx_z</th>\n",
       "      <th>vx0</th>\n",
       "      <th>vy0</th>\n",
       "      <th>vz0</th>\n",
       "      <th>...</th>\n",
       "      <th>sz_bot</th>\n",
       "      <th>release_extension</th>\n",
       "      <th>Pitch_2-Seam Fastball</th>\n",
       "      <th>Pitch_4-Seam Fastball</th>\n",
       "      <th>Pitch_Changeup</th>\n",
       "      <th>Pitch_Curveball</th>\n",
       "      <th>Pitch_Cutter</th>\n",
       "      <th>Pitch_Sinker</th>\n",
       "      <th>Pitch_Slider</th>\n",
       "      <th>Pitch_Split Finger</th>\n",
       "    </tr>\n",
       "  </thead>\n",
       "  <tbody>\n",
       "    <tr>\n",
       "      <th>0</th>\n",
       "      <td>95.1</td>\n",
       "      <td>2314.0</td>\n",
       "      <td>3.2655</td>\n",
       "      <td>54.4995</td>\n",
       "      <td>5.2575</td>\n",
       "      <td>1.7213</td>\n",
       "      <td>0.4271</td>\n",
       "      <td>-9.8035</td>\n",
       "      <td>-138.1130</td>\n",
       "      <td>0.1339</td>\n",
       "      <td>...</td>\n",
       "      <td>1.5059</td>\n",
       "      <td>6.001</td>\n",
       "      <td>1</td>\n",
       "      <td>0</td>\n",
       "      <td>0</td>\n",
       "      <td>0</td>\n",
       "      <td>0</td>\n",
       "      <td>0</td>\n",
       "      <td>0</td>\n",
       "      <td>0</td>\n",
       "    </tr>\n",
       "    <tr>\n",
       "      <th>1</th>\n",
       "      <td>96.7</td>\n",
       "      <td>2324.0</td>\n",
       "      <td>3.1728</td>\n",
       "      <td>54.3094</td>\n",
       "      <td>5.3966</td>\n",
       "      <td>0.9349</td>\n",
       "      <td>1.0015</td>\n",
       "      <td>-9.0084</td>\n",
       "      <td>-140.5865</td>\n",
       "      <td>-2.4218</td>\n",
       "      <td>...</td>\n",
       "      <td>1.5730</td>\n",
       "      <td>6.191</td>\n",
       "      <td>0</td>\n",
       "      <td>1</td>\n",
       "      <td>0</td>\n",
       "      <td>0</td>\n",
       "      <td>0</td>\n",
       "      <td>0</td>\n",
       "      <td>0</td>\n",
       "      <td>0</td>\n",
       "    </tr>\n",
       "    <tr>\n",
       "      <th>2</th>\n",
       "      <td>80.8</td>\n",
       "      <td>2521.0</td>\n",
       "      <td>3.3517</td>\n",
       "      <td>55.0820</td>\n",
       "      <td>5.1205</td>\n",
       "      <td>-1.0168</td>\n",
       "      <td>-0.1223</td>\n",
       "      <td>-3.7285</td>\n",
       "      <td>-117.3223</td>\n",
       "      <td>1.2140</td>\n",
       "      <td>...</td>\n",
       "      <td>1.7080</td>\n",
       "      <td>5.420</td>\n",
       "      <td>0</td>\n",
       "      <td>0</td>\n",
       "      <td>0</td>\n",
       "      <td>0</td>\n",
       "      <td>0</td>\n",
       "      <td>0</td>\n",
       "      <td>1</td>\n",
       "      <td>0</td>\n",
       "    </tr>\n",
       "  </tbody>\n",
       "</table>\n",
       "<p>3 rows × 24 columns</p>\n",
       "</div>"
      ],
      "text/plain": [
       "   release_speed  release_spin_rate  release_pos_x  release_pos_y  \\\n",
       "0           95.1             2314.0         3.2655        54.4995   \n",
       "1           96.7             2324.0         3.1728        54.3094   \n",
       "2           80.8             2521.0         3.3517        55.0820   \n",
       "\n",
       "   release_pos_z   pfx_x   pfx_z     vx0       vy0     vz0  \\\n",
       "0         5.2575  1.7213  0.4271 -9.8035 -138.1130  0.1339   \n",
       "1         5.3966  0.9349  1.0015 -9.0084 -140.5865 -2.4218   \n",
       "2         5.1205 -1.0168 -0.1223 -3.7285 -117.3223  1.2140   \n",
       "\n",
       "          ...          sz_bot  release_extension  Pitch_2-Seam Fastball  \\\n",
       "0         ...          1.5059              6.001                      1   \n",
       "1         ...          1.5730              6.191                      0   \n",
       "2         ...          1.7080              5.420                      0   \n",
       "\n",
       "   Pitch_4-Seam Fastball  Pitch_Changeup  Pitch_Curveball  Pitch_Cutter  \\\n",
       "0                      0               0                0             0   \n",
       "1                      1               0                0             0   \n",
       "2                      0               0                0             0   \n",
       "\n",
       "   Pitch_Sinker  Pitch_Slider  Pitch_Split Finger  \n",
       "0             0             0                   0  \n",
       "1             0             0                   0  \n",
       "2             0             1                   0  \n",
       "\n",
       "[3 rows x 24 columns]"
      ]
     },
     "execution_count": 14,
     "metadata": {},
     "output_type": "execute_result"
    }
   ],
   "source": [
    "#get the target into its own variable\n",
    "result = baseball['description'].copy()\n",
    "\n",
    "#get dummy variables for pitch name\n",
    "baseball = pd.get_dummies(baseball.iloc[:, :-1], prefix = 'Pitch')\n",
    "\n",
    "#ensure above worked\n",
    "baseball.head(3)"
   ]
  },
  {
   "cell_type": "code",
   "execution_count": 15,
   "metadata": {},
   "outputs": [],
   "source": [
    "#get all dependicies for pipelines\n",
    "\n",
    "from imblearn.datasets import make_imbalance\n",
    "from imblearn.over_sampling import RandomOverSampler, SMOTE\n",
    "from imblearn.pipeline import make_pipeline\n",
    "from imblearn.metrics import classification_report_imbalanced\n",
    "from sklearn.preprocessing import OneHotEncoder, StandardScaler \n",
    "from sklearn.tree import DecisionTreeClassifier\n",
    "from sklearn.model_selection import train_test_split\n",
    "from sklearn.pipeline import Pipeline\n",
    "from sklearn.compose import ColumnTransformer\n",
    "from sklearn.metrics import classification_report, confusion_matrix\n",
    "\n",
    "\n",
    "#split the data into training and testing splits\n",
    "X_train, X_test, y_train, y_test = train_test_split(baseball, \n",
    "                                                    result, \n",
    "                                                    random_state = 2019, test_size = .15)\n",
    "#split further into training and validation splits\n",
    "X_train, X_val, y_train, y_val = train_test_split(X_train, y_train, \n",
    "                                                 random_state=2019, test_size=.2)\n"
   ]
  },
  {
   "cell_type": "code",
   "execution_count": 16,
   "metadata": {},
   "outputs": [],
   "source": [
    "#pipeline for logistic regression\n",
    "#only apply StandardScaler() to numeric features\n",
    "\n",
    "#define numeric features for custom transformation:\n",
    "numeric_features = ['release_speed', 'release_spin_rate', 'release_pos_x',\n",
    "       'release_pos_y', 'release_pos_z', 'pfx_x', 'pfx_z', 'vx0', 'vy0', 'vz0',\n",
    "       'ax', 'ay', 'az', 'sz_top', 'sz_bot', 'release_extension']\n",
    "\n",
    "#establish numeric pipeline steps; just use StandardScaler()\n",
    "num_pipe = Pipeline(steps = [\n",
    "    ('scale', StandardScaler())\n",
    "])\n",
    "\n",
    "#create column transformer to apply num_pipe to only numeric_features\n",
    "transformer = ColumnTransformer(transformers = [\n",
    "    ('num', num_pipe, numeric_features),\n",
    "])\n",
    "\n",
    "#combine the column transformer with random oversampler  \n",
    "#and logistic regression model to form final pipeline\n",
    "pipe_lg = make_pipeline(\n",
    "    transformer,\n",
    "    RandomOverSampler(ratio = 1, random_state=2019),\n",
    "    LogisticRegression()\n",
    ")"
   ]
  },
  {
   "cell_type": "code",
   "execution_count": 17,
   "metadata": {},
   "outputs": [
    {
     "name": "stderr",
     "output_type": "stream",
     "text": [
      "/opt/tljh/user/lib/python3.6/site-packages/sklearn/linear_model/logistic.py:433: FutureWarning: Default solver will be changed to 'lbfgs' in 0.22. Specify a solver to silence this warning.\n",
      "  FutureWarning)\n"
     ]
    },
    {
     "data": {
      "text/plain": [
       "Pipeline(memory=None,\n",
       "     steps=[('columntransformer', ColumnTransformer(n_jobs=None, remainder='drop', sparse_threshold=0.3,\n",
       "         transformer_weights=None,\n",
       "         transformers=[('num', Pipeline(memory=None,\n",
       "     steps=[('scale', StandardScaler(copy=True, with_mean=True, with_std=True))]), ['release_speed', 'release_sp...penalty='l2', random_state=None, solver='warn',\n",
       "          tol=0.0001, verbose=0, warm_start=False))])"
      ]
     },
     "execution_count": 17,
     "metadata": {},
     "output_type": "execute_result"
    }
   ],
   "source": [
    "#fit to training data\n",
    "pipe_lg.fit(X_train, y_train)\n"
   ]
  },
  {
   "cell_type": "code",
   "execution_count": 18,
   "metadata": {},
   "outputs": [
    {
     "name": "stdout",
     "output_type": "stream",
     "text": [
      "                   pre       rec       spe        f1       geo       iba       sup\n",
      "\n",
      "          0       0.75      0.56      0.60      0.64      0.58      0.33     14637\n",
      "          1       0.39      0.60      0.56      0.47      0.58      0.34      6866\n",
      "\n",
      "avg / total       0.63      0.57      0.59      0.59      0.58      0.33     21503\n",
      "\n",
      "[[8183 6454]\n",
      " [2760 4106]]\n"
     ]
    }
   ],
   "source": [
    "#make predictions on the validation set\n",
    "#print out a classification report and confusion matrix\n",
    "y_pred = pipe_lg.predict(X_val)\n",
    "\n",
    "print(classification_report_imbalanced(y_val, y_pred))\n",
    "print(confusion_matrix(y_val, y_pred))\n"
   ]
  },
  {
   "cell_type": "markdown",
   "metadata": {},
   "source": [
    "## Interpretation of Logistic Regression.\n",
    "\n",
    "Here we'll interpret our logistic regression model by looking at its coeficcients; this is essentially our main method of doing so. Since the data was preprocessed, our interpretation of these coefficients will be done so on values that are not valid; for instance, the coeficient for pitch_speed is built on values that can be negative after the StandardScaler transformation. Thus... ***WHAT DO WE DO HERE***"
   ]
  },
  {
   "cell_type": "markdown",
   "metadata": {},
   "source": [
    "## Baseline Decision Tree Pipeline\n",
    "\n",
    "Apply same principles from Logistic Regression to a decision tree. Since decision tree has less statistical assumptions than Logistic Regression, we don't neccesarily have to standardize our data here, and will make the interpretation valid, as the values of the features will be their original values. We'll choose an orginal number of leaves as four to keep the visualization of the tree legible. \n",
    "\n",
    "First, we'll create a seperate training data spit is randomly oversampled to train the decision tree on. \n"
   ]
  },
  {
   "cell_type": "code",
   "execution_count": 19,
   "metadata": {},
   "outputs": [],
   "source": [
    "#create balanced train datasets\n",
    "\n",
    "X_train_rs, y_train_rs = RandomOverSampler(ratio = 1, random_state=2019).fit_resample(X_train, y_train)"
   ]
  },
  {
   "cell_type": "code",
   "execution_count": 20,
   "metadata": {},
   "outputs": [
    {
     "data": {
      "text/plain": [
       "DecisionTreeClassifier(class_weight=None, criterion='gini', max_depth=4,\n",
       "            max_features=None, max_leaf_nodes=None,\n",
       "            min_impurity_decrease=0.0, min_impurity_split=None,\n",
       "            min_samples_leaf=1, min_samples_split=2,\n",
       "            min_weight_fraction_leaf=0.0, presort=False, random_state=None,\n",
       "            splitter='best')"
      ]
     },
     "execution_count": 20,
     "metadata": {},
     "output_type": "execute_result"
    }
   ],
   "source": [
    "#create model and fit to oversampled training set\n",
    "tree = DecisionTreeClassifier(max_depth=4)\n",
    "\n",
    "tree.fit(X_train_rs, y_train_rs)\n"
   ]
  },
  {
   "cell_type": "code",
   "execution_count": 21,
   "metadata": {},
   "outputs": [
    {
     "name": "stdout",
     "output_type": "stream",
     "text": [
      "                   pre       rec       spe        f1       geo       iba       sup\n",
      "\n",
      "          0       0.74      0.57      0.58      0.65      0.58      0.33     14637\n",
      "          1       0.39      0.58      0.57      0.46      0.58      0.33      6866\n",
      "\n",
      "avg / total       0.63      0.57      0.58      0.59      0.58      0.33     21503\n",
      "\n",
      "\n",
      "[[8382 6255]\n",
      " [2895 3971]]\n"
     ]
    }
   ],
   "source": [
    "y_pred_dt = tree.predict(X_val)\n",
    "\n",
    "print(classification_report_imbalanced(y_val, y_pred_dt))\n",
    "print()\n",
    "print(confusion_matrix(y_val, y_pred_dt))"
   ]
  },
  {
   "cell_type": "markdown",
   "metadata": {},
   "source": [
    "### Visualize the tree\n",
    "\n",
    "Visualize the tree in the Jupyter Notebook and create a seprate png image file of that tree."
   ]
  },
  {
   "cell_type": "code",
   "execution_count": 23,
   "metadata": {},
   "outputs": [
    {
     "data": {
      "image/png": "[encoded data removed]",
      "text/plain": [
       "<IPython.core.display.Image object>"
      ]
     },
     "execution_count": 23,
     "metadata": {},
     "output_type": "execute_result"
    }
   ],
   "source": [
    "from sklearn.tree import export_graphviz\n",
    "from sklearn.externals.six import StringIO  \n",
    "from IPython.display import Image  \n",
    "import pydotplus\n",
    "\n",
    "tree_features = ['release_speed', 'release_spin_rate', 'release_pos_x', 'release_pos_y',\n",
    "       'release_pos_z', 'pfx_x', 'pfx_z', 'vx0', 'vy0', 'vz0', 'ax', 'ay',\n",
    "       'az', 'sz_top', 'sz_bot', 'release_extension', 'Pitch_2-Seam Fastball',\n",
    "       'Pitch_4-Seam Fastball', 'Pitch_Changeup', 'Pitch_Curveball',\n",
    "       'Pitch_Cutter', 'Pitch_Sinker', 'Pitch_Slider', 'Pitch_Split Finger']\n",
    "\n",
    "dot_data = StringIO()\n",
    "export_graphviz(tree, out_file=dot_data,  \n",
    "                filled=True, rounded=True,\n",
    "                special_characters=True, feature_names = tree_features, class_names=True)\n",
    "graph = pydotplus.graph_from_dot_data(dot_data.getvalue())  \n",
    "graph.write_png('baseball_tree.png')\n",
    "Image(graph.create_png())\n"
   ]
  },
  {
   "cell_type": "markdown",
   "metadata": {},
   "source": [
    "## Interpretation"
   ]
  },
  {
   "cell_type": "markdown",
   "metadata": {},
   "source": [
    "# Improving Results\n",
    "\n",
    "Now we will try to improve the results via hyperparameter tuning. Use Grid search for Decision Tree to search over combinations of hyperparametes.\n",
    "\n",
    "Use LogisticRegressionCV class to find best value for hyperparameter C.\n",
    "\n",
    "Use same pipeline as before with same training splits\n",
    "\n",
    "Start with Logistic Regression"
   ]
  },
  {
   "cell_type": "code",
   "execution_count": 28,
   "metadata": {},
   "outputs": [],
   "source": [
    "from sklearn.linear_model import LogisticRegressionCV\n",
    "\n",
    "#pipeline for LogisticRegressionCV\n",
    "#only apply StandardScaler() to numeric features\n",
    "\n",
    "#define numeric features for custom transformation:\n",
    "numeric_features = ['release_speed', 'release_spin_rate', 'release_pos_x',\n",
    "       'release_pos_y', 'release_pos_z', 'pfx_x', 'pfx_z', 'vx0', 'vy0', 'vz0',\n",
    "       'ax', 'ay', 'az', 'sz_top', 'sz_bot', 'release_extension']\n",
    "\n",
    "#establish numeric pipeline steps; just use StandardScaler()\n",
    "num_pipe = Pipeline(steps = [\n",
    "    ('scale', StandardScaler())\n",
    "])\n",
    "\n",
    "#create column transformer to apply num_pipe to only numeric_features\n",
    "transformer = ColumnTransformer(transformers = [\n",
    "    ('num', num_pipe, numeric_features),\n",
    "])\n",
    "\n",
    "#combine the column transformer with random oversampler  \n",
    "#and logistic regression model to form final pipeline\n",
    "pipe_lgcv = make_pipeline(\n",
    "    transformer,\n",
    "    RandomOverSampler(ratio = 1, random_state=2019),\n",
    "    LogisticRegressionCV(cv = 5)\n",
    ")"
   ]
  },
  {
   "cell_type": "code",
   "execution_count": 29,
   "metadata": {},
   "outputs": [
    {
     "data": {
      "text/plain": [
       "Pipeline(memory=None,\n",
       "     steps=[('columntransformer', ColumnTransformer(n_jobs=None, remainder='drop', sparse_threshold=0.3,\n",
       "         transformer_weights=None,\n",
       "         transformers=[('num', Pipeline(memory=None,\n",
       "     steps=[('scale', StandardScaler(copy=True, with_mean=True, with_std=True))]), ['release_speed', 'release_sp...    random_state=None, refit=True, scoring=None, solver='lbfgs',\n",
       "           tol=0.0001, verbose=0))])"
      ]
     },
     "execution_count": 29,
     "metadata": {},
     "output_type": "execute_result"
    }
   ],
   "source": [
    "pipe_lgcv.fit(X_train, y_train)"
   ]
  },
  {
   "cell_type": "code",
   "execution_count": 30,
   "metadata": {},
   "outputs": [
    {
     "name": "stdout",
     "output_type": "stream",
     "text": [
      "                   pre       rec       spe        f1       geo       iba       sup\n",
      "\n",
      "          0       0.75      0.56      0.60      0.64      0.58      0.33     14637\n",
      "          1       0.39      0.60      0.56      0.47      0.58      0.34      6866\n",
      "\n",
      "avg / total       0.63      0.57      0.59      0.59      0.58      0.33     21503\n",
      "\n",
      "[[8184 6453]\n",
      " [2748 4118]]\n"
     ]
    }
   ],
   "source": [
    "#print out a classification report and confusion matrix\n",
    "y_pred_lgcv = pipe_lgcv.predict(X_val)\n",
    "\n",
    "print(classification_report_imbalanced(y_val, y_pred_lgcv))\n",
    "print(confusion_matrix(y_val, y_pred_lgcv))"
   ]
  },
  {
   "cell_type": "markdown",
   "metadata": {},
   "source": [
    "# Create table of my features, and paper features, "
   ]
  },
  {
   "cell_type": "markdown",
   "metadata": {},
   "source": [
    "Results are not that much different. \n",
    "\n",
    "Not much need to interpret\n",
    "\n",
    "## Grid search for Decision Tree\n",
    "\n",
    "using a grid search to search over best combinations of hyperparameters. We will use few handful of hyperparameters, enough to boost the performance of the tree"
   ]
  }
 ],
 "metadata": {
  "kernelspec": {
   "display_name": "Python 3",
   "language": "python",
   "name": "python3"
  },
  "language_info": {
   "codemirror_mode": {
    "name": "ipython",
    "version": 3
   },
   "file_extension": ".py",
   "mimetype": "text/x-python",
   "name": "python",
   "nbconvert_exporter": "python",
   "pygments_lexer": "ipython3",
   "version": "3.6.7"
  }
 },
 "nbformat": 4,
 "nbformat_minor": 2
}
