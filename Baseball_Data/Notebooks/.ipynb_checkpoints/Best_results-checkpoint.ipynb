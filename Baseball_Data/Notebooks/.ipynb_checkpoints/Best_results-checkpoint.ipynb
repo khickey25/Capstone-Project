{
 "cells": [
  {
   "cell_type": "markdown",
   "metadata": {},
   "source": [
    "# Best Results\n",
    "## Undersampler Pipeline with 2 new created features, PCA(6)"
   ]
  },
  {
   "cell_type": "code",
   "execution_count": 1,
   "metadata": {},
   "outputs": [
    {
     "name": "stderr",
     "output_type": "stream",
     "text": [
      "/home/jupyter-khickey550/.local/lib/python3.6/site-packages/sklearn/externals/six.py:31: DeprecationWarning: The module is deprecated in version 0.21 and will be removed in version 0.23 since we've dropped support for Python 2.7. Please rely on the official version of six (https://pypi.org/project/six/).\n",
      "  \"(https://pypi.org/project/six/).\", DeprecationWarning)\n"
     ]
    }
   ],
   "source": [
    "#start with all dependencies\n",
    "\n",
    "import numpy as np\n",
    "import pandas as pd\n",
    "from Evaluation import *\n",
    "import sklearn\n",
    "import sklearn.metrics as metrics\n",
    "from sklearn.model_selection import cross_val_score, cross_validate\n",
    "from sklearn.preprocessing import Imputer\n",
    "from imblearn.under_sampling import RandomUnderSampler\n",
    "from sklearn.linear_model import LogisticRegression\n",
    "from sklearn.tree import DecisionTreeRegressor\n",
    "import matplotlib.pyplot as plt\n",
    "%matplotlib inline\n",
    "import imblearn\n",
    "import seaborn as sns\n",
    "sns.set()\n",
    "import warnings\n",
    "warnings.filterwarnings(\"ignore\", category=FutureWarning)"
   ]
  },
  {
   "cell_type": "code",
   "execution_count": 2,
   "metadata": {},
   "outputs": [],
   "source": [
    "#Read in the data as pandas dataframe\n",
    "data = 'Statcast_data.csv'\n",
    "\n",
    "def load_data(file):\n",
    "    '''Load the Statcast_data.csv file into a pandas dataframe.\n",
    "       Resolve unnecessary column in csv file'''\n",
    "    baseball = pd.read_csv('Statcast_data.csv', index_col = 0)\n",
    "    \n",
    "    return baseball\n",
    "\n",
    "baseball = load_data(data)\n",
    "baseball['description'] = baseball['description'].replace({'blocked_ball': 0, 'ball': 0, \"called_strike\": 1})\n",
    "\n",
    "baseball = baseball.dropna()"
   ]
  },
  {
   "cell_type": "code",
   "execution_count": 3,
   "metadata": {},
   "outputs": [
    {
     "data": {
      "text/plain": [
       "0    85972\n",
       "1    40526\n",
       "Name: description, dtype: int64"
      ]
     },
     "execution_count": 3,
     "metadata": {},
     "output_type": "execute_result"
    }
   ],
   "source": [
    "baseball['description'].value_counts()"
   ]
  },
  {
   "cell_type": "markdown",
   "metadata": {},
   "source": [
    "## Feature Creation\n",
    "1. posx + movementx, posz +movementz\n",
    "2. topzone - bottom zone\n",
    "3. compare to target"
   ]
  },
  {
   "cell_type": "code",
   "execution_count": 4,
   "metadata": {},
   "outputs": [],
   "source": [
    "baseball['position_x'] = baseball['release_pos_x'] + baseball['pfx_x']\n",
    "baseball['position_z'] = baseball['release_pos_z'] + baseball['pfx_z']\n",
    "\n",
    "#baseball['difference_top_of_zone'] = baseball['sz_top'] - baseball['position_z']\n",
    "#baseball['difference_bottom_of_zone'] = baseball['position_z'] - baseball['sz_top']\n",
    "#baseball['difference_side_of_plate_x'] = baseball['']\n",
    "#baseball['area_of_zone'] = 17 * baseball['height_of_zone']"
   ]
  },
  {
   "cell_type": "markdown",
   "metadata": {},
   "source": [
    "## Simple Random Forest, to evaluatate new features"
   ]
  },
  {
   "cell_type": "code",
   "execution_count": 12,
   "metadata": {},
   "outputs": [],
   "source": [
    "from imblearn.pipeline import make_pipeline, Pipeline\n",
    "from sklearn.ensemble import RandomForestClassifier\n",
    "from sklearn.decomposition import PCA\n",
    "from sklearn.model_selection import cross_val_score, train_test_split"
   ]
  },
  {
   "cell_type": "code",
   "execution_count": 7,
   "metadata": {},
   "outputs": [
    {
     "data": {
      "text/html": [
       "<div>\n",
       "<style scoped>\n",
       "    .dataframe tbody tr th:only-of-type {\n",
       "        vertical-align: middle;\n",
       "    }\n",
       "\n",
       "    .dataframe tbody tr th {\n",
       "        vertical-align: top;\n",
       "    }\n",
       "\n",
       "    .dataframe thead th {\n",
       "        text-align: right;\n",
       "    }\n",
       "</style>\n",
       "<table border=\"1\" class=\"dataframe\">\n",
       "  <thead>\n",
       "    <tr style=\"text-align: right;\">\n",
       "      <th></th>\n",
       "      <th>position_x</th>\n",
       "      <th>position_z</th>\n",
       "      <th>release_speed</th>\n",
       "      <th>release_spin_rate</th>\n",
       "      <th>vx0</th>\n",
       "      <th>vy0</th>\n",
       "      <th>vz0</th>\n",
       "      <th>release_pos_y</th>\n",
       "      <th>description</th>\n",
       "      <th>pitch_2-Seam Fastball</th>\n",
       "      <th>pitch_4-Seam Fastball</th>\n",
       "      <th>pitch_Changeup</th>\n",
       "      <th>pitch_Curveball</th>\n",
       "      <th>pitch_Cutter</th>\n",
       "      <th>pitch_Eephus</th>\n",
       "      <th>pitch_Knuckle Curve</th>\n",
       "      <th>pitch_Sinker</th>\n",
       "      <th>pitch_Slider</th>\n",
       "      <th>pitch_Split Finger</th>\n",
       "    </tr>\n",
       "  </thead>\n",
       "  <tbody>\n",
       "    <tr>\n",
       "      <th>0</th>\n",
       "      <td>4.9868</td>\n",
       "      <td>5.6846</td>\n",
       "      <td>95.1</td>\n",
       "      <td>2314.0</td>\n",
       "      <td>-9.8035</td>\n",
       "      <td>-138.1130</td>\n",
       "      <td>0.1339</td>\n",
       "      <td>54.4995</td>\n",
       "      <td>0</td>\n",
       "      <td>1</td>\n",
       "      <td>0</td>\n",
       "      <td>0</td>\n",
       "      <td>0</td>\n",
       "      <td>0</td>\n",
       "      <td>0</td>\n",
       "      <td>0</td>\n",
       "      <td>0</td>\n",
       "      <td>0</td>\n",
       "      <td>0</td>\n",
       "    </tr>\n",
       "    <tr>\n",
       "      <th>1</th>\n",
       "      <td>4.1077</td>\n",
       "      <td>6.3981</td>\n",
       "      <td>96.7</td>\n",
       "      <td>2324.0</td>\n",
       "      <td>-9.0084</td>\n",
       "      <td>-140.5865</td>\n",
       "      <td>-2.4218</td>\n",
       "      <td>54.3094</td>\n",
       "      <td>1</td>\n",
       "      <td>0</td>\n",
       "      <td>1</td>\n",
       "      <td>0</td>\n",
       "      <td>0</td>\n",
       "      <td>0</td>\n",
       "      <td>0</td>\n",
       "      <td>0</td>\n",
       "      <td>0</td>\n",
       "      <td>0</td>\n",
       "      <td>0</td>\n",
       "    </tr>\n",
       "    <tr>\n",
       "      <th>2</th>\n",
       "      <td>2.3349</td>\n",
       "      <td>4.9982</td>\n",
       "      <td>80.8</td>\n",
       "      <td>2521.0</td>\n",
       "      <td>-3.7285</td>\n",
       "      <td>-117.3223</td>\n",
       "      <td>1.2140</td>\n",
       "      <td>55.0820</td>\n",
       "      <td>1</td>\n",
       "      <td>0</td>\n",
       "      <td>0</td>\n",
       "      <td>0</td>\n",
       "      <td>0</td>\n",
       "      <td>0</td>\n",
       "      <td>0</td>\n",
       "      <td>0</td>\n",
       "      <td>0</td>\n",
       "      <td>1</td>\n",
       "      <td>0</td>\n",
       "    </tr>\n",
       "    <tr>\n",
       "      <th>3</th>\n",
       "      <td>4.4509</td>\n",
       "      <td>6.1538</td>\n",
       "      <td>96.2</td>\n",
       "      <td>2329.0</td>\n",
       "      <td>-12.0533</td>\n",
       "      <td>-139.3669</td>\n",
       "      <td>-5.1407</td>\n",
       "      <td>54.0207</td>\n",
       "      <td>1</td>\n",
       "      <td>0</td>\n",
       "      <td>1</td>\n",
       "      <td>0</td>\n",
       "      <td>0</td>\n",
       "      <td>0</td>\n",
       "      <td>0</td>\n",
       "      <td>0</td>\n",
       "      <td>0</td>\n",
       "      <td>0</td>\n",
       "      <td>0</td>\n",
       "    </tr>\n",
       "    <tr>\n",
       "      <th>4</th>\n",
       "      <td>4.5827</td>\n",
       "      <td>5.8014</td>\n",
       "      <td>96.5</td>\n",
       "      <td>2437.0</td>\n",
       "      <td>-14.0287</td>\n",
       "      <td>-139.8559</td>\n",
       "      <td>-3.3434</td>\n",
       "      <td>54.3597</td>\n",
       "      <td>0</td>\n",
       "      <td>0</td>\n",
       "      <td>1</td>\n",
       "      <td>0</td>\n",
       "      <td>0</td>\n",
       "      <td>0</td>\n",
       "      <td>0</td>\n",
       "      <td>0</td>\n",
       "      <td>0</td>\n",
       "      <td>0</td>\n",
       "      <td>0</td>\n",
       "    </tr>\n",
       "  </tbody>\n",
       "</table>\n",
       "</div>"
      ],
      "text/plain": [
       "   position_x  position_z  release_speed  release_spin_rate      vx0  \\\n",
       "0      4.9868      5.6846           95.1             2314.0  -9.8035   \n",
       "1      4.1077      6.3981           96.7             2324.0  -9.0084   \n",
       "2      2.3349      4.9982           80.8             2521.0  -3.7285   \n",
       "3      4.4509      6.1538           96.2             2329.0 -12.0533   \n",
       "4      4.5827      5.8014           96.5             2437.0 -14.0287   \n",
       "\n",
       "        vy0     vz0  release_pos_y  description  pitch_2-Seam Fastball  \\\n",
       "0 -138.1130  0.1339        54.4995            0                      1   \n",
       "1 -140.5865 -2.4218        54.3094            1                      0   \n",
       "2 -117.3223  1.2140        55.0820            1                      0   \n",
       "3 -139.3669 -5.1407        54.0207            1                      0   \n",
       "4 -139.8559 -3.3434        54.3597            0                      0   \n",
       "\n",
       "   pitch_4-Seam Fastball  pitch_Changeup  pitch_Curveball  pitch_Cutter  \\\n",
       "0                      0               0                0             0   \n",
       "1                      1               0                0             0   \n",
       "2                      0               0                0             0   \n",
       "3                      1               0                0             0   \n",
       "4                      1               0                0             0   \n",
       "\n",
       "   pitch_Eephus  pitch_Knuckle Curve  pitch_Sinker  pitch_Slider  \\\n",
       "0             0                    0             0             0   \n",
       "1             0                    0             0             0   \n",
       "2             0                    0             0             1   \n",
       "3             0                    0             0             0   \n",
       "4             0                    0             0             0   \n",
       "\n",
       "   pitch_Split Finger  \n",
       "0                   0  \n",
       "1                   0  \n",
       "2                   0  \n",
       "3                   0  \n",
       "4                   0  "
      ]
     },
     "execution_count": 7,
     "metadata": {},
     "output_type": "execute_result"
    }
   ],
   "source": [
    "final_df = baseball.loc[:, ['position_x', 'position_z', 'pitch_name', 'release_speed', \n",
    "                           'release_spin_rate', 'vx0', 'vy0', 'vz0', 'release_pos_y', 'description']]\n",
    "\n",
    "final_df=pd.get_dummies(final_df, prefix = 'pitch')\n",
    "final_df.head()"
   ]
  },
  {
   "cell_type": "code",
   "execution_count": 11,
   "metadata": {},
   "outputs": [
    {
     "name": "stdout",
     "output_type": "stream",
     "text": [
      "Accuracy Score: 0.8447747035573122\n",
      "\n",
      "Classification Report: \n",
      "               precision    recall  f1-score   support\n",
      "\n",
      "           0       0.92      0.85      0.88     21552\n",
      "           1       0.72      0.83      0.77     10073\n",
      "\n",
      "    accuracy                           0.84     31625\n",
      "   macro avg       0.82      0.84      0.83     31625\n",
      "weighted avg       0.85      0.84      0.85     31625\n",
      "\n",
      "\n",
      " Confustion Matrix: \n",
      " [[18332  3220]\n",
      " [ 1689  8384]]\n"
     ]
    },
    {
     "data": {
      "text/plain": [
       "<matplotlib.axes._subplots.AxesSubplot at 0x7f787d4979b0>"
      ]
     },
     "execution_count": 11,
     "metadata": {},
     "output_type": "execute_result"
    },
    {
     "data": {
      "image/png": "[encoded data removed]",
      "text/plain": [
       "<Figure size 432x288 with 1 Axes>"
      ]
     },
     "metadata": {
      "needs_background": "light"
     },
     "output_type": "display_data"
    }
   ],
   "source": [
    "X_train, X_test, y_train, y_test = train_test_split(final_df.drop(columns='description'),\n",
    "                                                    final_df['description'], random_state = 777)\n",
    "under_sampler = RandomUnderSampler(ratio = 1, random_state = 777)\n",
    "\n",
    "forest = RandomForestClassifier()\n",
    "\n",
    "pipe = imblearn.pipeline.make_pipeline(under_sampler, forest)\n",
    "\n",
    "\n",
    "\n",
    "pipe.fit(X_train, y_train)\n",
    "\n",
    "pred = pipe.predict(X_test)\n",
    "def eval_test_set(x_test_predictions, y_test):\n",
    "    print(f\"Accuracy Score: {metrics.accuracy_score(y_test, x_test_predictions)}\")\n",
    "    print()\n",
    "    print(f\"Classification Report: \\n {metrics.classification_report(y_test, x_test_predictions)}\")\n",
    "    print()\n",
    "    print(f\" Confustion Matrix: \\n {metrics.confusion_matrix(y_test, x_test_predictions)}\")\n",
    "\n",
    "eval_test_set(pred, y_test)\n",
    "\n",
    "pd.Series(forest.feature_importances_, index=X_train.columns).plot(kind = 'barh')"
   ]
  },
  {
   "cell_type": "markdown",
   "metadata": {},
   "source": [
    "## USE PCA"
   ]
  },
  {
   "cell_type": "code",
   "execution_count": 14,
   "metadata": {},
   "outputs": [
    {
     "name": "stdout",
     "output_type": "stream",
     "text": [
      "Number of Components: 3\n",
      "---------------------------------------------------------------------------\n",
      "\n",
      "Mean train_accuracy Value: 0.8500943260766083\n",
      "train_accuracy scores: [0.84809006 0.85079606 0.85139686]\n",
      "\n",
      "Mean test_accuracy Value: 0.5706681581707594\n",
      "test_accuracy scores: [0.57049802 0.56858715 0.5729193 ]\n",
      "\n",
      "Mean train_f1 Value: 0.8056710527400982\n",
      "train_f1 scores: [0.80366193 0.8064483  0.80690293]\n",
      "\n",
      "Mean test_f1 Value: 0.4154413796626564\n",
      "test_f1 scores: [0.41726372 0.40762451 0.42143592]\n",
      "\n",
      "Mean train_roc_auc Value: 0.9460198524965904\n",
      "train_roc_auc scores: [0.94617489 0.94619408 0.94569059]\n",
      "\n",
      "Mean test_roc_auc Value: 0.5690149390453955\n",
      "test_roc_auc scores: [0.57127763 0.56181209 0.57395509]\n",
      "\n",
      "Number of Components: 4\n",
      "---------------------------------------------------------------------------\n",
      "\n",
      "Mean train_accuracy Value: 0.880002749053821\n",
      "train_accuracy scores: [0.88162472 0.87816408 0.88021945]\n",
      "\n",
      "Mean test_accuracy Value: 0.6733211803246779\n",
      "test_accuracy scores: [0.67298024 0.67221098 0.67477232]\n",
      "\n",
      "Mean train_f1 Value: 0.839378036966207\n",
      "train_f1 scores: [0.84131324 0.83726136 0.83955951]\n",
      "\n",
      "Mean test_f1 Value: 0.5554058067736968\n",
      "test_f1 scores: [0.55403191 0.5543039  0.55788161]\n",
      "\n",
      "Mean train_roc_auc Value: 0.958750194583388\n",
      "train_roc_auc scores: [0.95907891 0.95800823 0.95916344]\n",
      "\n",
      "Mean test_roc_auc Value: 0.7290229458704252\n",
      "test_roc_auc scores: [0.72797735 0.72817658 0.73091491]\n",
      "\n",
      "Number of Components: 5\n",
      "---------------------------------------------------------------------------\n",
      "\n",
      "Mean train_accuracy Value: 0.9259431035473998\n",
      "train_accuracy scores: [0.92606881 0.92581701 0.92594349]\n",
      "\n",
      "Mean test_accuracy Value: 0.809692948468617\n",
      "test_accuracy scores: [0.81059289 0.80849987 0.80998609]\n",
      "\n",
      "Mean train_f1 Value: 0.8952906122511212\n",
      "train_f1 scores: [0.89547568 0.89512271 0.89527344]\n",
      "\n",
      "Mean test_f1 Value: 0.7310291887125113\n",
      "test_f1 scores: [0.73275631 0.72759986 0.7327314 ]\n",
      "\n",
      "Mean train_roc_auc Value: 0.9775204069528627\n",
      "train_roc_auc scores: [0.97694727 0.97765567 0.97795829]\n",
      "\n",
      "Mean test_roc_auc Value: 0.8830977235029763\n",
      "test_roc_auc scores: [0.88384266 0.8813267  0.88412382]\n",
      "\n",
      "Number of Components: 6\n",
      "---------------------------------------------------------------------------\n",
      "\n",
      "Mean train_accuracy Value: 0.9589767377924252\n",
      "train_accuracy scores: [0.9590659  0.95977802 0.95808629]\n",
      "\n",
      "Mean test_accuracy Value: 0.8894732984104733\n",
      "test_accuracy scores: [0.8892332  0.88723754 0.89194915]\n",
      "\n",
      "Mean train_f1 Value: 0.9394928302904905\n",
      "train_f1 scores: [0.9395898  0.94062456 0.93826413]\n",
      "\n",
      "Mean test_f1 Value: 0.8358090686003111\n",
      "test_f1 scores: [0.83556307 0.83255071 0.83931343]\n",
      "\n",
      "Mean train_roc_auc Value: 0.991323751638777\n",
      "train_roc_auc scores: [0.99106149 0.991438   0.99147177]\n",
      "\n",
      "Mean test_roc_auc Value: 0.9522283568040112\n",
      "test_roc_auc scores: [0.95310357 0.94922185 0.95435965]\n",
      "\n"
     ]
    }
   ],
   "source": [
    "\n",
    "cv_results_lst = []\n",
    "for n_components in [3,4,5,6]:\n",
    "    print(f\"Number of Components: {n_components}\")\n",
    "    print('-'*75)\n",
    "    print()\n",
    "    pca = PCA(n_components=n_components)\n",
    "    forest = RandomForestClassifier(n_estimators=10)\n",
    "    \n",
    "    pipe = Pipeline(steps = [\n",
    "        ('sampler', under_sampler), #RandomUnderSampler(ratio = 1, random_state = 777)\n",
    "        ('pca', pca),\n",
    "        ('forest', forest)\n",
    "    ])\n",
    "    \n",
    "    cv_results = cross_validate(pipe, X_train, y_train, scoring = ['accuracy', 'f1', 'roc_auc'], \n",
    "                                cv =3, return_estimator=True, return_train_score = True)\n",
    "\n",
    "    cv_results_lst.append(cv_results)\n",
    "    for result in ['train_accuracy', 'test_accuracy', 'train_f1', 'test_f1', 'train_roc_auc', 'test_roc_auc']:\n",
    "        print(f\"Mean {result} Value: {np.mean(cv_results[result])}\")\n",
    "        print(f\"{result} scores: {cv_results[result]}\")\n",
    "        print() \n",
    "    \n",
    "\n",
    "    \n"
   ]
  },
  {
   "cell_type": "code",
   "execution_count": 20,
   "metadata": {},
   "outputs": [
    {
     "data": {
      "text/plain": [
       "Pipeline(memory=None,\n",
       "         steps=[('sampler',\n",
       "                 RandomUnderSampler(random_state=777, ratio=1,\n",
       "                                    replacement=False, return_indices=False,\n",
       "                                    sampling_strategy=1)),\n",
       "                ('pca',\n",
       "                 PCA(copy=True, iterated_power='auto', n_components=6,\n",
       "                     random_state=None, svd_solver='auto', tol=0.0,\n",
       "                     whiten=False)),\n",
       "                ('forest',\n",
       "                 RandomForestClassifier(bootstrap=True, class_weight=None,\n",
       "                                        criterion='gini', max_depth=None,\n",
       "                                        max_features='auto',\n",
       "                                        max_leaf_nodes=None,\n",
       "                                        min_impurity_decrease=0.0,\n",
       "                                        min_impurity_split=None,\n",
       "                                        min_samples_leaf=1, min_samples_split=2,\n",
       "                                        min_weight_fraction_leaf=0.0,\n",
       "                                        n_estimators=10, n_jobs=None,\n",
       "                                        oob_score=False, random_state=None,\n",
       "                                        verbose=0, warm_start=False))],\n",
       "         verbose=False)"
      ]
     },
     "execution_count": 20,
     "metadata": {},
     "output_type": "execute_result"
    }
   ],
   "source": [
    "cv_results_lst[3]['estimator'][0] #n_components of 6, as it performed best"
   ]
  },
  {
   "cell_type": "code",
   "execution_count": 21,
   "metadata": {},
   "outputs": [
    {
     "name": "stdout",
     "output_type": "stream",
     "text": [
      "Accuracy Score: 0.8892648221343874\n",
      "\n",
      "Classification Report: \n",
      "               precision    recall  f1-score   support\n",
      "\n",
      "           0       0.94      0.89      0.92     21552\n",
      "           1       0.79      0.88      0.84     10073\n",
      "\n",
      "    accuracy                           0.89     31625\n",
      "   macro avg       0.87      0.89      0.88     31625\n",
      "weighted avg       0.89      0.89      0.89     31625\n",
      "\n",
      "\n",
      " Confustion Matrix: \n",
      " [[19255  2297]\n",
      " [ 1205  8868]]\n"
     ]
    }
   ],
   "source": [
    "predictions = cv_results_lst[3]['estimator'][0].predict(X_test)\n",
    "\n",
    "def eval_test_set(x_test_predictions, y_test):\n",
    "    print(f\"Accuracy Score: {metrics.accuracy_score(y_test, x_test_predictions)}\")\n",
    "    print()\n",
    "    print(f\"Classification Report: \\n {metrics.classification_report(y_test, x_test_predictions)}\")\n",
    "    print()\n",
    "    print(f\" Confustion Matrix: \\n {metrics.confusion_matrix(y_test, x_test_predictions)}\")\n",
    "\n",
    "eval_test_set(predictions, y_test)"
   ]
  },
  {
   "cell_type": "code",
   "execution_count": 22,
   "metadata": {},
   "outputs": [
    {
     "data": {
      "text/plain": [
       "<matplotlib.axes._subplots.AxesSubplot at 0x7f787cefe0f0>"
      ]
     },
     "execution_count": 22,
     "metadata": {},
     "output_type": "execute_result"
    },
    {
     "data": {
      "image/png": "[encoded data removed]",
      "text/plain": [
       "<Figure size 432x288 with 1 Axes>"
      ]
     },
     "metadata": {
      "needs_background": "light"
     },
     "output_type": "display_data"
    }
   ],
   "source": [
    "pd.Series(cv_results_lst[3]['estimator'][0][2].feature_importances_).plot(kind = 'barh')"
   ]
  },
  {
   "cell_type": "code",
   "execution_count": 23,
   "metadata": {},
   "outputs": [
    {
     "data": {
      "text/plain": [
       "0    0.998133\n",
       "1    0.001305\n",
       "2    0.000458\n",
       "3    0.000083\n",
       "4    0.000008\n",
       "5    0.000005\n",
       "dtype: float64"
      ]
     },
     "execution_count": 23,
     "metadata": {},
     "output_type": "execute_result"
    }
   ],
   "source": [
    "pd.Series(cv_results_lst[3]['estimator'][0][1].explained_variance_ratio_)"
   ]
  },
  {
   "cell_type": "code",
   "execution_count": null,
   "metadata": {},
   "outputs": [],
   "source": []
  }
 ],
 "metadata": {
  "kernelspec": {
   "display_name": "Python 3",
   "language": "python",
   "name": "python3"
  },
  "language_info": {
   "codemirror_mode": {
    "name": "ipython",
    "version": 3
   },
   "file_extension": ".py",
   "mimetype": "text/x-python",
   "name": "python",
   "nbconvert_exporter": "python",
   "pygments_lexer": "ipython3",
   "version": "3.6.7"
  }
 },
 "nbformat": 4,
 "nbformat_minor": 2
}
