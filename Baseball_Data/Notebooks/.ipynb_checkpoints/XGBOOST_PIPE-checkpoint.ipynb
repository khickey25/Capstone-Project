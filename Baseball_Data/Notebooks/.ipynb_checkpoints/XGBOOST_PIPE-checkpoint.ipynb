{
 "cells": [
  {
   "cell_type": "markdown",
   "metadata": {
    "colab_type": "text",
    "id": "k3pP0yl2nqfL"
   },
   "source": [
    "# XGBOOST"
   ]
  },
  {
   "cell_type": "markdown",
   "metadata": {
    "colab_type": "text",
    "id": "uR_XZvOanqfM"
   },
   "source": [
    "## XGBoost Modeling and Analysis\n",
    "\n",
    "### This file is a pipeline of XGBoost modeling.\n",
    "The Pipeline will be as follows:\n",
    "\n",
    "1. Read the data in with custom function built at the end of the `Baseball_EDA` notebook.\n",
    "2. Build a Pipeline object with two components: a random undersampler and the classification model. Random Undersampler was chosen due to imbalance of the target classes. \n",
    "3. Fit the pipeline to training data and verify results using 5-fold cross validation. This process will use custom function in the `Evaluation.py` module.  \n",
    "4. Tune the hyperparameters using Bayesian Optimization with 'skopt' library. "
   ]
  },
  {
   "cell_type": "code",
   "execution_count": null,
   "metadata": {
    "colab": {},
    "colab_type": "code",
    "id": "A1pE7tAGnqfN"
   },
   "outputs": [],
   "source": [
    "#start with all dependencies\n",
    "\n",
    "import numpy as np\n",
    "import pandas as pd\n",
    "from Evaluation import *\n",
    "from data_import import prepare_data\n",
    "import sklearn.metrics as metrics\n",
    "from sklearn.model_selection import cross_val_score, cross_validate, train_test_split\n",
    "from imblearn.under_sampling import RandomUnderSampler\n",
    "from imblearn.pipeline import Pipeline, make_pipeline\n",
    "from sklearn.ensemble import RandomForestClassifier\n",
    "import matplotlib.pyplot as plt\n",
    "%matplotlib inline\n",
    "import seaborn as sns\n",
    "sns.set()\n",
    "import warnings\n",
    "warnings.filterwarnings(\"ignore\", category=FutureWarning)\n",
    "import xgboost as xgb"
   ]
  },
  {
   "cell_type": "code",
   "execution_count": null,
   "metadata": {
    "colab": {
     "base_uri": "https://localhost:8080/",
     "height": 258
    },
    "colab_type": "code",
    "id": "hjch8MZLnqfQ",
    "outputId": "12308124-997c-405e-82e8-c1084adc5d7c"
   },
   "outputs": [
    {
     "data": {
      "text/html": [
       "<div>\n",
       "<style scoped>\n",
       "    .dataframe tbody tr th:only-of-type {\n",
       "        vertical-align: middle;\n",
       "    }\n",
       "\n",
       "    .dataframe tbody tr th {\n",
       "        vertical-align: top;\n",
       "    }\n",
       "\n",
       "    .dataframe thead th {\n",
       "        text-align: right;\n",
       "    }\n",
       "</style>\n",
       "<table border=\"1\" class=\"dataframe\">\n",
       "  <thead>\n",
       "    <tr style=\"text-align: right;\">\n",
       "      <th></th>\n",
       "      <th>release_spin_rate</th>\n",
       "      <th>release_pos_x</th>\n",
       "      <th>release_pos_y</th>\n",
       "      <th>release_pos_z</th>\n",
       "      <th>vx0</th>\n",
       "      <th>vz0</th>\n",
       "      <th>vy0</th>\n",
       "      <th>sz_top</th>\n",
       "      <th>sz_bot</th>\n",
       "      <th>pitch_L</th>\n",
       "      <th>pitch_R</th>\n",
       "      <th>pitch_2-Seam Fastball</th>\n",
       "      <th>pitch_4-Seam Fastball</th>\n",
       "      <th>pitch_Changeup</th>\n",
       "      <th>pitch_Curveball</th>\n",
       "      <th>pitch_Cutter</th>\n",
       "      <th>pitch_Sinker</th>\n",
       "      <th>pitch_Slider</th>\n",
       "      <th>pitch_Split Finger</th>\n",
       "    </tr>\n",
       "  </thead>\n",
       "  <tbody>\n",
       "    <tr>\n",
       "      <th>0</th>\n",
       "      <td>2314.0</td>\n",
       "      <td>3.2655</td>\n",
       "      <td>54.4995</td>\n",
       "      <td>5.2575</td>\n",
       "      <td>-9.8035</td>\n",
       "      <td>0.1339</td>\n",
       "      <td>-138.1130</td>\n",
       "      <td>3.2971</td>\n",
       "      <td>1.5059</td>\n",
       "      <td>1</td>\n",
       "      <td>0</td>\n",
       "      <td>1</td>\n",
       "      <td>0</td>\n",
       "      <td>0</td>\n",
       "      <td>0</td>\n",
       "      <td>0</td>\n",
       "      <td>0</td>\n",
       "      <td>0</td>\n",
       "      <td>0</td>\n",
       "    </tr>\n",
       "    <tr>\n",
       "      <th>1</th>\n",
       "      <td>2324.0</td>\n",
       "      <td>3.1728</td>\n",
       "      <td>54.3094</td>\n",
       "      <td>5.3966</td>\n",
       "      <td>-9.0084</td>\n",
       "      <td>-2.4218</td>\n",
       "      <td>-140.5865</td>\n",
       "      <td>3.3136</td>\n",
       "      <td>1.5730</td>\n",
       "      <td>1</td>\n",
       "      <td>0</td>\n",
       "      <td>0</td>\n",
       "      <td>1</td>\n",
       "      <td>0</td>\n",
       "      <td>0</td>\n",
       "      <td>0</td>\n",
       "      <td>0</td>\n",
       "      <td>0</td>\n",
       "      <td>0</td>\n",
       "    </tr>\n",
       "    <tr>\n",
       "      <th>2</th>\n",
       "      <td>2521.0</td>\n",
       "      <td>3.3517</td>\n",
       "      <td>55.0820</td>\n",
       "      <td>5.1205</td>\n",
       "      <td>-3.7285</td>\n",
       "      <td>1.2140</td>\n",
       "      <td>-117.3223</td>\n",
       "      <td>3.9119</td>\n",
       "      <td>1.7080</td>\n",
       "      <td>1</td>\n",
       "      <td>0</td>\n",
       "      <td>0</td>\n",
       "      <td>0</td>\n",
       "      <td>0</td>\n",
       "      <td>0</td>\n",
       "      <td>0</td>\n",
       "      <td>0</td>\n",
       "      <td>1</td>\n",
       "      <td>0</td>\n",
       "    </tr>\n",
       "    <tr>\n",
       "      <th>3</th>\n",
       "      <td>2329.0</td>\n",
       "      <td>3.1334</td>\n",
       "      <td>54.0207</td>\n",
       "      <td>5.2136</td>\n",
       "      <td>-12.0533</td>\n",
       "      <td>-5.1407</td>\n",
       "      <td>-139.3669</td>\n",
       "      <td>3.5553</td>\n",
       "      <td>1.5639</td>\n",
       "      <td>1</td>\n",
       "      <td>0</td>\n",
       "      <td>0</td>\n",
       "      <td>1</td>\n",
       "      <td>0</td>\n",
       "      <td>0</td>\n",
       "      <td>0</td>\n",
       "      <td>0</td>\n",
       "      <td>0</td>\n",
       "      <td>0</td>\n",
       "    </tr>\n",
       "    <tr>\n",
       "      <th>4</th>\n",
       "      <td>2437.0</td>\n",
       "      <td>3.3033</td>\n",
       "      <td>54.3597</td>\n",
       "      <td>5.0589</td>\n",
       "      <td>-14.0287</td>\n",
       "      <td>-3.3434</td>\n",
       "      <td>-139.8559</td>\n",
       "      <td>3.3450</td>\n",
       "      <td>1.6241</td>\n",
       "      <td>1</td>\n",
       "      <td>0</td>\n",
       "      <td>0</td>\n",
       "      <td>1</td>\n",
       "      <td>0</td>\n",
       "      <td>0</td>\n",
       "      <td>0</td>\n",
       "      <td>0</td>\n",
       "      <td>0</td>\n",
       "      <td>0</td>\n",
       "    </tr>\n",
       "  </tbody>\n",
       "</table>\n",
       "</div>"
      ],
      "text/plain": [
       "   release_spin_rate  release_pos_x  ...  pitch_Slider  pitch_Split Finger\n",
       "0             2314.0         3.2655  ...             0                   0\n",
       "1             2324.0         3.1728  ...             0                   0\n",
       "2             2521.0         3.3517  ...             1                   0\n",
       "3             2329.0         3.1334  ...             0                   0\n",
       "4             2437.0         3.3033  ...             0                   0\n",
       "\n",
       "[5 rows x 19 columns]"
      ]
     },
     "execution_count": 5,
     "metadata": {
      "tags": []
     },
     "output_type": "execute_result"
    }
   ],
   "source": [
    "#Read in the data as pandas dataframe\n",
    "file = '../Statcast_data.csv'\n",
    "\n",
    "#define bsb as the full dataframe\n",
    "bsb = prepare_data('../Statcast_data.csv')\n",
    "\n",
    "#filter out the predictors and the target\n",
    "X = bsb.drop(columns = ['player_name', 'description'])\n",
    "y = bsb['description']\n",
    "\n",
    "#quick look to see above worked. \n",
    "X.head()\n",
    "\n"
   ]
  },
  {
   "cell_type": "markdown",
   "metadata": {
    "colab_type": "text",
    "id": "S0fGDrDgnqfX"
   },
   "source": [
    "# XGBoost"
   ]
  },
  {
   "cell_type": "code",
   "execution_count": null,
   "metadata": {
    "colab": {
     "base_uri": "https://localhost:8080/",
     "height": 323
    },
    "colab_type": "code",
    "id": "Yw1A4WagnqfX",
    "outputId": "4c6508e0-c904-44bd-95ae-8c9993c8a434"
   },
   "outputs": [
    {
     "name": "stdout",
     "output_type": "stream",
     "text": [
      "Mean train_accuracy Value: 0.6928996176892199\n",
      "train_accuracy scores: [0.6963001  0.69110865 0.695022   0.69102959 0.69103774]\n",
      "\n",
      "Mean test_accuracy Value: 0.6851626184158127\n",
      "test_accuracy scores: [0.68541162 0.68288184 0.68725625 0.68145884 0.68880455]\n",
      "\n",
      "Mean train_f1 Value: 0.6352614631922883\n",
      "train_f1 scores: [0.63733774 0.63477028 0.63580577 0.63489295 0.63350057]\n",
      "\n",
      "Mean test_f1 Value: 0.6257969601717097\n",
      "test_f1 scores: [0.6234307  0.62564549 0.62533148 0.62585118 0.62872595]\n",
      "\n",
      "Mean train_roc_auc Value: 0.7987841274871798\n",
      "train_roc_auc scores: [0.79984129 0.79645041 0.800181   0.79962628 0.79782166]\n",
      "\n",
      "Mean test_roc_auc Value: 0.7874905608181912\n",
      "test_roc_auc scores: [0.78134095 0.79045872 0.78552407 0.78458182 0.79554726]\n",
      "\n"
     ]
    }
   ],
   "source": [
    "#split the data into training and testing splits\n",
    "X_train, X_test, y_train, y_test = train_test_split(X.values, y.values, random_state = 777)\n",
    "\n",
    "#build the pipeline object\n",
    "#use a vanilla XGBoost Classifier\n",
    "XGB = xgb.XGBClassifier()\n",
    "sampler = RandomUnderSampler(ratio = 1, random_state=777)\n",
    "\n",
    "xgb_pipe = Pipeline(steps = [\n",
    "    (\"sampler\", sampler),\n",
    "     ('xgb', XGB)])\n",
    "\n",
    "xgb_pipe_results = cross_validate(xgb_pipe, X_train, y_train, \n",
    "                            scoring = ['accuracy', 'f1', 'roc_auc'], \n",
    "                            cv =5, return_estimator=True, return_train_score = True)\n",
    "\n",
    "for result in ['train_accuracy', 'test_accuracy', 'train_f1', 'test_f1', 'train_roc_auc', 'test_roc_auc']:\n",
    "    print(f\"Mean {result} Value: {np.mean(xgb_pipe_results[result])}\")\n",
    "    print(f\"{result} scores: {xgb_pipe_results[result]}\")\n",
    "    print() "
   ]
  },
  {
   "cell_type": "code",
   "execution_count": null,
   "metadata": {
    "colab": {
     "base_uri": "https://localhost:8080/",
     "height": 357
    },
    "colab_type": "code",
    "id": "E64jmvsenqfb",
    "outputId": "9a1c0cbc-a734-41d9-ccc4-6cbd1521c96c"
   },
   "outputs": [
    {
     "name": "stdout",
     "output_type": "stream",
     "text": [
      "Accuracy Score: 0.6879486449735952\n",
      "\n",
      "AUC Score: 0.7231291993275497\n",
      "\n",
      "F1 Score: 0.6292177049673104\n",
      "\n",
      "Classification Report: \n",
      "               precision    recall  f1-score   support\n",
      "\n",
      "           0       0.88      0.62      0.73     21437\n",
      "           1       0.51      0.82      0.63     10186\n",
      "\n",
      "   micro avg       0.69      0.69      0.69     31623\n",
      "   macro avg       0.70      0.72      0.68     31623\n",
      "weighted avg       0.76      0.69      0.70     31623\n",
      "\n",
      "\n",
      " Confustion Matrix: \n",
      " [[13382  8055]\n",
      " [ 1813  8373]]\n"
     ]
    }
   ],
   "source": [
    "predictions = xgb_pipe_results['estimator'][0].predict(X_test)\n",
    "\n",
    "eval_test_set(predictions, y_test)\n",
    "\n"
   ]
  },
  {
   "cell_type": "code",
   "execution_count": null,
   "metadata": {
    "colab": {},
    "colab_type": "code",
    "id": "ryTK8UBGnqfi"
   },
   "outputs": [],
   "source": [
    "from skopt import BayesSearchCV\n",
    "\n",
    "ITERATIONS = 50\n",
    "bayes_cv_tuner = BayesSearchCV(\n",
    "    estimator = xgb_pipe,\n",
    "    search_spaces = {\n",
    "        'xgb__learning_rate': (0.01, 1.0, 'log-uniform'),\n",
    "        'xgb__min_child_weight': (0, 10),\n",
    "        'xgb__max_depth': (1, 50),\n",
    "        'xgb__max_delta_step': (0, 20),\n",
    "        'xgb__subsample': (0.01, 1.0, 'uniform'),\n",
    "        'xgb__colsample_bytree': (0.01, 1.0, 'uniform'),\n",
    "        'xgb__colsample_bylevel': (0.01, 1.0, 'uniform'),\n",
    "        'xgb__reg_lambda': (1e-9, 1000, 'log-uniform'),\n",
    "        'xgb__reg_alpha': (1e-9, 1.0, 'log-uniform'),\n",
    "        'xgb__gamma': (1e-9, 0.5, 'log-uniform'),\n",
    "        'xgb__min_child_weight': (0, 5),\n",
    "        'xgb__n_estimators': (50, 100),\n",
    "        'xgb__scale_pos_weight': (1e-6, 500, 'log-uniform')\n",
    "    },    \n",
    "    scoring = 'f1',\n",
    "    cv = 3,\n",
    "    n_jobs = -1,\n",
    "    n_iter = ITERATIONS,   \n",
    "    verbose = 0,\n",
    "    refit = True,\n",
    "    random_state = 2019\n",
    ")\n",
    "\n",
    "def status_print(optim_result):\n",
    "    \"\"\"Status callback durring bayesian hyperparameter search\"\"\"\n",
    "    \n",
    "    # Get all the models tested so far in DataFrame format\n",
    "    all_models = pd.DataFrame(bayes_cv_tuner.cv_results_)    \n",
    "    \n",
    "    # Get current parameters and the best parameters    \n",
    "    best_params = pd.Series(bayes_cv_tuner.best_params_)\n",
    "    print('Model #{}\\nBest ROC-AUC: {}\\nBest params: {}\\n'.format(\n",
    "        len(all_models),\n",
    "        np.round(bayes_cv_tuner.best_score_, 4),\n",
    "        bayes_cv_tuner.best_params_\n",
    "    ))"
   ]
  },
  {
   "cell_type": "code",
   "execution_count": null,
   "metadata": {
    "colab": {
     "base_uri": "https://localhost:8080/",
     "height": 3437
    },
    "colab_type": "code",
    "id": "-OzqS6Qhnqfk",
    "outputId": "449f635b-009b-42bb-e66e-9b336066983f",
    "scrolled": true
   },
   "outputs": [
    {
     "name": "stdout",
     "output_type": "stream",
     "text": [
      "Model #1\n",
      "Best ROC-AUC: 0.0\n",
      "Best params: {'xgb__colsample_bylevel': 0.6209161581689696, 'xgb__colsample_bytree': 0.9543275764819017, 'xgb__gamma': 0.019306137883859383, 'xgb__learning_rate': 0.03133533072824358, 'xgb__max_delta_step': 1, 'xgb__max_depth': 11, 'xgb__min_child_weight': 5, 'xgb__n_estimators': 57, 'xgb__reg_alpha': 0.00031596262458470826, 'xgb__reg_lambda': 0.18102189707922706, 'xgb__scale_pos_weight': 0.02920585956428371, 'xgb__subsample': 0.5387531676662357}\n",
      "\n",
      "Model #2\n",
      "Best ROC-AUC: 0.4945\n",
      "Best params: {'xgb__colsample_bylevel': 0.5708090752014388, 'xgb__colsample_bytree': 0.29151890296236854, 'xgb__gamma': 3.2614413979366036e-09, 'xgb__learning_rate': 0.45037921115768326, 'xgb__max_delta_step': 20, 'xgb__max_depth': 9, 'xgb__min_child_weight': 2, 'xgb__n_estimators': 79, 'xgb__reg_alpha': 7.133539629535907e-08, 'xgb__reg_lambda': 1.476688415636138e-07, 'xgb__scale_pos_weight': 23.669853155636478, 'xgb__subsample': 0.05948834424298481}\n",
      "\n",
      "Model #3\n",
      "Best ROC-AUC: 0.4945\n",
      "Best params: {'xgb__colsample_bylevel': 0.5708090752014388, 'xgb__colsample_bytree': 0.29151890296236854, 'xgb__gamma': 3.2614413979366036e-09, 'xgb__learning_rate': 0.45037921115768326, 'xgb__max_delta_step': 20, 'xgb__max_depth': 9, 'xgb__min_child_weight': 2, 'xgb__n_estimators': 79, 'xgb__reg_alpha': 7.133539629535907e-08, 'xgb__reg_lambda': 1.476688415636138e-07, 'xgb__scale_pos_weight': 23.669853155636478, 'xgb__subsample': 0.05948834424298481}\n",
      "\n",
      "Model #4\n",
      "Best ROC-AUC: 0.5383\n",
      "Best params: {'xgb__colsample_bylevel': 0.8506120087489681, 'xgb__colsample_bytree': 0.4353668066570514, 'xgb__gamma': 0.015303832638663898, 'xgb__learning_rate': 0.010901757755696722, 'xgb__max_delta_step': 10, 'xgb__max_depth': 48, 'xgb__min_child_weight': 1, 'xgb__n_estimators': 55, 'xgb__reg_alpha': 1.655534184728137e-07, 'xgb__reg_lambda': 0.15007254540719694, 'xgb__scale_pos_weight': 24.621318956691496, 'xgb__subsample': 0.6461085825512918}\n",
      "\n",
      "Model #5\n",
      "Best ROC-AUC: 0.5383\n",
      "Best params: {'xgb__colsample_bylevel': 0.8506120087489681, 'xgb__colsample_bytree': 0.4353668066570514, 'xgb__gamma': 0.015303832638663898, 'xgb__learning_rate': 0.010901757755696722, 'xgb__max_delta_step': 10, 'xgb__max_depth': 48, 'xgb__min_child_weight': 1, 'xgb__n_estimators': 55, 'xgb__reg_alpha': 1.655534184728137e-07, 'xgb__reg_lambda': 0.15007254540719694, 'xgb__scale_pos_weight': 24.621318956691496, 'xgb__subsample': 0.6461085825512918}\n",
      "\n",
      "Model #6\n",
      "Best ROC-AUC: 0.5383\n",
      "Best params: {'xgb__colsample_bylevel': 0.8506120087489681, 'xgb__colsample_bytree': 0.4353668066570514, 'xgb__gamma': 0.015303832638663898, 'xgb__learning_rate': 0.010901757755696722, 'xgb__max_delta_step': 10, 'xgb__max_depth': 48, 'xgb__min_child_weight': 1, 'xgb__n_estimators': 55, 'xgb__reg_alpha': 1.655534184728137e-07, 'xgb__reg_lambda': 0.15007254540719694, 'xgb__scale_pos_weight': 24.621318956691496, 'xgb__subsample': 0.6461085825512918}\n",
      "\n",
      "Model #7\n",
      "Best ROC-AUC: 0.5383\n",
      "Best params: {'xgb__colsample_bylevel': 0.8506120087489681, 'xgb__colsample_bytree': 0.4353668066570514, 'xgb__gamma': 0.015303832638663898, 'xgb__learning_rate': 0.010901757755696722, 'xgb__max_delta_step': 10, 'xgb__max_depth': 48, 'xgb__min_child_weight': 1, 'xgb__n_estimators': 55, 'xgb__reg_alpha': 1.655534184728137e-07, 'xgb__reg_lambda': 0.15007254540719694, 'xgb__scale_pos_weight': 24.621318956691496, 'xgb__subsample': 0.6461085825512918}\n",
      "\n",
      "Model #8\n",
      "Best ROC-AUC: 0.6418\n",
      "Best params: {'xgb__colsample_bylevel': 0.8708910829618655, 'xgb__colsample_bytree': 0.46934930401203256, 'xgb__gamma': 0.20186021826175005, 'xgb__learning_rate': 0.02736566935792325, 'xgb__max_delta_step': 9, 'xgb__max_depth': 13, 'xgb__min_child_weight': 3, 'xgb__n_estimators': 57, 'xgb__reg_alpha': 2.8506373213826874e-06, 'xgb__reg_lambda': 8.830563087769766e-06, 'xgb__scale_pos_weight': 1.338704175996959, 'xgb__subsample': 0.9841735443692645}\n",
      "\n",
      "Model #9\n",
      "Best ROC-AUC: 0.6418\n",
      "Best params: {'xgb__colsample_bylevel': 0.8708910829618655, 'xgb__colsample_bytree': 0.46934930401203256, 'xgb__gamma': 0.20186021826175005, 'xgb__learning_rate': 0.02736566935792325, 'xgb__max_delta_step': 9, 'xgb__max_depth': 13, 'xgb__min_child_weight': 3, 'xgb__n_estimators': 57, 'xgb__reg_alpha': 2.8506373213826874e-06, 'xgb__reg_lambda': 8.830563087769766e-06, 'xgb__scale_pos_weight': 1.338704175996959, 'xgb__subsample': 0.9841735443692645}\n",
      "\n",
      "Model #10\n",
      "Best ROC-AUC: 0.6418\n",
      "Best params: {'xgb__colsample_bylevel': 0.8708910829618655, 'xgb__colsample_bytree': 0.46934930401203256, 'xgb__gamma': 0.20186021826175005, 'xgb__learning_rate': 0.02736566935792325, 'xgb__max_delta_step': 9, 'xgb__max_depth': 13, 'xgb__min_child_weight': 3, 'xgb__n_estimators': 57, 'xgb__reg_alpha': 2.8506373213826874e-06, 'xgb__reg_lambda': 8.830563087769766e-06, 'xgb__scale_pos_weight': 1.338704175996959, 'xgb__subsample': 0.9841735443692645}\n",
      "\n",
      "Model #11\n",
      "Best ROC-AUC: 0.6455\n",
      "Best params: {'xgb__colsample_bylevel': 1.0, 'xgb__colsample_bytree': 0.4899990711270224, 'xgb__gamma': 0.49999999999999994, 'xgb__learning_rate': 0.010529331450895591, 'xgb__max_delta_step': 11, 'xgb__max_depth': 17, 'xgb__min_child_weight': 2, 'xgb__n_estimators': 70, 'xgb__reg_alpha': 5.588444723146244e-07, 'xgb__reg_lambda': 0.0013695902317227158, 'xgb__scale_pos_weight': 1.7231905909732774, 'xgb__subsample': 1.0}\n",
      "\n",
      "Model #12\n",
      "Best ROC-AUC: 0.6455\n",
      "Best params: {'xgb__colsample_bylevel': 1.0, 'xgb__colsample_bytree': 0.4899990711270224, 'xgb__gamma': 0.49999999999999994, 'xgb__learning_rate': 0.010529331450895591, 'xgb__max_delta_step': 11, 'xgb__max_depth': 17, 'xgb__min_child_weight': 2, 'xgb__n_estimators': 70, 'xgb__reg_alpha': 5.588444723146244e-07, 'xgb__reg_lambda': 0.0013695902317227158, 'xgb__scale_pos_weight': 1.7231905909732774, 'xgb__subsample': 1.0}\n",
      "\n",
      "Model #13\n",
      "Best ROC-AUC: 0.6975\n",
      "Best params: {'xgb__colsample_bylevel': 1.0, 'xgb__colsample_bytree': 0.7125279496424263, 'xgb__gamma': 0.49999999999999994, 'xgb__learning_rate': 0.03772644728582264, 'xgb__max_delta_step': 5, 'xgb__max_depth': 30, 'xgb__min_child_weight': 2, 'xgb__n_estimators': 74, 'xgb__reg_alpha': 1.005344302301351e-08, 'xgb__reg_lambda': 5.19390405061616e-09, 'xgb__scale_pos_weight': 1.6145322251280985, 'xgb__subsample': 0.8549642099173584}\n",
      "\n",
      "Model #14\n",
      "Best ROC-AUC: 0.6975\n",
      "Best params: {'xgb__colsample_bylevel': 1.0, 'xgb__colsample_bytree': 0.7125279496424263, 'xgb__gamma': 0.49999999999999994, 'xgb__learning_rate': 0.03772644728582264, 'xgb__max_delta_step': 5, 'xgb__max_depth': 30, 'xgb__min_child_weight': 2, 'xgb__n_estimators': 74, 'xgb__reg_alpha': 1.005344302301351e-08, 'xgb__reg_lambda': 5.19390405061616e-09, 'xgb__scale_pos_weight': 1.6145322251280985, 'xgb__subsample': 0.8549642099173584}\n",
      "\n",
      "Model #15\n",
      "Best ROC-AUC: 0.6975\n",
      "Best params: {'xgb__colsample_bylevel': 1.0, 'xgb__colsample_bytree': 0.7125279496424263, 'xgb__gamma': 0.49999999999999994, 'xgb__learning_rate': 0.03772644728582264, 'xgb__max_delta_step': 5, 'xgb__max_depth': 30, 'xgb__min_child_weight': 2, 'xgb__n_estimators': 74, 'xgb__reg_alpha': 1.005344302301351e-08, 'xgb__reg_lambda': 5.19390405061616e-09, 'xgb__scale_pos_weight': 1.6145322251280985, 'xgb__subsample': 0.8549642099173584}\n",
      "\n",
      "Model #16\n",
      "Best ROC-AUC: 0.6975\n",
      "Best params: {'xgb__colsample_bylevel': 1.0, 'xgb__colsample_bytree': 0.7125279496424263, 'xgb__gamma': 0.49999999999999994, 'xgb__learning_rate': 0.03772644728582264, 'xgb__max_delta_step': 5, 'xgb__max_depth': 30, 'xgb__min_child_weight': 2, 'xgb__n_estimators': 74, 'xgb__reg_alpha': 1.005344302301351e-08, 'xgb__reg_lambda': 5.19390405061616e-09, 'xgb__scale_pos_weight': 1.6145322251280985, 'xgb__subsample': 0.8549642099173584}\n",
      "\n",
      "Model #17\n",
      "Best ROC-AUC: 0.6975\n",
      "Best params: {'xgb__colsample_bylevel': 1.0, 'xgb__colsample_bytree': 0.7125279496424263, 'xgb__gamma': 0.49999999999999994, 'xgb__learning_rate': 0.03772644728582264, 'xgb__max_delta_step': 5, 'xgb__max_depth': 30, 'xgb__min_child_weight': 2, 'xgb__n_estimators': 74, 'xgb__reg_alpha': 1.005344302301351e-08, 'xgb__reg_lambda': 5.19390405061616e-09, 'xgb__scale_pos_weight': 1.6145322251280985, 'xgb__subsample': 0.8549642099173584}\n",
      "\n",
      "Model #18\n",
      "Best ROC-AUC: 0.6975\n",
      "Best params: {'xgb__colsample_bylevel': 1.0, 'xgb__colsample_bytree': 0.7125279496424263, 'xgb__gamma': 0.49999999999999994, 'xgb__learning_rate': 0.03772644728582264, 'xgb__max_delta_step': 5, 'xgb__max_depth': 30, 'xgb__min_child_weight': 2, 'xgb__n_estimators': 74, 'xgb__reg_alpha': 1.005344302301351e-08, 'xgb__reg_lambda': 5.19390405061616e-09, 'xgb__scale_pos_weight': 1.6145322251280985, 'xgb__subsample': 0.8549642099173584}\n",
      "\n",
      "Model #19\n",
      "Best ROC-AUC: 0.6975\n",
      "Best params: {'xgb__colsample_bylevel': 1.0, 'xgb__colsample_bytree': 0.7125279496424263, 'xgb__gamma': 0.49999999999999994, 'xgb__learning_rate': 0.03772644728582264, 'xgb__max_delta_step': 5, 'xgb__max_depth': 30, 'xgb__min_child_weight': 2, 'xgb__n_estimators': 74, 'xgb__reg_alpha': 1.005344302301351e-08, 'xgb__reg_lambda': 5.19390405061616e-09, 'xgb__scale_pos_weight': 1.6145322251280985, 'xgb__subsample': 0.8549642099173584}\n",
      "\n",
      "Model #20\n",
      "Best ROC-AUC: 0.6975\n",
      "Best params: {'xgb__colsample_bylevel': 1.0, 'xgb__colsample_bytree': 0.7125279496424263, 'xgb__gamma': 0.49999999999999994, 'xgb__learning_rate': 0.03772644728582264, 'xgb__max_delta_step': 5, 'xgb__max_depth': 30, 'xgb__min_child_weight': 2, 'xgb__n_estimators': 74, 'xgb__reg_alpha': 1.005344302301351e-08, 'xgb__reg_lambda': 5.19390405061616e-09, 'xgb__scale_pos_weight': 1.6145322251280985, 'xgb__subsample': 0.8549642099173584}\n",
      "\n",
      "Model #21\n",
      "Best ROC-AUC: 0.6975\n",
      "Best params: {'xgb__colsample_bylevel': 1.0, 'xgb__colsample_bytree': 0.7125279496424263, 'xgb__gamma': 0.49999999999999994, 'xgb__learning_rate': 0.03772644728582264, 'xgb__max_delta_step': 5, 'xgb__max_depth': 30, 'xgb__min_child_weight': 2, 'xgb__n_estimators': 74, 'xgb__reg_alpha': 1.005344302301351e-08, 'xgb__reg_lambda': 5.19390405061616e-09, 'xgb__scale_pos_weight': 1.6145322251280985, 'xgb__subsample': 0.8549642099173584}\n",
      "\n",
      "Model #22\n",
      "Best ROC-AUC: 0.6975\n",
      "Best params: {'xgb__colsample_bylevel': 1.0, 'xgb__colsample_bytree': 0.7125279496424263, 'xgb__gamma': 0.49999999999999994, 'xgb__learning_rate': 0.03772644728582264, 'xgb__max_delta_step': 5, 'xgb__max_depth': 30, 'xgb__min_child_weight': 2, 'xgb__n_estimators': 74, 'xgb__reg_alpha': 1.005344302301351e-08, 'xgb__reg_lambda': 5.19390405061616e-09, 'xgb__scale_pos_weight': 1.6145322251280985, 'xgb__subsample': 0.8549642099173584}\n",
      "\n",
      "Model #23\n",
      "Best ROC-AUC: 0.6975\n",
      "Best params: {'xgb__colsample_bylevel': 1.0, 'xgb__colsample_bytree': 0.7125279496424263, 'xgb__gamma': 0.49999999999999994, 'xgb__learning_rate': 0.03772644728582264, 'xgb__max_delta_step': 5, 'xgb__max_depth': 30, 'xgb__min_child_weight': 2, 'xgb__n_estimators': 74, 'xgb__reg_alpha': 1.005344302301351e-08, 'xgb__reg_lambda': 5.19390405061616e-09, 'xgb__scale_pos_weight': 1.6145322251280985, 'xgb__subsample': 0.8549642099173584}\n",
      "\n",
      "Model #24\n",
      "Best ROC-AUC: 0.6975\n",
      "Best params: {'xgb__colsample_bylevel': 1.0, 'xgb__colsample_bytree': 0.7125279496424263, 'xgb__gamma': 0.49999999999999994, 'xgb__learning_rate': 0.03772644728582264, 'xgb__max_delta_step': 5, 'xgb__max_depth': 30, 'xgb__min_child_weight': 2, 'xgb__n_estimators': 74, 'xgb__reg_alpha': 1.005344302301351e-08, 'xgb__reg_lambda': 5.19390405061616e-09, 'xgb__scale_pos_weight': 1.6145322251280985, 'xgb__subsample': 0.8549642099173584}\n",
      "\n",
      "Model #25\n",
      "Best ROC-AUC: 0.6975\n",
      "Best params: {'xgb__colsample_bylevel': 1.0, 'xgb__colsample_bytree': 0.7125279496424263, 'xgb__gamma': 0.49999999999999994, 'xgb__learning_rate': 0.03772644728582264, 'xgb__max_delta_step': 5, 'xgb__max_depth': 30, 'xgb__min_child_weight': 2, 'xgb__n_estimators': 74, 'xgb__reg_alpha': 1.005344302301351e-08, 'xgb__reg_lambda': 5.19390405061616e-09, 'xgb__scale_pos_weight': 1.6145322251280985, 'xgb__subsample': 0.8549642099173584}\n",
      "\n",
      "Model #26\n",
      "Best ROC-AUC: 0.6975\n",
      "Best params: {'xgb__colsample_bylevel': 1.0, 'xgb__colsample_bytree': 0.7125279496424263, 'xgb__gamma': 0.49999999999999994, 'xgb__learning_rate': 0.03772644728582264, 'xgb__max_delta_step': 5, 'xgb__max_depth': 30, 'xgb__min_child_weight': 2, 'xgb__n_estimators': 74, 'xgb__reg_alpha': 1.005344302301351e-08, 'xgb__reg_lambda': 5.19390405061616e-09, 'xgb__scale_pos_weight': 1.6145322251280985, 'xgb__subsample': 0.8549642099173584}\n",
      "\n",
      "Model #27\n",
      "Best ROC-AUC: 0.6975\n",
      "Best params: {'xgb__colsample_bylevel': 1.0, 'xgb__colsample_bytree': 0.7125279496424263, 'xgb__gamma': 0.49999999999999994, 'xgb__learning_rate': 0.03772644728582264, 'xgb__max_delta_step': 5, 'xgb__max_depth': 30, 'xgb__min_child_weight': 2, 'xgb__n_estimators': 74, 'xgb__reg_alpha': 1.005344302301351e-08, 'xgb__reg_lambda': 5.19390405061616e-09, 'xgb__scale_pos_weight': 1.6145322251280985, 'xgb__subsample': 0.8549642099173584}\n",
      "\n",
      "Model #28\n",
      "Best ROC-AUC: 0.6975\n",
      "Best params: {'xgb__colsample_bylevel': 1.0, 'xgb__colsample_bytree': 0.7125279496424263, 'xgb__gamma': 0.49999999999999994, 'xgb__learning_rate': 0.03772644728582264, 'xgb__max_delta_step': 5, 'xgb__max_depth': 30, 'xgb__min_child_weight': 2, 'xgb__n_estimators': 74, 'xgb__reg_alpha': 1.005344302301351e-08, 'xgb__reg_lambda': 5.19390405061616e-09, 'xgb__scale_pos_weight': 1.6145322251280985, 'xgb__subsample': 0.8549642099173584}\n",
      "\n",
      "Model #29\n",
      "Best ROC-AUC: 0.6975\n",
      "Best params: {'xgb__colsample_bylevel': 1.0, 'xgb__colsample_bytree': 0.7125279496424263, 'xgb__gamma': 0.49999999999999994, 'xgb__learning_rate': 0.03772644728582264, 'xgb__max_delta_step': 5, 'xgb__max_depth': 30, 'xgb__min_child_weight': 2, 'xgb__n_estimators': 74, 'xgb__reg_alpha': 1.005344302301351e-08, 'xgb__reg_lambda': 5.19390405061616e-09, 'xgb__scale_pos_weight': 1.6145322251280985, 'xgb__subsample': 0.8549642099173584}\n",
      "\n",
      "Model #30\n",
      "Best ROC-AUC: 0.6975\n",
      "Best params: {'xgb__colsample_bylevel': 1.0, 'xgb__colsample_bytree': 0.7125279496424263, 'xgb__gamma': 0.49999999999999994, 'xgb__learning_rate': 0.03772644728582264, 'xgb__max_delta_step': 5, 'xgb__max_depth': 30, 'xgb__min_child_weight': 2, 'xgb__n_estimators': 74, 'xgb__reg_alpha': 1.005344302301351e-08, 'xgb__reg_lambda': 5.19390405061616e-09, 'xgb__scale_pos_weight': 1.6145322251280985, 'xgb__subsample': 0.8549642099173584}\n",
      "\n",
      "Model #31\n",
      "Best ROC-AUC: 0.706\n",
      "Best params: {'xgb__colsample_bylevel': 1.0, 'xgb__colsample_bytree': 1.0, 'xgb__gamma': 0.49999999999999994, 'xgb__learning_rate': 0.1398912261671788, 'xgb__max_delta_step': 0, 'xgb__max_depth': 48, 'xgb__min_child_weight': 3, 'xgb__n_estimators': 86, 'xgb__reg_alpha': 1.006371215073591e-09, 'xgb__reg_lambda': 1.0144772025674091e-07, 'xgb__scale_pos_weight': 2.126677169065608, 'xgb__subsample': 1.0}\n",
      "\n",
      "Model #32\n",
      "Best ROC-AUC: 0.706\n",
      "Best params: {'xgb__colsample_bylevel': 1.0, 'xgb__colsample_bytree': 1.0, 'xgb__gamma': 0.49999999999999994, 'xgb__learning_rate': 0.1398912261671788, 'xgb__max_delta_step': 0, 'xgb__max_depth': 48, 'xgb__min_child_weight': 3, 'xgb__n_estimators': 86, 'xgb__reg_alpha': 1.006371215073591e-09, 'xgb__reg_lambda': 1.0144772025674091e-07, 'xgb__scale_pos_weight': 2.126677169065608, 'xgb__subsample': 1.0}\n",
      "\n",
      "Model #33\n",
      "Best ROC-AUC: 0.706\n",
      "Best params: {'xgb__colsample_bylevel': 1.0, 'xgb__colsample_bytree': 1.0, 'xgb__gamma': 0.49999999999999994, 'xgb__learning_rate': 0.1398912261671788, 'xgb__max_delta_step': 0, 'xgb__max_depth': 48, 'xgb__min_child_weight': 3, 'xgb__n_estimators': 86, 'xgb__reg_alpha': 1.006371215073591e-09, 'xgb__reg_lambda': 1.0144772025674091e-07, 'xgb__scale_pos_weight': 2.126677169065608, 'xgb__subsample': 1.0}\n",
      "\n",
      "Model #34\n",
      "Best ROC-AUC: 0.706\n",
      "Best params: {'xgb__colsample_bylevel': 1.0, 'xgb__colsample_bytree': 1.0, 'xgb__gamma': 0.49999999999999994, 'xgb__learning_rate': 0.1398912261671788, 'xgb__max_delta_step': 0, 'xgb__max_depth': 48, 'xgb__min_child_weight': 3, 'xgb__n_estimators': 86, 'xgb__reg_alpha': 1.006371215073591e-09, 'xgb__reg_lambda': 1.0144772025674091e-07, 'xgb__scale_pos_weight': 2.126677169065608, 'xgb__subsample': 1.0}\n",
      "\n",
      "Model #35\n",
      "Best ROC-AUC: 0.706\n",
      "Best params: {'xgb__colsample_bylevel': 1.0, 'xgb__colsample_bytree': 1.0, 'xgb__gamma': 0.49999999999999994, 'xgb__learning_rate': 0.1398912261671788, 'xgb__max_delta_step': 0, 'xgb__max_depth': 48, 'xgb__min_child_weight': 3, 'xgb__n_estimators': 86, 'xgb__reg_alpha': 1.006371215073591e-09, 'xgb__reg_lambda': 1.0144772025674091e-07, 'xgb__scale_pos_weight': 2.126677169065608, 'xgb__subsample': 1.0}\n",
      "\n",
      "Model #36\n",
      "Best ROC-AUC: 0.706\n",
      "Best params: {'xgb__colsample_bylevel': 1.0, 'xgb__colsample_bytree': 1.0, 'xgb__gamma': 0.49999999999999994, 'xgb__learning_rate': 0.1398912261671788, 'xgb__max_delta_step': 0, 'xgb__max_depth': 48, 'xgb__min_child_weight': 3, 'xgb__n_estimators': 86, 'xgb__reg_alpha': 1.006371215073591e-09, 'xgb__reg_lambda': 1.0144772025674091e-07, 'xgb__scale_pos_weight': 2.126677169065608, 'xgb__subsample': 1.0}\n",
      "\n",
      "Model #37\n",
      "Best ROC-AUC: 0.706\n",
      "Best params: {'xgb__colsample_bylevel': 1.0, 'xgb__colsample_bytree': 1.0, 'xgb__gamma': 0.49999999999999994, 'xgb__learning_rate': 0.1398912261671788, 'xgb__max_delta_step': 0, 'xgb__max_depth': 48, 'xgb__min_child_weight': 3, 'xgb__n_estimators': 86, 'xgb__reg_alpha': 1.006371215073591e-09, 'xgb__reg_lambda': 1.0144772025674091e-07, 'xgb__scale_pos_weight': 2.126677169065608, 'xgb__subsample': 1.0}\n",
      "\n",
      "Model #38\n",
      "Best ROC-AUC: 0.706\n",
      "Best params: {'xgb__colsample_bylevel': 1.0, 'xgb__colsample_bytree': 1.0, 'xgb__gamma': 0.49999999999999994, 'xgb__learning_rate': 0.1398912261671788, 'xgb__max_delta_step': 0, 'xgb__max_depth': 48, 'xgb__min_child_weight': 3, 'xgb__n_estimators': 86, 'xgb__reg_alpha': 1.006371215073591e-09, 'xgb__reg_lambda': 1.0144772025674091e-07, 'xgb__scale_pos_weight': 2.126677169065608, 'xgb__subsample': 1.0}\n",
      "\n",
      "Model #39\n",
      "Best ROC-AUC: 0.706\n",
      "Best params: {'xgb__colsample_bylevel': 1.0, 'xgb__colsample_bytree': 1.0, 'xgb__gamma': 0.49999999999999994, 'xgb__learning_rate': 0.1398912261671788, 'xgb__max_delta_step': 0, 'xgb__max_depth': 48, 'xgb__min_child_weight': 3, 'xgb__n_estimators': 86, 'xgb__reg_alpha': 1.006371215073591e-09, 'xgb__reg_lambda': 1.0144772025674091e-07, 'xgb__scale_pos_weight': 2.126677169065608, 'xgb__subsample': 1.0}\n",
      "\n",
      "Model #40\n",
      "Best ROC-AUC: 0.706\n",
      "Best params: {'xgb__colsample_bylevel': 1.0, 'xgb__colsample_bytree': 1.0, 'xgb__gamma': 0.49999999999999994, 'xgb__learning_rate': 0.1398912261671788, 'xgb__max_delta_step': 0, 'xgb__max_depth': 48, 'xgb__min_child_weight': 3, 'xgb__n_estimators': 86, 'xgb__reg_alpha': 1.006371215073591e-09, 'xgb__reg_lambda': 1.0144772025674091e-07, 'xgb__scale_pos_weight': 2.126677169065608, 'xgb__subsample': 1.0}\n",
      "\n",
      "Model #41\n",
      "Best ROC-AUC: 0.706\n",
      "Best params: {'xgb__colsample_bylevel': 1.0, 'xgb__colsample_bytree': 1.0, 'xgb__gamma': 0.49999999999999994, 'xgb__learning_rate': 0.1398912261671788, 'xgb__max_delta_step': 0, 'xgb__max_depth': 48, 'xgb__min_child_weight': 3, 'xgb__n_estimators': 86, 'xgb__reg_alpha': 1.006371215073591e-09, 'xgb__reg_lambda': 1.0144772025674091e-07, 'xgb__scale_pos_weight': 2.126677169065608, 'xgb__subsample': 1.0}\n",
      "\n",
      "Model #42\n",
      "Best ROC-AUC: 0.706\n",
      "Best params: {'xgb__colsample_bylevel': 1.0, 'xgb__colsample_bytree': 1.0, 'xgb__gamma': 0.49999999999999994, 'xgb__learning_rate': 0.1398912261671788, 'xgb__max_delta_step': 0, 'xgb__max_depth': 48, 'xgb__min_child_weight': 3, 'xgb__n_estimators': 86, 'xgb__reg_alpha': 1.006371215073591e-09, 'xgb__reg_lambda': 1.0144772025674091e-07, 'xgb__scale_pos_weight': 2.126677169065608, 'xgb__subsample': 1.0}\n",
      "\n",
      "Model #43\n",
      "Best ROC-AUC: 0.706\n",
      "Best params: {'xgb__colsample_bylevel': 1.0, 'xgb__colsample_bytree': 1.0, 'xgb__gamma': 0.49999999999999994, 'xgb__learning_rate': 0.1398912261671788, 'xgb__max_delta_step': 0, 'xgb__max_depth': 48, 'xgb__min_child_weight': 3, 'xgb__n_estimators': 86, 'xgb__reg_alpha': 1.006371215073591e-09, 'xgb__reg_lambda': 1.0144772025674091e-07, 'xgb__scale_pos_weight': 2.126677169065608, 'xgb__subsample': 1.0}\n",
      "\n",
      "Model #44\n",
      "Best ROC-AUC: 0.706\n",
      "Best params: {'xgb__colsample_bylevel': 1.0, 'xgb__colsample_bytree': 1.0, 'xgb__gamma': 0.49999999999999994, 'xgb__learning_rate': 0.1398912261671788, 'xgb__max_delta_step': 0, 'xgb__max_depth': 48, 'xgb__min_child_weight': 3, 'xgb__n_estimators': 86, 'xgb__reg_alpha': 1.006371215073591e-09, 'xgb__reg_lambda': 1.0144772025674091e-07, 'xgb__scale_pos_weight': 2.126677169065608, 'xgb__subsample': 1.0}\n",
      "\n",
      "Model #45\n",
      "Best ROC-AUC: 0.706\n",
      "Best params: {'xgb__colsample_bylevel': 1.0, 'xgb__colsample_bytree': 1.0, 'xgb__gamma': 0.49999999999999994, 'xgb__learning_rate': 0.1398912261671788, 'xgb__max_delta_step': 0, 'xgb__max_depth': 48, 'xgb__min_child_weight': 3, 'xgb__n_estimators': 86, 'xgb__reg_alpha': 1.006371215073591e-09, 'xgb__reg_lambda': 1.0144772025674091e-07, 'xgb__scale_pos_weight': 2.126677169065608, 'xgb__subsample': 1.0}\n",
      "\n",
      "Model #46\n",
      "Best ROC-AUC: 0.706\n",
      "Best params: {'xgb__colsample_bylevel': 1.0, 'xgb__colsample_bytree': 1.0, 'xgb__gamma': 0.49999999999999994, 'xgb__learning_rate': 0.1398912261671788, 'xgb__max_delta_step': 0, 'xgb__max_depth': 48, 'xgb__min_child_weight': 3, 'xgb__n_estimators': 86, 'xgb__reg_alpha': 1.006371215073591e-09, 'xgb__reg_lambda': 1.0144772025674091e-07, 'xgb__scale_pos_weight': 2.126677169065608, 'xgb__subsample': 1.0}\n",
      "\n",
      "Model #47\n",
      "Best ROC-AUC: 0.706\n",
      "Best params: {'xgb__colsample_bylevel': 1.0, 'xgb__colsample_bytree': 1.0, 'xgb__gamma': 0.49999999999999994, 'xgb__learning_rate': 0.1398912261671788, 'xgb__max_delta_step': 0, 'xgb__max_depth': 48, 'xgb__min_child_weight': 3, 'xgb__n_estimators': 86, 'xgb__reg_alpha': 1.006371215073591e-09, 'xgb__reg_lambda': 1.0144772025674091e-07, 'xgb__scale_pos_weight': 2.126677169065608, 'xgb__subsample': 1.0}\n",
      "\n",
      "Model #48\n",
      "Best ROC-AUC: 0.706\n",
      "Best params: {'xgb__colsample_bylevel': 1.0, 'xgb__colsample_bytree': 1.0, 'xgb__gamma': 0.49999999999999994, 'xgb__learning_rate': 0.1398912261671788, 'xgb__max_delta_step': 0, 'xgb__max_depth': 48, 'xgb__min_child_weight': 3, 'xgb__n_estimators': 86, 'xgb__reg_alpha': 1.006371215073591e-09, 'xgb__reg_lambda': 1.0144772025674091e-07, 'xgb__scale_pos_weight': 2.126677169065608, 'xgb__subsample': 1.0}\n",
      "\n",
      "Model #49\n",
      "Best ROC-AUC: 0.706\n",
      "Best params: {'xgb__colsample_bylevel': 1.0, 'xgb__colsample_bytree': 1.0, 'xgb__gamma': 0.49999999999999994, 'xgb__learning_rate': 0.1398912261671788, 'xgb__max_delta_step': 0, 'xgb__max_depth': 48, 'xgb__min_child_weight': 3, 'xgb__n_estimators': 86, 'xgb__reg_alpha': 1.006371215073591e-09, 'xgb__reg_lambda': 1.0144772025674091e-07, 'xgb__scale_pos_weight': 2.126677169065608, 'xgb__subsample': 1.0}\n",
      "\n",
      "Model #50\n",
      "Best ROC-AUC: 0.706\n",
      "Best params: {'xgb__colsample_bylevel': 1.0, 'xgb__colsample_bytree': 1.0, 'xgb__gamma': 0.49999999999999994, 'xgb__learning_rate': 0.1398912261671788, 'xgb__max_delta_step': 0, 'xgb__max_depth': 48, 'xgb__min_child_weight': 3, 'xgb__n_estimators': 86, 'xgb__reg_alpha': 1.006371215073591e-09, 'xgb__reg_lambda': 1.0144772025674091e-07, 'xgb__scale_pos_weight': 2.126677169065608, 'xgb__subsample': 1.0}\n",
      "\n"
     ]
    }
   ],
   "source": [
    "result = bayes_cv_tuner.fit(X_test, y_test, callback=status_print)"
   ]
  },
  {
   "cell_type": "code",
   "execution_count": null,
   "metadata": {
    "colab": {
     "base_uri": "https://localhost:8080/",
     "height": 357
    },
    "colab_type": "code",
    "id": "VA2dYshAnqfn",
    "outputId": "3df7f4b8-08e5-46c9-ad64-ba61696128cc"
   },
   "outputs": [
    {
     "name": "stdout",
     "output_type": "stream",
     "text": [
      "Accuracy Score: 0.9034563450653006\n",
      "\n",
      "AUC Score: 0.9287913420721183\n",
      "\n",
      "F1 Score: 0.8696691568836713\n",
      "\n",
      "Classification Report: \n",
      "               precision    recall  f1-score   support\n",
      "\n",
      "           0       1.00      0.86      0.92     21437\n",
      "           1       0.77      1.00      0.87     10186\n",
      "\n",
      "   micro avg       0.90      0.90      0.90     31623\n",
      "   macro avg       0.88      0.93      0.90     31623\n",
      "weighted avg       0.93      0.90      0.91     31623\n",
      "\n",
      "\n",
      " Confustion Matrix: \n",
      " [[18384  3053]\n",
      " [    0 10186]]\n"
     ]
    }
   ],
   "source": [
    "xgb_best = result.best_estimator_\n",
    "\n",
    "predictions = xgb_best.predict(X_test)\n",
    "\n",
    "def eval_test_set(x_test_predictions, y_test):\n",
    "    print(f\"Accuracy Score: {metrics.accuracy_score(y_test, x_test_predictions)}\")\n",
    "    print()\n",
    "    print(f\"AUC Score: {metrics.roc_auc_score(y_test, x_test_predictions)}\")\n",
    "    print()\n",
    "    print(f\"F1 Score: {metrics.f1_score(y_test, x_test_predictions)}\")\n",
    "    print()\n",
    "    print(f\"Classification Report: \\n {metrics.classification_report(y_test, x_test_predictions)}\")\n",
    "    print()\n",
    "    print(f\" Confustion Matrix: \\n {metrics.confusion_matrix(y_test, x_test_predictions)}\")\n",
    "\n",
    "eval_test_set(predictions, y_test)"
   ]
  },
  {
   "cell_type": "code",
   "execution_count": null,
   "metadata": {
    "colab": {
     "base_uri": "https://localhost:8080/",
     "height": 34
    },
    "colab_type": "code",
    "id": "A-jMbgP-nqfq",
    "outputId": "188660e0-12d6-472b-f32d-aecb23e40796"
   },
   "outputs": [
    {
     "data": {
      "text/plain": [
       "['../Models/XGB_tuned.sav']"
      ]
     },
     "execution_count": 20,
     "metadata": {
      "tags": []
     },
     "output_type": "execute_result"
    }
   ],
   "source": [
    "from sklearn.externals import joblib\n",
    "\n",
    "filename = '../Models/XGB_tuned.sav'\n",
    "joblib.dump(xgb_best, filename)"
   ]
  },
  {
   "cell_type": "markdown",
   "metadata": {
    "colab_type": "text",
    "id": "mKvoQAannqfv"
   },
   "source": [
    "# Feature Importances"
   ]
  },
  {
   "cell_type": "code",
   "execution_count": null,
   "metadata": {
    "colab": {
     "base_uri": "https://localhost:8080/",
     "height": 318
    },
    "colab_type": "code",
    "id": "V94LgA5Qnqfw",
    "outputId": "6cab0db3-4c7d-410a-946c-8e14ebb045d5"
   },
   "outputs": [
    {
     "data": {
      "text/plain": [
       "<Figure size 432x288 with 0 Axes>"
      ]
     },
     "metadata": {
      "tags": []
     },
     "output_type": "display_data"
    },
    {
     "data": {
      "image/png": "[encoded data removed]",
      "text/plain": [
       "<Figure size 432x288 with 1 Axes>"
      ]
     },
     "metadata": {
      "tags": []
     },
     "output_type": "display_data"
    }
   ],
   "source": [
    "xgb_best_model = xgb_best.steps[1][1]\n",
    "\n",
    "fig = plt.figure()\n",
    "ax = xgb.plot_importance(xgb_best_model)\n",
    "fig.savefig('../images/XGB_tuned_feat_import.png')"
   ]
  },
  {
   "cell_type": "markdown",
   "metadata": {
    "colab_type": "text",
    "id": "0McqK4x5nqf2"
   },
   "source": [
    "### Feature Mapping:\n",
    "- f0: release_spin_rate\n",
    "- f1: release_pos_x\n",
    "- f2: release_pos_y\n",
    "- f3: release_pos_z\n",
    "- f4: vx0\n",
    "- f5: vz0\n",
    "- f6: vy0\n",
    "- f7: sz_top\n",
    "- f8: sz_bot\n",
    "- f9: pitch_L\n",
    "- f10: pitch_R\n",
    "- f11: pitch_2-Seam Fastball\n",
    "- f12: pitch_4-Seam Fastball\n",
    "- f13: pitch_Changeup\n",
    "- f14: pitch_Curveball\n",
    "- f15: pitch_Cutter\n",
    "- f16: pitch_Sinker\n",
    "- f17: pitch_Slider\n",
    "- f18: pitch_Split Finger\n",
    "\n",
    "\n"
   ]
  },
  {
   "cell_type": "code",
   "execution_count": null,
   "metadata": {
    "colab": {},
    "colab_type": "code",
    "id": "KT99dumdnqgD"
   },
   "outputs": [],
   "source": []
  }
 ],
 "metadata": {
  "accelerator": "GPU",
  "colab": {
   "collapsed_sections": [],
   "name": "XGBOOST_PIPE.ipynb",
   "provenance": [],
   "toc_visible": true,
   "version": "0.3.2"
  },
  "kernelspec": {
   "display_name": "Python 3",
   "language": "python",
   "name": "python3"
  },
  "language_info": {
   "codemirror_mode": {
    "name": "ipython",
    "version": 3
   },
   "file_extension": ".py",
   "mimetype": "text/x-python",
   "name": "python",
   "nbconvert_exporter": "python",
   "pygments_lexer": "ipython3",
   "version": "3.6.7"
  }
 },
 "nbformat": 4,
 "nbformat_minor": 2
}
