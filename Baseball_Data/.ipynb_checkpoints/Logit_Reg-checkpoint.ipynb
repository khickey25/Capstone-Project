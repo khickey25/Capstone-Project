{
 "cells": [
  {
   "cell_type": "markdown",
   "metadata": {},
   "source": [
    "# Logistic Regression Baseline\n",
    "\n",
    "This notebook will build a basic logistic regression model and evaluate results using cross-validation.\n",
    "\n",
    "1. Read in the data\n",
    "2. Create hold-out test set\n",
    "3. Create pipeline for logistic regression. \n",
    "    - Random Oversample of data to balance out target.\n",
    "    - cross-validation of results; evaluation metrics are accuracy, f1 score, and AUC. \n",
    "  "
   ]
  },
  {
   "cell_type": "code",
   "execution_count": 1,
   "metadata": {},
   "outputs": [],
   "source": [
    "import pandas as pd\n",
    "import numpy as np\n",
    "from sklearn.pipeline import Pipeline\n",
    "from sklearn.linear_model import LogisticRegression\n",
    "from data_import import preprocess_data\n",
    "from sklearn.metrics import accuracy_score, roc_auc_score, f1_score, confusion_matrix\n",
    "from sklearn.model_selection import cross_val_score, train_test_split, cross_validate\n",
    "from imblearn.over_sampling import RandomOverSampler, SMOTE\n",
    "from imblearn.pipeline import make_pipeline\n",
    "import warnings\n",
    "warnings.filterwarnings(\"ignore\", category=FutureWarning)\n",
    "from Evaluation import eval_model"
   ]
  },
  {
   "cell_type": "code",
   "execution_count": 2,
   "metadata": {},
   "outputs": [
    {
     "name": "stderr",
     "output_type": "stream",
     "text": [
      "/opt/tljh/user/lib/python3.6/site-packages/sklearn/utils/deprecation.py:58: DeprecationWarning: Class Imputer is deprecated; Imputer was deprecated in version 0.20 and will be removed in 0.22. Import impute.SimpleImputer from sklearn instead.\n",
      "  warnings.warn(msg, category=DeprecationWarning)\n"
     ]
    }
   ],
   "source": [
    "#load in the preprocessed data\n",
    "data = preprocess_data('Statcast_data.csv')\n",
    "target = data['description']\n",
    "#filter out 'player_name'; will not use as a feature\n",
    "data = data.iloc[:, :-2]"
   ]
  },
  {
   "cell_type": "code",
   "execution_count": 3,
   "metadata": {},
   "outputs": [],
   "source": [
    "#first, create a test set\n",
    "X_train, X_test, y_train, y_test = train_test_split(data, target, random_state = 777, test_size = .2)\n",
    "\n",
    "#then instatiate the model we will use: Logistic Regression\n",
    "log_reg = LogisticRegression()\n"
   ]
  },
  {
   "cell_type": "markdown",
   "metadata": {},
   "source": [
    "## Build Model and Interpret\n",
    "\n",
    "Build a model and apply interpretation of model on the results. This involves analyzing the values of the coefficients.\n",
    "\n",
    "Train on one fold of training data, and test on a validation set. We will randomely oversample to balance out the ratio of classes in the target"
   ]
  },
  {
   "cell_type": "code",
   "execution_count": 4,
   "metadata": {},
   "outputs": [
    {
     "name": "stdout",
     "output_type": "stream",
     "text": [
      " Test Accuracy score: 0.49471967696847335\n",
      " Test AUC score: 0.5437802602436324\n",
      " Test F1 score: 0.463340206185567\n"
     ]
    }
   ],
   "source": [
    "ros = RandomOverSampler(ratio = 1, random_state =777)\n",
    "\n",
    "X_os, y_os = ros.fit_resample(X_train, y_train)\n",
    "\n",
    "log_reg.fit(X_os, y_os)\n",
    "\n",
    "y_pred_logreg = log_reg.predict(X_test)\n",
    "\n",
    "print(f\" Test Accuracy score: {accuracy_score(y_test, y_pred_logreg)}\")\n",
    "print(f\" Test AUC score: {roc_auc_score(y_test, y_pred_logreg)}\")\n",
    "print(f\" Test F1 score: {f1_score(y_test, y_pred_logreg)}\")"
   ]
  },
  {
   "cell_type": "code",
   "execution_count": 5,
   "metadata": {},
   "outputs": [
    {
     "name": "stdout",
     "output_type": "stream",
     "text": [
      "release_speed coefficient: 0.06890089680375737\n",
      "release_spin_rate coefficient: 0.0027611790843398713\n",
      "release_pos_x coefficient: 0.01750560818275775\n",
      "release_pos_y coefficient: 0.4687428441216609\n",
      "release_pos_z coefficient: -0.00116981437195111\n",
      "pfx_x coefficient: 0.08051462458566055\n",
      "pfx_z coefficient: 0.13043272768889044\n",
      "vx0 coefficient: -0.011627070761171346\n",
      "vy0 coefficient: 0.123854178730036\n",
      "vz0 coefficient: 0.0020180901944460154\n",
      "ax coefficient: -0.10879907780206624\n",
      "ay coefficient: -0.013326730147863746\n",
      "az coefficient: -0.08993558880168531\n",
      "sz_top coefficient: 0.001868631260708409\n",
      "sz_bot coefficient: -0.0003122138964271333\n",
      "release_extension coefficient: 0.46648261719027906\n",
      "pitch_name_2-Seam Fastball coefficient: 0.2516180182626066\n",
      "pitch_name_4-Seam Fastball coefficient: 0.27631143684064047\n",
      "pitch_name_Changeup coefficient: -0.49608550578313315\n",
      "pitch_name_Curveball coefficient: 0.1427249197603272\n",
      "pitch_name_Cutter coefficient: 0.0553614974140503\n",
      "pitch_name_Sinker coefficient: 0.34971343905402713\n",
      "pitch_name_Slider coefficient: -0.010255805173159787\n",
      "pitch_name_Split Finger coefficient: -0.7800981787316219\n",
      "pitch_name_nan coefficient: 0.0778742955944029\n"
     ]
    }
   ],
   "source": [
    "for idx, feature in enumerate(X_train.columns):\n",
    "    print(f\"{feature} coefficient: {log_reg.coef_[0][idx]}\")\n"
   ]
  },
  {
   "cell_type": "markdown",
   "metadata": {},
   "source": [
    "## Analysis\n",
    "\n",
    "Looking at the coefficients, there is one main property that can be interpreted: the signage, which can ultimately help determine the odds ratio for each feature. Negative value coefficients result in a odds ratio below 1, meaning that one unit change in that feature will lower the chance of a positive target value, in this case a strike. A positive value will indicate produce a positive odds ratio, meaning that a one unit change in that feature will make it more likely of a resulting strike. This however, assumes holding all other features constant, which is highly impractical.\n",
    "\n",
    "cite: http://www.appstate.edu/~whiteheadjc/service/logit/intro.htm#interp\n",
    "\n"
   ]
  },
  {
   "cell_type": "markdown",
   "metadata": {},
   "source": [
    "## Cross-validation\n",
    "\n",
    "#### Use Cross-validation to ensure reliability of results above.\n",
    "\n",
    "Use custom function in `Evaluation.py` module."
   ]
  },
  {
   "cell_type": "code",
   "execution_count": 6,
   "metadata": {},
   "outputs": [
    {
     "name": "stdout",
     "output_type": "stream",
     "text": [
      "Mean test_accuracy Value: 0.48894387316710847\n",
      "test_accuracy scores: [0.48599854 0.49157971 0.49174917 0.48454109 0.49085085]\n",
      "\n",
      "Mean train_accuracy Value: 0.490094170812981\n",
      "train_accuracy scores: [0.49284718 0.49224049 0.48620414 0.48432969 0.49484936]\n",
      "\n",
      "Mean test_f1 Value: 0.4634008707564191\n",
      "test_f1 scores: [0.45695534 0.46183088 0.47095079 0.46910618 0.45816116]\n",
      "\n",
      "Mean train_f1 Value: 0.46469219194913086\n",
      "train_f1 scores: [0.4661464  0.46334175 0.46459052 0.46660308 0.4627792 ]\n",
      "\n",
      "Mean test_roc_auc Value: 0.5576898246223492\n",
      "test_roc_auc scores: [0.552736   0.55826736 0.56410466 0.55847613 0.55486497]\n",
      "\n",
      "Mean train_roc_auc Value: 0.5595457875208769\n",
      "train_roc_auc scores: [0.56085482 0.55936937 0.55815543 0.55907761 0.5602717 ]\n",
      "\n"
     ]
    }
   ],
   "source": [
    "eval_model(log_reg, X_train, y_train, 5)"
   ]
  },
  {
   "cell_type": "code",
   "execution_count": null,
   "metadata": {},
   "outputs": [],
   "source": []
  },
  {
   "cell_type": "code",
   "execution_count": null,
   "metadata": {},
   "outputs": [],
   "source": []
  }
 ],
 "metadata": {
  "kernelspec": {
   "display_name": "Python 3",
   "language": "python",
   "name": "python3"
  },
  "language_info": {
   "codemirror_mode": {
    "name": "ipython",
    "version": 3
   },
   "file_extension": ".py",
   "mimetype": "text/x-python",
   "name": "python",
   "nbconvert_exporter": "python",
   "pygments_lexer": "ipython3",
   "version": "3.6.7"
  }
 },
 "nbformat": 4,
 "nbformat_minor": 2
}
