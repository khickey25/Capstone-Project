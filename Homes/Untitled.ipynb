{
 "cells": [
  {
   "cell_type": "markdown",
   "metadata": {},
   "source": [
    "# PreProcessing\n",
    "\n",
    "This notebook will house preprocessing pipelines for the Boston Homes data. This will handle skewness, distribution shape, and scaling of the data. "
   ]
  },
  {
   "cell_type": "code",
   "execution_count": 1,
   "metadata": {},
   "outputs": [],
   "source": [
    "import numpy as np\n",
    "import pandas as pd\n",
    "import sklearn\n",
    "import matplotlib.pyplot as plt\n",
    "import seaborn as sns\n",
    "sns.set()"
   ]
  },
  {
   "cell_type": "code",
   "execution_count": 71,
   "metadata": {},
   "outputs": [],
   "source": [
    "from sklearn.preprocessing import StandardScaler, KBinsDiscretizer, PowerTransformer \n",
    "from sklearn.preprocessing import MinMaxScaler, PolynomialFeatures, QuantileTransformer, FunctionTransformer\n",
    "from sklearn.pipeline import Pipeline, make_pipeline\n",
    "from sklearn.model_selection import train_test_split, GridSearchCV, KFold, cross_val_score\n",
    "from sklearn.metrics import mean_squared_error\n",
    "from scipy import stats\n",
    "\n"
   ]
  },
  {
   "cell_type": "markdown",
   "metadata": {},
   "source": [
    "# Preprocessing Pipelines"
   ]
  },
  {
   "cell_type": "markdown",
   "metadata": {},
   "source": [
    "Let's establish some Preprocessing pipelines.\n",
    "\n",
    "First, turn into guassian distribution by transforming with powertransformer, quantile\n",
    "then apply Standard Scaler\n",
    "then fix outliers with z-score fixing.\n"
   ]
  },
  {
   "cell_type": "code",
   "execution_count": 7,
   "metadata": {},
   "outputs": [
    {
     "name": "stdout",
     "output_type": "stream",
     "text": [
      "0    24.0\n",
      "1    21.6\n",
      "2    34.7\n",
      "3    33.4\n",
      "4    36.2\n",
      "Name: MEDV, dtype: float64\n"
     ]
    }
   ],
   "source": [
    "from sklearn.datasets import load_boston\n",
    "data = load_boston()\n",
    "X, y = pd.DataFrame(data['data'], columns = data.feature_names), pd.Series(data['target'], name='MEDV')\n",
    "X.head()\n",
    "print(y.head())"
   ]
  },
  {
   "cell_type": "code",
   "execution_count": 8,
   "metadata": {},
   "outputs": [
    {
     "data": {
      "text/html": [
       "<div>\n",
       "<style scoped>\n",
       "    .dataframe tbody tr th:only-of-type {\n",
       "        vertical-align: middle;\n",
       "    }\n",
       "\n",
       "    .dataframe tbody tr th {\n",
       "        vertical-align: top;\n",
       "    }\n",
       "\n",
       "    .dataframe thead th {\n",
       "        text-align: right;\n",
       "    }\n",
       "</style>\n",
       "<table border=\"1\" class=\"dataframe\">\n",
       "  <thead>\n",
       "    <tr style=\"text-align: right;\">\n",
       "      <th></th>\n",
       "      <th>CRIM</th>\n",
       "      <th>ZN</th>\n",
       "      <th>INDUS</th>\n",
       "      <th>CHAS</th>\n",
       "      <th>NOX</th>\n",
       "      <th>RM</th>\n",
       "      <th>AGE</th>\n",
       "      <th>DIS</th>\n",
       "      <th>RAD</th>\n",
       "      <th>TAX</th>\n",
       "      <th>PTRATIO</th>\n",
       "      <th>B</th>\n",
       "      <th>LSTAT</th>\n",
       "    </tr>\n",
       "  </thead>\n",
       "  <tbody>\n",
       "    <tr>\n",
       "      <th>0</th>\n",
       "      <td>0.00632</td>\n",
       "      <td>18.0</td>\n",
       "      <td>2.31</td>\n",
       "      <td>0.0</td>\n",
       "      <td>0.538</td>\n",
       "      <td>6.575</td>\n",
       "      <td>65.2</td>\n",
       "      <td>4.0900</td>\n",
       "      <td>1.0</td>\n",
       "      <td>296.0</td>\n",
       "      <td>15.3</td>\n",
       "      <td>396.90</td>\n",
       "      <td>4.98</td>\n",
       "    </tr>\n",
       "    <tr>\n",
       "      <th>1</th>\n",
       "      <td>0.02731</td>\n",
       "      <td>0.0</td>\n",
       "      <td>7.07</td>\n",
       "      <td>0.0</td>\n",
       "      <td>0.469</td>\n",
       "      <td>6.421</td>\n",
       "      <td>78.9</td>\n",
       "      <td>4.9671</td>\n",
       "      <td>2.0</td>\n",
       "      <td>242.0</td>\n",
       "      <td>17.8</td>\n",
       "      <td>396.90</td>\n",
       "      <td>9.14</td>\n",
       "    </tr>\n",
       "    <tr>\n",
       "      <th>2</th>\n",
       "      <td>0.02729</td>\n",
       "      <td>0.0</td>\n",
       "      <td>7.07</td>\n",
       "      <td>0.0</td>\n",
       "      <td>0.469</td>\n",
       "      <td>7.185</td>\n",
       "      <td>61.1</td>\n",
       "      <td>4.9671</td>\n",
       "      <td>2.0</td>\n",
       "      <td>242.0</td>\n",
       "      <td>17.8</td>\n",
       "      <td>392.83</td>\n",
       "      <td>4.03</td>\n",
       "    </tr>\n",
       "    <tr>\n",
       "      <th>3</th>\n",
       "      <td>0.03237</td>\n",
       "      <td>0.0</td>\n",
       "      <td>2.18</td>\n",
       "      <td>0.0</td>\n",
       "      <td>0.458</td>\n",
       "      <td>6.998</td>\n",
       "      <td>45.8</td>\n",
       "      <td>6.0622</td>\n",
       "      <td>3.0</td>\n",
       "      <td>222.0</td>\n",
       "      <td>18.7</td>\n",
       "      <td>394.63</td>\n",
       "      <td>2.94</td>\n",
       "    </tr>\n",
       "    <tr>\n",
       "      <th>4</th>\n",
       "      <td>0.06905</td>\n",
       "      <td>0.0</td>\n",
       "      <td>2.18</td>\n",
       "      <td>0.0</td>\n",
       "      <td>0.458</td>\n",
       "      <td>7.147</td>\n",
       "      <td>54.2</td>\n",
       "      <td>6.0622</td>\n",
       "      <td>3.0</td>\n",
       "      <td>222.0</td>\n",
       "      <td>18.7</td>\n",
       "      <td>396.90</td>\n",
       "      <td>5.33</td>\n",
       "    </tr>\n",
       "  </tbody>\n",
       "</table>\n",
       "</div>"
      ],
      "text/plain": [
       "      CRIM    ZN  INDUS  CHAS    NOX     RM   AGE     DIS  RAD    TAX  \\\n",
       "0  0.00632  18.0   2.31   0.0  0.538  6.575  65.2  4.0900  1.0  296.0   \n",
       "1  0.02731   0.0   7.07   0.0  0.469  6.421  78.9  4.9671  2.0  242.0   \n",
       "2  0.02729   0.0   7.07   0.0  0.469  7.185  61.1  4.9671  2.0  242.0   \n",
       "3  0.03237   0.0   2.18   0.0  0.458  6.998  45.8  6.0622  3.0  222.0   \n",
       "4  0.06905   0.0   2.18   0.0  0.458  7.147  54.2  6.0622  3.0  222.0   \n",
       "\n",
       "   PTRATIO       B  LSTAT  \n",
       "0     15.3  396.90   4.98  \n",
       "1     17.8  396.90   9.14  \n",
       "2     17.8  392.83   4.03  \n",
       "3     18.7  394.63   2.94  \n",
       "4     18.7  396.90   5.33  "
      ]
     },
     "execution_count": 8,
     "metadata": {},
     "output_type": "execute_result"
    }
   ],
   "source": [
    "X.head()"
   ]
  },
  {
   "cell_type": "code",
   "execution_count": 9,
   "metadata": {},
   "outputs": [],
   "source": [
    "#set up training and testing splits\n",
    "X_train, X_test, y_train, y_test = train_test_split(X, y, test_size = .75, random_state = 777)"
   ]
  },
  {
   "cell_type": "code",
   "execution_count": 66,
   "metadata": {},
   "outputs": [],
   "source": [
    "box_cox = PowerTransformer(method= 'box-cox', standardize=False)\n",
    "yeo_john = PowerTransformer(method = 'yeo-johnson', standardize=False)\n",
    "\n",
    "quantile = QuantileTransformer(output_distribution='Normal', random_state=777)\n",
    "\n",
    "scaler = StandardScaler()\n",
    "\n",
    "def z_score_outliers(df):\n",
    "    df_values = df\n",
    "    z = stats.zscore(df_values)\n",
    "    z = np.where(z > 3, 3, z)\n",
    "    z = np.where(z < -3, -3, z)\n",
    "    \n",
    "    final_df = pd.DataFrame(z, columns=X_train.columns)\n",
    "    return final_df\n",
    "\n",
    "func = FunctionTransformer(z_score_outliers)"
   ]
  },
  {
   "cell_type": "code",
   "execution_count": 70,
   "metadata": {},
   "outputs": [
    {
     "name": "stderr",
     "output_type": "stream",
     "text": [
      "/opt/tljh/user/lib/python3.6/site-packages/sklearn/preprocessing/_function_transformer.py:98: FutureWarning: The default validate=True will be replaced by validate=False in 0.22.\n",
      "  \"validate=False in 0.22.\", FutureWarning)\n",
      "/opt/tljh/user/lib/python3.6/site-packages/sklearn/preprocessing/_function_transformer.py:98: FutureWarning: The default validate=True will be replaced by validate=False in 0.22.\n",
      "  \"validate=False in 0.22.\", FutureWarning)\n",
      "/opt/tljh/user/lib/python3.6/site-packages/sklearn/preprocessing/_function_transformer.py:98: FutureWarning: The default validate=True will be replaced by validate=False in 0.22.\n",
      "  \"validate=False in 0.22.\", FutureWarning)\n"
     ]
    }
   ],
   "source": [
    "from sklearn.linear_model import LinearRegression\n",
    "\n",
    "reg = LinearRegression()\n",
    "\n",
    "pipe = Pipeline([\n",
    "    ('yeo', yeo_john),\n",
    "    ('scale', scaler),\n",
    "    ('outlier', func),\n",
    "    ('reg', reg)  \n",
    "                ])\n",
    "\n",
    "pipe.fit(X_train, y_train)\n",
    "y_pred = pipe.predict(X_test)"
   ]
  },
  {
   "cell_type": "code",
   "execution_count": 72,
   "metadata": {},
   "outputs": [
    {
     "data": {
      "text/plain": [
       "22.16750845883944"
      ]
     },
     "execution_count": 72,
     "metadata": {},
     "output_type": "execute_result"
    }
   ],
   "source": [
    "mean_squared_error(y_test, y_pred)"
   ]
  },
  {
   "cell_type": "code",
   "execution_count": 73,
   "metadata": {},
   "outputs": [
    {
     "data": {
      "text/plain": [
       "array([16.57706385, 15.04822888, 14.73983914, 23.19941911, 35.21123251,\n",
       "       18.56638904, 11.83571603, 46.1292165 , 13.60938717, 38.98806985,\n",
       "       30.96580536, 28.62998342, 16.66637679, 18.84012537, 17.56877437,\n",
       "       37.5834715 , 10.68305793, 20.61085772, 23.85854468, 16.282259  ,\n",
       "       16.28260397, 18.18595234, 12.60427838, 30.02932614, 20.05279035,\n",
       "       24.81123369, 23.22117603, 32.46635806, 22.24161938, 21.9451746 ,\n",
       "       29.83617667, 30.56139346, 25.85748031, 32.15000915, 24.26241655,\n",
       "       31.3780724 , 13.67074548, 23.6244546 , 20.17822929, 18.80427538,\n",
       "       20.76699273, 17.68046   , 10.76375031, 18.8055579 , 13.88169002,\n",
       "       22.55588355, 14.47030561, 24.02081307, 20.64925368, 18.56335508,\n",
       "       31.72250172, 36.03056034, 18.66382105, 17.29408071, 22.41797222,\n",
       "       26.69857404, 19.09263162, 19.81290634, 29.0579199 , 15.44858624,\n",
       "       30.29898058, 18.28270987, 26.17170167, 18.85126965, 15.67771551,\n",
       "       36.5896564 , 36.32481761, 17.42496027, 25.96481384, 14.72934138,\n",
       "       23.36959143, 10.98129336, 19.12414105, 21.38015677, 14.09287625,\n",
       "       19.52788197, 42.49089006, 22.46387386, 25.73383047, 27.74862615,\n",
       "       18.55158308, 17.6147968 , 39.5965012 , 20.51000329, 11.95613681,\n",
       "       26.51430252, 23.35969413, 15.8566294 , 18.32840702, 14.77985599,\n",
       "       25.31679971, 22.03517358, 26.37441068, 39.82306561, 20.24872823,\n",
       "       19.08646861, 26.90617395, 11.74586861, 20.27772246, 32.43214371,\n",
       "       27.09054414,  9.75035959, 18.05725813, 33.83125402, 16.03056646,\n",
       "       21.37992908, 31.68439548, 24.74888898, 41.52695071, 30.90362189,\n",
       "       16.27073106, 29.12638982, 16.71457188, 12.4079221 , 16.43911311,\n",
       "       14.82012698, 25.6574433 , 29.55697601, 18.38537262, 44.05556949,\n",
       "       14.43706865, 41.01940001, 12.30822821, 21.87667099, 14.090327  ,\n",
       "       22.30003751, 17.03259618, 17.93169359,  5.34525339, 15.45889287,\n",
       "       35.56022842, 17.37373561, 17.19466241, 23.06963785, 15.56448187,\n",
       "       20.424716  , 32.08110807, 18.90620923, 18.43394115, 24.32740629,\n",
       "       16.90453848, 37.22608715, 17.74360776, 13.65955272, 21.80584409,\n",
       "       32.15428288, 34.00554749, 18.05724683, 38.52655216, 25.6893255 ,\n",
       "       21.37389778, 17.04080381, 26.78740753, 16.01691223, 24.30012675,\n",
       "       35.84967955, 34.88133724, 19.11423068, 32.3747064 , 15.78349534,\n",
       "       15.81646723, 20.03052971, 25.82369177, 37.6495506 , 20.82426853,\n",
       "       21.24868147, 17.69568743, 29.06274419, 12.21893518, 28.26365127,\n",
       "       18.43777091, 16.21484158,  8.80447653, 19.49437845, 44.32811856,\n",
       "       31.2286178 , 17.96525672, 36.42367386, 26.02913273, 10.06534678,\n",
       "       28.64306874, 21.4721988 , 16.99885351, 19.71383638, 20.07851279,\n",
       "       30.87235141, 19.31071208, 26.46717851, 23.9837135 , 42.45140911,\n",
       "       24.82555468, 18.04206341, 18.45093828, 16.4723259 , 15.45095901,\n",
       "       13.38900339, 14.91412979, 31.83317537, 15.94865358, 24.77287059,\n",
       "       18.39496385, 30.53457622, 27.49985758, 17.00657218, 12.69767765,\n",
       "       23.5940223 , 17.65774922, 22.00484404, 20.50948865, 30.85763794,\n",
       "       36.97536883, 23.20819799, 15.33530278, 36.03866478, 27.1779308 ,\n",
       "       14.31875338, 21.03745202, 31.39122161, 25.94681653, 32.84116114,\n",
       "       18.83796215, 19.61212888, 23.24692241, 25.68684798, 33.62913147,\n",
       "       19.8979178 , 22.88988193, 34.70112165, 19.37233839, 16.9530452 ,\n",
       "       41.32117584, 37.13808973, 23.0392237 , 41.79288045, 31.08797061,\n",
       "       25.88449165, 17.31858048, 35.51311965, 16.59031203, 16.36267171,\n",
       "       17.3332661 , 17.58785605, 23.8861152 , 32.53779096, 19.01023326,\n",
       "       24.76494882, 29.42651893, 34.87289935, 25.89898785, 15.50951787,\n",
       "       26.09367235, 27.90988523, 20.5062561 , 21.52561424, 45.0724982 ,\n",
       "       13.76137757, 21.18016875, 21.02319195, 24.53190727, 20.35282929,\n",
       "       17.42336524, 22.71856586, 11.91228428, 26.39492561,  5.72585758,\n",
       "       37.38502265, 16.21132185, 26.33963568, 19.5005356 , 35.41831105,\n",
       "       34.43712082, 19.31979002, 40.48802305, 22.90331169, 45.98033316,\n",
       "       16.52599153, 19.0889159 , 10.16945374, 30.13133971, 16.34914365,\n",
       "       18.92112774, 20.6849324 , 25.03729816,  8.80079974, 26.38333269,\n",
       "       18.33419474, 24.86982233, 17.62539951, 13.6671633 , 16.95536519,\n",
       "       22.12540764, 13.0049992 ,  7.47837961, 16.62041312, 13.45027186,\n",
       "       21.55628216, 24.02948491, 20.10332125, 28.07950328, 24.48930516,\n",
       "       15.50972406, 33.62953466, 27.91740868, 23.12494501, 10.57910482,\n",
       "       19.67389228, 14.08554016, 17.20978741, 21.55546656, 17.7568334 ,\n",
       "       45.16998493, 20.91578822, 17.07130197, 15.99797769,  7.46485381,\n",
       "       19.96675359, 25.24853344, 25.97792129, 12.56822011, 22.01415137,\n",
       "       20.36969784, 23.35126759, 32.18651948, 37.40001896, 15.20837232,\n",
       "       28.37014017, 21.9358954 , 19.71604572, 15.74257974, 11.61651342,\n",
       "       23.60792575, 10.25562799, 26.42371675, 35.84917338, 22.71102687,\n",
       "       18.25615895, 39.45570536, 27.99182437, 34.50977866, 18.42004784,\n",
       "       27.57213567, 18.82406006, 19.186793  , 23.67974   , 17.6845712 ,\n",
       "       20.86232404, 25.01045847, 27.33156828, 33.56343184, 48.16113137,\n",
       "       41.20969521, 19.55972108, 20.42983443, 19.60466643, 16.13885152,\n",
       "       27.63291685, 17.24730098, 18.43476056, 20.09146949, 16.15323535,\n",
       "       31.13705865, 23.23714811, 10.44530801, 17.71839298, 16.94920829,\n",
       "       34.61712766, 30.5536643 , 11.84472813, 14.31976316, 13.31940937,\n",
       "       14.12435751, 22.5272287 , 31.10643397, 26.48427604, 27.79907286,\n",
       "       17.49154036, 17.099137  , 17.15938439, 17.00835654, 12.15244317])"
      ]
     },
     "execution_count": 73,
     "metadata": {},
     "output_type": "execute_result"
    }
   ],
   "source": [
    "y_pred"
   ]
  },
  {
   "cell_type": "code",
   "execution_count": null,
   "metadata": {},
   "outputs": [],
   "source": []
  }
 ],
 "metadata": {
  "kernelspec": {
   "display_name": "Python 3",
   "language": "python",
   "name": "python3"
  },
  "language_info": {
   "codemirror_mode": {
    "name": "ipython",
    "version": 3
   },
   "file_extension": ".py",
   "mimetype": "text/x-python",
   "name": "python",
   "nbconvert_exporter": "python",
   "pygments_lexer": "ipython3",
   "version": "3.6.7"
  }
 },
 "nbformat": 4,
 "nbformat_minor": 2
}
