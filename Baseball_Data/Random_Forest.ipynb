{
 "cells": [
  {
   "cell_type": "markdown",
   "metadata": {},
   "source": [
    "# Random Forest Pipeline\n",
    "\n",
    "This notebook will build a Random Forest Classifier on the Statcast data. We will tune hyperparmeters to boost performance, and then apply interpretability methods, LIME and SHAP to the results. "
   ]
  },
  {
   "cell_type": "code",
   "execution_count": 1,
   "metadata": {},
   "outputs": [],
   "source": [
    "import pandas as pd\n",
    "import numpy as np\n",
    "import matplotlib.pyplot as plt\n",
    "import seaborn\n",
    "seaborn.set()\n",
    "from sklearn.ensemble import RandomForestClassifier\n",
    "from data_import import preprocess_data\n",
    "from sklearn.metrics import accuracy_score, roc_auc_score, f1_score, confusion_matrix\n",
    "from sklearn.model_selection import cross_val_score, train_test_split, cross_validate, validation_curve\n",
    "from imblearn.over_sampling import RandomOverSampler, SMOTE\n",
    "from imblearn.pipeline import make_pipeline, Pipeline\n",
    "import warnings\n",
    "warnings.filterwarnings(\"ignore\", category=FutureWarning)\n",
    "from Evaluation import *"
   ]
  },
  {
   "cell_type": "code",
   "execution_count": 2,
   "metadata": {},
   "outputs": [
    {
     "name": "stderr",
     "output_type": "stream",
     "text": [
      "/home/jupyter-khickey550/.local/lib/python3.6/site-packages/sklearn/utils/deprecation.py:58: DeprecationWarning: Class Imputer is deprecated; Imputer was deprecated in version 0.20 and will be removed in 0.22. Import impute.SimpleImputer from sklearn instead.\n",
      "  warnings.warn(msg, category=DeprecationWarning)\n"
     ]
    },
    {
     "data": {
      "text/html": [
       "<div>\n",
       "<style scoped>\n",
       "    .dataframe tbody tr th:only-of-type {\n",
       "        vertical-align: middle;\n",
       "    }\n",
       "\n",
       "    .dataframe tbody tr th {\n",
       "        vertical-align: top;\n",
       "    }\n",
       "\n",
       "    .dataframe thead th {\n",
       "        text-align: right;\n",
       "    }\n",
       "</style>\n",
       "<table border=\"1\" class=\"dataframe\">\n",
       "  <thead>\n",
       "    <tr style=\"text-align: right;\">\n",
       "      <th></th>\n",
       "      <th>release_speed</th>\n",
       "      <th>release_spin_rate</th>\n",
       "      <th>release_pos_x</th>\n",
       "      <th>release_pos_y</th>\n",
       "      <th>release_pos_z</th>\n",
       "      <th>pfx_x</th>\n",
       "      <th>pfx_z</th>\n",
       "      <th>vx0</th>\n",
       "      <th>vy0</th>\n",
       "      <th>vz0</th>\n",
       "      <th>...</th>\n",
       "      <th>pitch_name_Changeup</th>\n",
       "      <th>pitch_name_Curveball</th>\n",
       "      <th>pitch_name_Cutter</th>\n",
       "      <th>pitch_name_Sinker</th>\n",
       "      <th>pitch_name_Slider</th>\n",
       "      <th>pitch_name_Split Finger</th>\n",
       "      <th>pitch_name_nan</th>\n",
       "      <th>p_throws_L</th>\n",
       "      <th>p_throws_R</th>\n",
       "      <th>p_throws_nan</th>\n",
       "    </tr>\n",
       "  </thead>\n",
       "  <tbody>\n",
       "    <tr>\n",
       "      <th>0</th>\n",
       "      <td>1.073523</td>\n",
       "      <td>0.225683</td>\n",
       "      <td>2.080234</td>\n",
       "      <td>-0.016458</td>\n",
       "      <td>-1.073886</td>\n",
       "      <td>2.119752</td>\n",
       "      <td>-0.279650</td>\n",
       "      <td>-1.984984</td>\n",
       "      <td>-1.064687</td>\n",
       "      <td>1.276245</td>\n",
       "      <td>...</td>\n",
       "      <td>0</td>\n",
       "      <td>0</td>\n",
       "      <td>0</td>\n",
       "      <td>0</td>\n",
       "      <td>0</td>\n",
       "      <td>0</td>\n",
       "      <td>0</td>\n",
       "      <td>1</td>\n",
       "      <td>0</td>\n",
       "      <td>0</td>\n",
       "    </tr>\n",
       "    <tr>\n",
       "      <th>1</th>\n",
       "      <td>1.340953</td>\n",
       "      <td>0.258210</td>\n",
       "      <td>2.033107</td>\n",
       "      <td>-0.393337</td>\n",
       "      <td>-0.823324</td>\n",
       "      <td>1.228740</td>\n",
       "      <td>0.483185</td>\n",
       "      <td>-1.856961</td>\n",
       "      <td>-1.349626</td>\n",
       "      <td>0.535466</td>\n",
       "      <td>...</td>\n",
       "      <td>0</td>\n",
       "      <td>0</td>\n",
       "      <td>0</td>\n",
       "      <td>0</td>\n",
       "      <td>0</td>\n",
       "      <td>0</td>\n",
       "      <td>0</td>\n",
       "      <td>1</td>\n",
       "      <td>0</td>\n",
       "      <td>0</td>\n",
       "    </tr>\n",
       "    <tr>\n",
       "      <th>2</th>\n",
       "      <td>-1.316632</td>\n",
       "      <td>0.898992</td>\n",
       "      <td>2.124057</td>\n",
       "      <td>1.138366</td>\n",
       "      <td>-1.320666</td>\n",
       "      <td>-0.982587</td>\n",
       "      <td>-1.009283</td>\n",
       "      <td>-1.006819</td>\n",
       "      <td>1.330334</td>\n",
       "      <td>1.589316</td>\n",
       "      <td>...</td>\n",
       "      <td>0</td>\n",
       "      <td>0</td>\n",
       "      <td>0</td>\n",
       "      <td>0</td>\n",
       "      <td>1</td>\n",
       "      <td>0</td>\n",
       "      <td>0</td>\n",
       "      <td>1</td>\n",
       "      <td>0</td>\n",
       "      <td>0</td>\n",
       "    </tr>\n",
       "    <tr>\n",
       "      <th>3</th>\n",
       "      <td>1.257381</td>\n",
       "      <td>0.274474</td>\n",
       "      <td>2.013077</td>\n",
       "      <td>-0.965694</td>\n",
       "      <td>-1.152964</td>\n",
       "      <td>1.662236</td>\n",
       "      <td>0.401776</td>\n",
       "      <td>-2.347235</td>\n",
       "      <td>-1.209132</td>\n",
       "      <td>-0.252616</td>\n",
       "      <td>...</td>\n",
       "      <td>0</td>\n",
       "      <td>0</td>\n",
       "      <td>0</td>\n",
       "      <td>0</td>\n",
       "      <td>0</td>\n",
       "      <td>0</td>\n",
       "      <td>0</td>\n",
       "      <td>1</td>\n",
       "      <td>0</td>\n",
       "      <td>0</td>\n",
       "    </tr>\n",
       "    <tr>\n",
       "      <th>4</th>\n",
       "      <td>1.307524</td>\n",
       "      <td>0.625765</td>\n",
       "      <td>2.099451</td>\n",
       "      <td>-0.293616</td>\n",
       "      <td>-1.431626</td>\n",
       "      <td>1.619067</td>\n",
       "      <td>0.139219</td>\n",
       "      <td>-2.665304</td>\n",
       "      <td>-1.265463</td>\n",
       "      <td>0.268337</td>\n",
       "      <td>...</td>\n",
       "      <td>0</td>\n",
       "      <td>0</td>\n",
       "      <td>0</td>\n",
       "      <td>0</td>\n",
       "      <td>0</td>\n",
       "      <td>0</td>\n",
       "      <td>0</td>\n",
       "      <td>1</td>\n",
       "      <td>0</td>\n",
       "      <td>0</td>\n",
       "    </tr>\n",
       "  </tbody>\n",
       "</table>\n",
       "<p>5 rows × 28 columns</p>\n",
       "</div>"
      ],
      "text/plain": [
       "   release_speed  release_spin_rate  release_pos_x  release_pos_y  \\\n",
       "0       1.073523           0.225683       2.080234      -0.016458   \n",
       "1       1.340953           0.258210       2.033107      -0.393337   \n",
       "2      -1.316632           0.898992       2.124057       1.138366   \n",
       "3       1.257381           0.274474       2.013077      -0.965694   \n",
       "4       1.307524           0.625765       2.099451      -0.293616   \n",
       "\n",
       "   release_pos_z     pfx_x     pfx_z       vx0       vy0       vz0  \\\n",
       "0      -1.073886  2.119752 -0.279650 -1.984984 -1.064687  1.276245   \n",
       "1      -0.823324  1.228740  0.483185 -1.856961 -1.349626  0.535466   \n",
       "2      -1.320666 -0.982587 -1.009283 -1.006819  1.330334  1.589316   \n",
       "3      -1.152964  1.662236  0.401776 -2.347235 -1.209132 -0.252616   \n",
       "4      -1.431626  1.619067  0.139219 -2.665304 -1.265463  0.268337   \n",
       "\n",
       "       ...       pitch_name_Changeup  pitch_name_Curveball  pitch_name_Cutter  \\\n",
       "0      ...                         0                     0                  0   \n",
       "1      ...                         0                     0                  0   \n",
       "2      ...                         0                     0                  0   \n",
       "3      ...                         0                     0                  0   \n",
       "4      ...                         0                     0                  0   \n",
       "\n",
       "   pitch_name_Sinker  pitch_name_Slider  pitch_name_Split Finger  \\\n",
       "0                  0                  0                        0   \n",
       "1                  0                  0                        0   \n",
       "2                  0                  1                        0   \n",
       "3                  0                  0                        0   \n",
       "4                  0                  0                        0   \n",
       "\n",
       "   pitch_name_nan  p_throws_L  p_throws_R  p_throws_nan  \n",
       "0               0           1           0             0  \n",
       "1               0           1           0             0  \n",
       "2               0           1           0             0  \n",
       "3               0           1           0             0  \n",
       "4               0           1           0             0  \n",
       "\n",
       "[5 rows x 28 columns]"
      ]
     },
     "execution_count": 2,
     "metadata": {},
     "output_type": "execute_result"
    }
   ],
   "source": [
    "#load in the preprocessed data\n",
    "data = preprocess_data('Statcast_data.csv')\n",
    "target = data['description']\n",
    "#filter out 'player_name'; will not use as a feature\n",
    "#and filter out the target\n",
    "data = data.iloc[:, :-2]\n",
    "data.head()\n",
    "\n"
   ]
  },
  {
   "cell_type": "code",
   "execution_count": 10,
   "metadata": {},
   "outputs": [],
   "source": [
    "#first, create a hold-out set as a final evaluation set\n",
    "X_train, X_test, y_train, y_test = train_test_split(data, target, random_state = 777, test_size = .2)\n",
    "\n",
    "#instatiate a vanilla Random Forest Classifier\n",
    "forest = RandomForestClassifier(n_jobs=-1)"
   ]
  },
  {
   "cell_type": "markdown",
   "metadata": {},
   "source": [
    "## Build a pipeline\n",
    "\n",
    "#### Random Oversampler and the vannia Random Forest."
   ]
  },
  {
   "cell_type": "code",
   "execution_count": 11,
   "metadata": {},
   "outputs": [],
   "source": [
    "forest_pipe = Pipeline(steps= [\n",
    "    ('sampler', RandomOverSampler(ratio = 1, random_state = 777)),\n",
    "    ('clf', forest)\n",
    "                            ])"
   ]
  },
  {
   "cell_type": "code",
   "execution_count": 12,
   "metadata": {},
   "outputs": [
    {
     "name": "stdout",
     "output_type": "stream",
     "text": [
      "Mean train_accuracy Value: 0.9922684893632842\n",
      "train_accuracy scores: [0.99221014 0.99193361 0.99266173]\n",
      "\n",
      "Mean test_accuracy Value: 0.6306736025327809\n",
      "test_accuracy scores: [0.63309164 0.6313046  0.62762457]\n",
      "\n",
      "Mean train_f1 Value: 0.9878232930079894\n",
      "train_f1 scores: [0.98773864 0.98728716 0.98844408]\n",
      "\n",
      "Mean test_f1 Value: 0.232992774896191\n",
      "test_f1 scores: [0.23756505 0.23558534 0.22582793]\n",
      "\n",
      "Mean train_roc_auc Value: 0.999561831893284\n",
      "train_roc_auc scores: [0.99953544 0.99952876 0.9996213 ]\n",
      "\n",
      "Mean test_roc_auc Value: 0.5264853619441996\n",
      "test_roc_auc scores: [0.52891606 0.52883178 0.52170825]\n",
      "\n",
      "dict_keys(['memory', 'steps', 'sampler', 'clf', 'sampler__random_state', 'sampler__ratio', 'sampler__return_indices', 'sampler__sampling_strategy', 'clf__bootstrap', 'clf__class_weight', 'clf__criterion', 'clf__max_depth', 'clf__max_features', 'clf__max_leaf_nodes', 'clf__min_impurity_decrease', 'clf__min_impurity_split', 'clf__min_samples_leaf', 'clf__min_samples_split', 'clf__min_weight_fraction_leaf', 'clf__n_estimators', 'clf__n_jobs', 'clf__oob_score', 'clf__random_state', 'clf__verbose', 'clf__warm_start'])\n"
     ]
    }
   ],
   "source": [
    "results = eval_model(forest_pipe, X_train, y_train, cv = 3)"
   ]
  },
  {
   "cell_type": "markdown",
   "metadata": {},
   "source": [
    "## Analysis"
   ]
  },
  {
   "cell_type": "markdown",
   "metadata": {},
   "source": [
    "Model is most likely overfitting. Let's check to make sure."
   ]
  },
  {
   "cell_type": "code",
   "execution_count": 16,
   "metadata": {},
   "outputs": [
    {
     "data": {
      "text/plain": [
       "<module 'matplotlib.pyplot' from '/opt/tljh/user/lib/python3.6/site-packages/matplotlib/pyplot.py'>"
      ]
     },
     "execution_count": 16,
     "metadata": {},
     "output_type": "execute_result"
    },
    {
     "data": {
      "image/png": "[encoded data removed]",
      "text/plain": [
       "<Figure size 432x288 with 1 Axes>"
      ]
     },
     "metadata": {},
     "output_type": "display_data"
    }
   ],
   "source": [
    "def plot_learning_curve(estimator, title, X, y, ylim=None, cv=None,\n",
    "                        n_jobs=None, train_sizes=np.linspace(.1, 1.0, 5)):\n",
    "    \"\"\"\n",
    "    Generate a simple plot of the test and training learning curve.\n",
    "\n",
    "    Parameters\n",
    "    ----------\n",
    "    estimator : object type that implements the \"fit\" and \"predict\" methods\n",
    "        An object of that type which is cloned for each validation.\n",
    "\n",
    "    title : string\n",
    "        Title for the chart.\n",
    "\n",
    "    X : array-like, shape (n_samples, n_features)\n",
    "        Training vector, where n_samples is the number of samples and\n",
    "        n_features is the number of features.\n",
    "\n",
    "    y : array-like, shape (n_samples) or (n_samples, n_features), optional\n",
    "        Target relative to X for classification or regression;\n",
    "        None for unsupervised learning.\n",
    "\n",
    "    ylim : tuple, shape (ymin, ymax), optional\n",
    "        Defines minimum and maximum yvalues plotted.\n",
    "\n",
    "    cv : int, cross-validation generator or an iterable, optional\n",
    "        Determines the cross-validation splitting strategy.\n",
    "        Possible inputs for cv are:\n",
    "          - None, to use the default 3-fold cross-validation,\n",
    "          - integer, to specify the number of folds.\n",
    "          - :term:`CV splitter`,\n",
    "          - An iterable yielding (train, test) splits as arrays of indices.\n",
    "\n",
    "        For integer/None inputs, if ``y`` is binary or multiclass,\n",
    "        :class:`StratifiedKFold` used. If the estimator is not a classifier\n",
    "        or if ``y`` is neither binary nor multiclass, :class:`KFold` is used.\n",
    "\n",
    "        Refer :ref:`User Guide <cross_validation>` for the various\n",
    "        cross-validators that can be used here.\n",
    "\n",
    "    n_jobs : int or None, optional (default=None)\n",
    "        Number of jobs to run in parallel.\n",
    "        ``None`` means 1 unless in a :obj:`joblib.parallel_backend` context.\n",
    "        ``-1`` means using all processors. See :term:`Glossary <n_jobs>`\n",
    "        for more details.\n",
    "\n",
    "    train_sizes : array-like, shape (n_ticks,), dtype float or int\n",
    "        Relative or absolute numbers of training examples that will be used to\n",
    "        generate the learning curve. If the dtype is float, it is regarded as a\n",
    "        fraction of the maximum size of the training set (that is determined\n",
    "        by the selected validation method), i.e. it has to be within (0, 1].\n",
    "        Otherwise it is interpreted as absolute sizes of the training sets.\n",
    "        Note that for classification the number of samples usually have to\n",
    "        be big enough to contain at least one sample from each class.\n",
    "        (default: np.linspace(0.1, 1.0, 5))\n",
    "    \"\"\"\n",
    "    from sklearn.model_selection import learning_curve\n",
    "    from sklearn.model_selection import ShuffleSplit\n",
    "    \n",
    "    plt.figure()\n",
    "    plt.title(title)\n",
    "    if ylim is not None:\n",
    "        plt.ylim(*ylim)\n",
    "    plt.xlabel(\"Training examples\")\n",
    "    plt.ylabel(\"Score\")\n",
    "    train_sizes, train_scores, test_scores = learning_curve(\n",
    "        estimator, X, y, cv=cv, n_jobs=n_jobs, train_sizes=train_sizes)\n",
    "    train_scores_mean = np.mean(train_scores, axis=1)\n",
    "    train_scores_std = np.std(train_scores, axis=1)\n",
    "    test_scores_mean = np.mean(test_scores, axis=1)\n",
    "    test_scores_std = np.std(test_scores, axis=1)\n",
    "    plt.grid(b=True)\n",
    "\n",
    "    plt.fill_between(train_sizes, train_scores_mean - train_scores_std,\n",
    "                     train_scores_mean + train_scores_std, alpha=0.1,\n",
    "                     color=\"r\")\n",
    "    plt.fill_between(train_sizes, test_scores_mean - test_scores_std,\n",
    "                     test_scores_mean + test_scores_std, alpha=0.1, color=\"g\")\n",
    "    plt.plot(train_sizes, train_scores_mean, 'o-', color=\"r\",\n",
    "             label=\"Training score\")\n",
    "    plt.plot(train_sizes, test_scores_mean, 'o-', color=\"g\",\n",
    "             label=\"Cross-validation score\")\n",
    "\n",
    "    plt.legend(loc=\"best\")\n",
    "    return plt\n",
    "\n",
    "plot_learning_curve(forest_pipe, title = \"Learning Curve\",\n",
    "                    X = X_train, y = y_train, cv = 3, n_jobs = -1)"
   ]
  },
  {
   "cell_type": "markdown",
   "metadata": {},
   "source": [
    "## Find a upper threshold for n_estimators for the forest."
   ]
  },
  {
   "cell_type": "code",
   "execution_count": 14,
   "metadata": {},
   "outputs": [
    {
     "name": "stderr",
     "output_type": "stream",
     "text": [
      "/home/jupyter-khickey550/.local/lib/python3.6/site-packages/sklearn/externals/joblib/externals/loky/process_executor.py:706: UserWarning: A worker stopped while some jobs were given to the executor. This can be caused by a too short worker timeout or by a memory leak.\n",
      "  \"timeout or by a memory leak.\", UserWarning\n",
      "/home/jupyter-khickey550/.local/lib/python3.6/site-packages/sklearn/externals/joblib/externals/loky/process_executor.py:706: UserWarning: A worker stopped while some jobs were given to the executor. This can be caused by a too short worker timeout or by a memory leak.\n",
      "  \"timeout or by a memory leak.\", UserWarning\n",
      "/home/jupyter-khickey550/.local/lib/python3.6/site-packages/sklearn/externals/joblib/externals/loky/process_executor.py:706: UserWarning: A worker stopped while some jobs were given to the executor. This can be caused by a too short worker timeout or by a memory leak.\n",
      "  \"timeout or by a memory leak.\", UserWarning\n",
      "/home/jupyter-khickey550/.local/lib/python3.6/site-packages/sklearn/externals/joblib/externals/loky/process_executor.py:706: UserWarning: A worker stopped while some jobs were given to the executor. This can be caused by a too short worker timeout or by a memory leak.\n",
      "  \"timeout or by a memory leak.\", UserWarning\n",
      "/home/jupyter-khickey550/.local/lib/python3.6/site-packages/sklearn/externals/joblib/externals/loky/process_executor.py:706: UserWarning: A worker stopped while some jobs were given to the executor. This can be caused by a too short worker timeout or by a memory leak.\n",
      "  \"timeout or by a memory leak.\", UserWarning\n",
      "/home/jupyter-khickey550/.local/lib/python3.6/site-packages/sklearn/externals/joblib/externals/loky/process_executor.py:706: UserWarning: A worker stopped while some jobs were given to the executor. This can be caused by a too short worker timeout or by a memory leak.\n",
      "  \"timeout or by a memory leak.\", UserWarning\n"
     ]
    },
    {
     "data": {
      "image/png": "[encoded data removed]",
      "text/plain": [
       "<Figure size 432x288 with 1 Axes>"
      ]
     },
     "metadata": {
      "needs_background": "light"
     },
     "output_type": "display_data"
    }
   ],
   "source": [
    "plot_validation_curve(forest_pipe, X_train, y_train, \n",
    "                      param_name='clf__n_estimators', param_range=[int(x) for x in np.linspace(1,200,8)],\n",
    "                     metric = 'accuracy')"
   ]
  },
  {
   "cell_type": "markdown",
   "metadata": {},
   "source": [
    "25-75 trees will be selected for n_estimators parameter in hyperparameter tuning. The chart shows that performance does not significantly improve after this value, and it is not too high to keep computations expensive. "
   ]
  },
  {
   "cell_type": "markdown",
   "metadata": {},
   "source": [
    "## Tuning\n",
    "\n",
    "Here we will tune the model to try and improve results.\n",
    "\n",
    "Will use python package \"scikit-optimize\", or skopt, to efficiently search hyperparemter space and find set of hyperparamters that lead to the best performing model.\n",
    "\n",
    "\n"
   ]
  },
  {
   "cell_type": "code",
   "execution_count": 24,
   "metadata": {},
   "outputs": [],
   "source": [
    "import skopt\n",
    "from skopt import BayesSearchCV\n",
    "from skopt.space import Real, Integer, Categorical\n",
    "\n",
    "#create a pipeline same as forest_pipe but with defined n_estimators\n",
    "forest_skopt = Pipeline(steps= [\n",
    "    ('sampler', RandomOverSampler(ratio = 1, random_state = 777)),\n",
    "    ('clf', RandomForestClassifier(n_estimators = 75))\n",
    "                            ])\n",
    "#create a search space dict specifying:\n",
    "#which hyperparameter, and the range of values to look through\n",
    "forest_search_space = {\n",
    "    'clf__n_estimators': Integer(25, 75),\n",
    "    'clf__criterion': Categorical(['gini', 'entropy']),\n",
    "    'clf__max_depth': Real(1e1, 1e6, 'log-uniform'),\n",
    "    'clf__min_samples_split': Real(1e-4, 1e-1, 'log-uniform'),\n",
    "    'clf__min_samples_leaf': Integer(5, 50),\n",
    "    'clf__max_features': Real(0.1, 0.5)\n",
    "                        }\n",
    "#create the BayesSearch object that will evaluate hyperparameters\n",
    "bayes_cv_tuner = BayesSearchCV(estimator = forest_skopt, \n",
    "                              scoring='accuracy',\n",
    "                              search_spaces=forest_search_space, \n",
    "                               verbose = 1, random_state=777,\n",
    "                               n_jobs = -1\n",
    "                              )\n",
    "#helper function to print results\n",
    "def status_print(optim_result):\n",
    "    \"\"\"Status callback durring bayesian hyperparameter search\"\"\"\n",
    "    \n",
    "    # Get all the models tested so far in DataFrame format\n",
    "    all_models = pd.DataFrame(bayes_cv_tuner.cv_results_)    \n",
    "    \n",
    "    # Get current parameters and the best parameters    \n",
    "    best_params = pd.Series(bayes_cv_tuner.best_params_)\n",
    "    print('Model #{}\\nBest Score: {}\\nBest params: {}\\n'.format(\n",
    "        len(all_models),\n",
    "        np.round(bayes_cv_tuner.best_score_, 4),\n",
    "        bayes_cv_tuner.best_params_\n",
    "    ))\n",
    "            "
   ]
  },
  {
   "cell_type": "code",
   "execution_count": 25,
   "metadata": {},
   "outputs": [
    {
     "name": "stdout",
     "output_type": "stream",
     "text": [
      "Fitting 3 folds for each of 1 candidates, totalling 3 fits\n"
     ]
    },
    {
     "name": "stderr",
     "output_type": "stream",
     "text": [
      "[Parallel(n_jobs=-1)]: Using backend LokyBackend with 4 concurrent workers.\n",
      "[Parallel(n_jobs=-1)]: Done   3 out of   3 | elapsed:   36.5s finished\n",
      "[Parallel(n_jobs=-1)]: Using backend LokyBackend with 4 concurrent workers.\n"
     ]
    },
    {
     "name": "stdout",
     "output_type": "stream",
     "text": [
      "Model #1\n",
      "Best Score: 0.4819\n",
      "Best params: {'clf__criterion': 'gini', 'clf__max_depth': 3043.448866282034, 'clf__max_features': 0.4549871291126466, 'clf__min_samples_leaf': 10, 'clf__min_samples_split': 0.08582673643621304, 'clf__n_estimators': 63}\n",
      "\n",
      "Fitting 3 folds for each of 1 candidates, totalling 3 fits\n"
     ]
    },
    {
     "name": "stderr",
     "output_type": "stream",
     "text": [
      "[Parallel(n_jobs=-1)]: Done   3 out of   3 | elapsed:   21.1s finished\n",
      "[Parallel(n_jobs=-1)]: Using backend LokyBackend with 4 concurrent workers.\n"
     ]
    },
    {
     "name": "stdout",
     "output_type": "stream",
     "text": [
      "Model #2\n",
      "Best Score: 0.5011\n",
      "Best params: {'clf__criterion': 'entropy', 'clf__max_depth': 3644.292804877824, 'clf__max_features': 0.17104977761723228, 'clf__min_samples_leaf': 43, 'clf__min_samples_split': 0.018402666350492532, 'clf__n_estimators': 47}\n",
      "\n",
      "Fitting 3 folds for each of 1 candidates, totalling 3 fits\n"
     ]
    },
    {
     "name": "stderr",
     "output_type": "stream",
     "text": [
      "[Parallel(n_jobs=-1)]: Done   3 out of   3 | elapsed:    9.8s finished\n",
      "[Parallel(n_jobs=-1)]: Using backend LokyBackend with 4 concurrent workers.\n"
     ]
    },
    {
     "name": "stdout",
     "output_type": "stream",
     "text": [
      "Model #3\n",
      "Best Score: 0.5625\n",
      "Best params: {'clf__criterion': 'gini', 'clf__max_depth': 1888.0720176808813, 'clf__max_features': 0.1143865561549319, 'clf__min_samples_leaf': 30, 'clf__min_samples_split': 0.0004731680595506091, 'clf__n_estimators': 29}\n",
      "\n",
      "Fitting 3 folds for each of 1 candidates, totalling 3 fits\n"
     ]
    },
    {
     "name": "stderr",
     "output_type": "stream",
     "text": [
      "[Parallel(n_jobs=-1)]: Done   3 out of   3 | elapsed:   22.0s finished\n",
      "[Parallel(n_jobs=-1)]: Using backend LokyBackend with 4 concurrent workers.\n"
     ]
    },
    {
     "name": "stdout",
     "output_type": "stream",
     "text": [
      "Model #4\n",
      "Best Score: 0.5625\n",
      "Best params: {'clf__criterion': 'gini', 'clf__max_depth': 1888.0720176808813, 'clf__max_features': 0.1143865561549319, 'clf__min_samples_leaf': 30, 'clf__min_samples_split': 0.0004731680595506091, 'clf__n_estimators': 29}\n",
      "\n",
      "Fitting 3 folds for each of 1 candidates, totalling 3 fits\n"
     ]
    },
    {
     "name": "stderr",
     "output_type": "stream",
     "text": [
      "[Parallel(n_jobs=-1)]: Done   3 out of   3 | elapsed:   29.4s finished\n",
      "[Parallel(n_jobs=-1)]: Using backend LokyBackend with 4 concurrent workers.\n"
     ]
    },
    {
     "name": "stdout",
     "output_type": "stream",
     "text": [
      "Model #5\n",
      "Best Score: 0.5625\n",
      "Best params: {'clf__criterion': 'gini', 'clf__max_depth': 1888.0720176808813, 'clf__max_features': 0.1143865561549319, 'clf__min_samples_leaf': 30, 'clf__min_samples_split': 0.0004731680595506091, 'clf__n_estimators': 29}\n",
      "\n",
      "Fitting 3 folds for each of 1 candidates, totalling 3 fits\n"
     ]
    },
    {
     "name": "stderr",
     "output_type": "stream",
     "text": [
      "[Parallel(n_jobs=-1)]: Done   3 out of   3 | elapsed:   33.7s finished\n",
      "[Parallel(n_jobs=-1)]: Using backend LokyBackend with 4 concurrent workers.\n"
     ]
    },
    {
     "name": "stdout",
     "output_type": "stream",
     "text": [
      "Model #6\n",
      "Best Score: 0.569\n",
      "Best params: {'clf__criterion': 'gini', 'clf__max_depth': 578.6722105473297, 'clf__max_features': 0.2978016457342687, 'clf__min_samples_leaf': 11, 'clf__min_samples_split': 0.001264044845544655, 'clf__n_estimators': 38}\n",
      "\n",
      "Fitting 3 folds for each of 1 candidates, totalling 3 fits\n"
     ]
    },
    {
     "name": "stderr",
     "output_type": "stream",
     "text": [
      "[Parallel(n_jobs=-1)]: Done   3 out of   3 | elapsed:   19.3s finished\n",
      "[Parallel(n_jobs=-1)]: Using backend LokyBackend with 4 concurrent workers.\n"
     ]
    },
    {
     "name": "stdout",
     "output_type": "stream",
     "text": [
      "Model #7\n",
      "Best Score: 0.569\n",
      "Best params: {'clf__criterion': 'gini', 'clf__max_depth': 578.6722105473297, 'clf__max_features': 0.2978016457342687, 'clf__min_samples_leaf': 11, 'clf__min_samples_split': 0.001264044845544655, 'clf__n_estimators': 38}\n",
      "\n",
      "Fitting 3 folds for each of 1 candidates, totalling 3 fits\n"
     ]
    },
    {
     "name": "stderr",
     "output_type": "stream",
     "text": [
      "[Parallel(n_jobs=-1)]: Done   3 out of   3 | elapsed:  1.3min finished\n",
      "[Parallel(n_jobs=-1)]: Using backend LokyBackend with 4 concurrent workers.\n"
     ]
    },
    {
     "name": "stdout",
     "output_type": "stream",
     "text": [
      "Model #8\n",
      "Best Score: 0.569\n",
      "Best params: {'clf__criterion': 'gini', 'clf__max_depth': 578.6722105473297, 'clf__max_features': 0.2978016457342687, 'clf__min_samples_leaf': 11, 'clf__min_samples_split': 0.001264044845544655, 'clf__n_estimators': 38}\n",
      "\n",
      "Fitting 3 folds for each of 1 candidates, totalling 3 fits\n"
     ]
    },
    {
     "name": "stderr",
     "output_type": "stream",
     "text": [
      "[Parallel(n_jobs=-1)]: Done   3 out of   3 | elapsed:   19.3s finished\n"
     ]
    },
    {
     "name": "stdout",
     "output_type": "stream",
     "text": [
      "Model #9\n",
      "Best Score: 0.5699\n",
      "Best params: {'clf__criterion': 'gini', 'clf__max_depth': 75.87866888026907, 'clf__max_features': 0.16512617051480058, 'clf__min_samples_leaf': 28, 'clf__min_samples_split': 0.0003395933049657706, 'clf__n_estimators': 45}\n",
      "\n",
      "Fitting 3 folds for each of 1 candidates, totalling 3 fits\n"
     ]
    },
    {
     "name": "stderr",
     "output_type": "stream",
     "text": [
      "[Parallel(n_jobs=-1)]: Using backend LokyBackend with 4 concurrent workers.\n",
      "[Parallel(n_jobs=-1)]: Done   3 out of   3 | elapsed:  1.2min finished\n"
     ]
    },
    {
     "name": "stdout",
     "output_type": "stream",
     "text": [
      "Model #10\n",
      "Best Score: 0.5699\n",
      "Best params: {'clf__criterion': 'gini', 'clf__max_depth': 75.87866888026907, 'clf__max_features': 0.16512617051480058, 'clf__min_samples_leaf': 28, 'clf__min_samples_split': 0.0003395933049657706, 'clf__n_estimators': 45}\n",
      "\n",
      "Fitting 3 folds for each of 1 candidates, totalling 3 fits\n"
     ]
    },
    {
     "name": "stderr",
     "output_type": "stream",
     "text": [
      "[Parallel(n_jobs=-1)]: Using backend LokyBackend with 4 concurrent workers.\n",
      "[Parallel(n_jobs=-1)]: Done   3 out of   3 | elapsed:   56.0s finished\n"
     ]
    },
    {
     "name": "stdout",
     "output_type": "stream",
     "text": [
      "Model #11\n",
      "Best Score: 0.5699\n",
      "Best params: {'clf__criterion': 'gini', 'clf__max_depth': 75.87866888026907, 'clf__max_features': 0.16512617051480058, 'clf__min_samples_leaf': 28, 'clf__min_samples_split': 0.0003395933049657706, 'clf__n_estimators': 45}\n",
      "\n",
      "Fitting 3 folds for each of 1 candidates, totalling 3 fits\n"
     ]
    },
    {
     "name": "stderr",
     "output_type": "stream",
     "text": [
      "[Parallel(n_jobs=-1)]: Using backend LokyBackend with 4 concurrent workers.\n",
      "[Parallel(n_jobs=-1)]: Done   3 out of   3 | elapsed:   32.3s finished\n"
     ]
    },
    {
     "name": "stdout",
     "output_type": "stream",
     "text": [
      "Model #12\n",
      "Best Score: 0.5699\n",
      "Best params: {'clf__criterion': 'gini', 'clf__max_depth': 75.87866888026907, 'clf__max_features': 0.16512617051480058, 'clf__min_samples_leaf': 28, 'clf__min_samples_split': 0.0003395933049657706, 'clf__n_estimators': 45}\n",
      "\n",
      "Fitting 3 folds for each of 1 candidates, totalling 3 fits\n"
     ]
    },
    {
     "name": "stderr",
     "output_type": "stream",
     "text": [
      "[Parallel(n_jobs=-1)]: Using backend LokyBackend with 4 concurrent workers.\n",
      "[Parallel(n_jobs=-1)]: Done   3 out of   3 | elapsed:   10.0s finished\n"
     ]
    },
    {
     "name": "stdout",
     "output_type": "stream",
     "text": [
      "Model #13\n",
      "Best Score: 0.5699\n",
      "Best params: {'clf__criterion': 'gini', 'clf__max_depth': 75.87866888026907, 'clf__max_features': 0.16512617051480058, 'clf__min_samples_leaf': 28, 'clf__min_samples_split': 0.0003395933049657706, 'clf__n_estimators': 45}\n",
      "\n",
      "Fitting 3 folds for each of 1 candidates, totalling 3 fits\n"
     ]
    },
    {
     "name": "stderr",
     "output_type": "stream",
     "text": [
      "[Parallel(n_jobs=-1)]: Using backend LokyBackend with 4 concurrent workers.\n",
      "[Parallel(n_jobs=-1)]: Done   3 out of   3 | elapsed:   15.4s finished\n"
     ]
    },
    {
     "name": "stdout",
     "output_type": "stream",
     "text": [
      "Model #14\n",
      "Best Score: 0.6061\n",
      "Best params: {'clf__criterion': 'gini', 'clf__max_depth': 272.53100984198653, 'clf__max_features': 0.18821991301303673, 'clf__min_samples_leaf': 5, 'clf__min_samples_split': 0.00022280755225395694, 'clf__n_estimators': 25}\n",
      "\n",
      "Fitting 3 folds for each of 1 candidates, totalling 3 fits\n"
     ]
    },
    {
     "name": "stderr",
     "output_type": "stream",
     "text": [
      "[Parallel(n_jobs=-1)]: Using backend LokyBackend with 4 concurrent workers.\n",
      "[Parallel(n_jobs=-1)]: Done   3 out of   3 | elapsed:   41.5s finished\n"
     ]
    },
    {
     "name": "stdout",
     "output_type": "stream",
     "text": [
      "Model #15\n",
      "Best Score: 0.6175\n",
      "Best params: {'clf__criterion': 'gini', 'clf__max_depth': 353.35615512808175, 'clf__max_features': 0.5, 'clf__min_samples_leaf': 5, 'clf__min_samples_split': 0.0001, 'clf__n_estimators': 25}\n",
      "\n",
      "Fitting 3 folds for each of 1 candidates, totalling 3 fits\n"
     ]
    },
    {
     "name": "stderr",
     "output_type": "stream",
     "text": [
      "[Parallel(n_jobs=-1)]: Using backend LokyBackend with 4 concurrent workers.\n",
      "[Parallel(n_jobs=-1)]: Done   3 out of   3 | elapsed:  1.5min finished\n"
     ]
    },
    {
     "name": "stdout",
     "output_type": "stream",
     "text": [
      "Model #16\n",
      "Best Score: 0.6175\n",
      "Best params: {'clf__criterion': 'gini', 'clf__max_depth': 353.35615512808175, 'clf__max_features': 0.5, 'clf__min_samples_leaf': 5, 'clf__min_samples_split': 0.0001, 'clf__n_estimators': 25}\n",
      "\n",
      "Fitting 3 folds for each of 1 candidates, totalling 3 fits\n"
     ]
    },
    {
     "name": "stderr",
     "output_type": "stream",
     "text": [
      "[Parallel(n_jobs=-1)]: Using backend LokyBackend with 4 concurrent workers.\n",
      "[Parallel(n_jobs=-1)]: Done   3 out of   3 | elapsed:  2.1min finished\n"
     ]
    },
    {
     "name": "stdout",
     "output_type": "stream",
     "text": [
      "Model #17\n",
      "Best Score: 0.6352\n",
      "Best params: {'clf__criterion': 'gini', 'clf__max_depth': 1000000.0, 'clf__max_features': 0.5, 'clf__min_samples_leaf': 5, 'clf__min_samples_split': 0.0001, 'clf__n_estimators': 75}\n",
      "\n",
      "Fitting 3 folds for each of 1 candidates, totalling 3 fits\n"
     ]
    },
    {
     "name": "stderr",
     "output_type": "stream",
     "text": [
      "[Parallel(n_jobs=-1)]: Using backend LokyBackend with 4 concurrent workers.\n",
      "[Parallel(n_jobs=-1)]: Done   3 out of   3 | elapsed:   24.8s finished\n"
     ]
    },
    {
     "name": "stdout",
     "output_type": "stream",
     "text": [
      "Model #18\n",
      "Best Score: 0.6352\n",
      "Best params: {'clf__criterion': 'gini', 'clf__max_depth': 1000000.0, 'clf__max_features': 0.5, 'clf__min_samples_leaf': 5, 'clf__min_samples_split': 0.0001, 'clf__n_estimators': 75}\n",
      "\n",
      "Fitting 3 folds for each of 1 candidates, totalling 3 fits\n"
     ]
    },
    {
     "name": "stderr",
     "output_type": "stream",
     "text": [
      "[Parallel(n_jobs=-1)]: Using backend LokyBackend with 4 concurrent workers.\n",
      "[Parallel(n_jobs=-1)]: Done   3 out of   3 | elapsed:   37.4s finished\n"
     ]
    },
    {
     "name": "stdout",
     "output_type": "stream",
     "text": [
      "Model #19\n",
      "Best Score: 0.6352\n",
      "Best params: {'clf__criterion': 'gini', 'clf__max_depth': 1000000.0, 'clf__max_features': 0.5, 'clf__min_samples_leaf': 5, 'clf__min_samples_split': 0.0001, 'clf__n_estimators': 75}\n",
      "\n",
      "Fitting 3 folds for each of 1 candidates, totalling 3 fits\n"
     ]
    },
    {
     "name": "stderr",
     "output_type": "stream",
     "text": [
      "[Parallel(n_jobs=-1)]: Using backend LokyBackend with 4 concurrent workers.\n",
      "[Parallel(n_jobs=-1)]: Done   3 out of   3 | elapsed:   37.7s finished\n"
     ]
    },
    {
     "name": "stdout",
     "output_type": "stream",
     "text": [
      "Model #20\n",
      "Best Score: 0.6352\n",
      "Best params: {'clf__criterion': 'gini', 'clf__max_depth': 1000000.0, 'clf__max_features': 0.5, 'clf__min_samples_leaf': 5, 'clf__min_samples_split': 0.0001, 'clf__n_estimators': 75}\n",
      "\n",
      "Fitting 3 folds for each of 1 candidates, totalling 3 fits\n"
     ]
    },
    {
     "name": "stderr",
     "output_type": "stream",
     "text": [
      "[Parallel(n_jobs=-1)]: Using backend LokyBackend with 4 concurrent workers.\n",
      "[Parallel(n_jobs=-1)]: Done   3 out of   3 | elapsed:   23.4s finished\n"
     ]
    },
    {
     "name": "stdout",
     "output_type": "stream",
     "text": [
      "Model #21\n",
      "Best Score: 0.6352\n",
      "Best params: {'clf__criterion': 'gini', 'clf__max_depth': 1000000.0, 'clf__max_features': 0.5, 'clf__min_samples_leaf': 5, 'clf__min_samples_split': 0.0001, 'clf__n_estimators': 75}\n",
      "\n",
      "Fitting 3 folds for each of 1 candidates, totalling 3 fits\n"
     ]
    },
    {
     "name": "stderr",
     "output_type": "stream",
     "text": [
      "[Parallel(n_jobs=-1)]: Using backend LokyBackend with 4 concurrent workers.\n",
      "[Parallel(n_jobs=-1)]: Done   3 out of   3 | elapsed:   37.0s finished\n"
     ]
    },
    {
     "name": "stdout",
     "output_type": "stream",
     "text": [
      "Model #22\n",
      "Best Score: 0.6352\n",
      "Best params: {'clf__criterion': 'gini', 'clf__max_depth': 1000000.0, 'clf__max_features': 0.5, 'clf__min_samples_leaf': 5, 'clf__min_samples_split': 0.0001, 'clf__n_estimators': 75}\n",
      "\n",
      "Fitting 3 folds for each of 1 candidates, totalling 3 fits\n"
     ]
    },
    {
     "name": "stderr",
     "output_type": "stream",
     "text": [
      "[Parallel(n_jobs=-1)]: Using backend LokyBackend with 4 concurrent workers.\n",
      "[Parallel(n_jobs=-1)]: Done   3 out of   3 | elapsed:   40.0s finished\n"
     ]
    },
    {
     "name": "stdout",
     "output_type": "stream",
     "text": [
      "Model #23\n",
      "Best Score: 0.6352\n",
      "Best params: {'clf__criterion': 'gini', 'clf__max_depth': 1000000.0, 'clf__max_features': 0.5, 'clf__min_samples_leaf': 5, 'clf__min_samples_split': 0.0001, 'clf__n_estimators': 75}\n",
      "\n",
      "Fitting 3 folds for each of 1 candidates, totalling 3 fits\n"
     ]
    },
    {
     "name": "stderr",
     "output_type": "stream",
     "text": [
      "[Parallel(n_jobs=-1)]: Using backend LokyBackend with 4 concurrent workers.\n",
      "[Parallel(n_jobs=-1)]: Done   3 out of   3 | elapsed:   12.9s finished\n"
     ]
    },
    {
     "name": "stdout",
     "output_type": "stream",
     "text": [
      "Model #24\n",
      "Best Score: 0.6352\n",
      "Best params: {'clf__criterion': 'gini', 'clf__max_depth': 1000000.0, 'clf__max_features': 0.5, 'clf__min_samples_leaf': 5, 'clf__min_samples_split': 0.0001, 'clf__n_estimators': 75}\n",
      "\n",
      "Fitting 3 folds for each of 1 candidates, totalling 3 fits\n"
     ]
    },
    {
     "name": "stderr",
     "output_type": "stream",
     "text": [
      "[Parallel(n_jobs=-1)]: Using backend LokyBackend with 4 concurrent workers.\n",
      "[Parallel(n_jobs=-1)]: Done   3 out of   3 | elapsed:   23.6s finished\n"
     ]
    },
    {
     "name": "stdout",
     "output_type": "stream",
     "text": [
      "Model #25\n",
      "Best Score: 0.6352\n",
      "Best params: {'clf__criterion': 'gini', 'clf__max_depth': 1000000.0, 'clf__max_features': 0.5, 'clf__min_samples_leaf': 5, 'clf__min_samples_split': 0.0001, 'clf__n_estimators': 75}\n",
      "\n",
      "Fitting 3 folds for each of 1 candidates, totalling 3 fits\n"
     ]
    },
    {
     "name": "stderr",
     "output_type": "stream",
     "text": [
      "[Parallel(n_jobs=-1)]: Using backend LokyBackend with 4 concurrent workers.\n",
      "[Parallel(n_jobs=-1)]: Done   3 out of   3 | elapsed:   10.5s finished\n"
     ]
    },
    {
     "name": "stdout",
     "output_type": "stream",
     "text": [
      "Model #26\n",
      "Best Score: 0.6352\n",
      "Best params: {'clf__criterion': 'gini', 'clf__max_depth': 1000000.0, 'clf__max_features': 0.5, 'clf__min_samples_leaf': 5, 'clf__min_samples_split': 0.0001, 'clf__n_estimators': 75}\n",
      "\n",
      "Fitting 3 folds for each of 1 candidates, totalling 3 fits\n"
     ]
    },
    {
     "name": "stderr",
     "output_type": "stream",
     "text": [
      "[Parallel(n_jobs=-1)]: Using backend LokyBackend with 4 concurrent workers.\n",
      "[Parallel(n_jobs=-1)]: Done   3 out of   3 | elapsed:  1.8min finished\n"
     ]
    },
    {
     "name": "stdout",
     "output_type": "stream",
     "text": [
      "Model #27\n",
      "Best Score: 0.6352\n",
      "Best params: {'clf__criterion': 'gini', 'clf__max_depth': 1000000.0, 'clf__max_features': 0.5, 'clf__min_samples_leaf': 5, 'clf__min_samples_split': 0.0001, 'clf__n_estimators': 75}\n",
      "\n",
      "Fitting 3 folds for each of 1 candidates, totalling 3 fits\n"
     ]
    },
    {
     "name": "stderr",
     "output_type": "stream",
     "text": [
      "[Parallel(n_jobs=-1)]: Using backend LokyBackend with 4 concurrent workers.\n",
      "[Parallel(n_jobs=-1)]: Done   3 out of   3 | elapsed:   34.9s finished\n"
     ]
    },
    {
     "name": "stdout",
     "output_type": "stream",
     "text": [
      "Model #28\n",
      "Best Score: 0.6352\n",
      "Best params: {'clf__criterion': 'gini', 'clf__max_depth': 1000000.0, 'clf__max_features': 0.5, 'clf__min_samples_leaf': 5, 'clf__min_samples_split': 0.0001, 'clf__n_estimators': 75}\n",
      "\n",
      "Fitting 3 folds for each of 1 candidates, totalling 3 fits\n"
     ]
    },
    {
     "name": "stderr",
     "output_type": "stream",
     "text": [
      "[Parallel(n_jobs=-1)]: Using backend LokyBackend with 4 concurrent workers.\n",
      "[Parallel(n_jobs=-1)]: Done   3 out of   3 | elapsed:   32.7s finished\n"
     ]
    },
    {
     "name": "stdout",
     "output_type": "stream",
     "text": [
      "Model #29\n",
      "Best Score: 0.6352\n",
      "Best params: {'clf__criterion': 'gini', 'clf__max_depth': 1000000.0, 'clf__max_features': 0.5, 'clf__min_samples_leaf': 5, 'clf__min_samples_split': 0.0001, 'clf__n_estimators': 75}\n",
      "\n",
      "Fitting 3 folds for each of 1 candidates, totalling 3 fits\n"
     ]
    },
    {
     "name": "stderr",
     "output_type": "stream",
     "text": [
      "[Parallel(n_jobs=-1)]: Using backend LokyBackend with 4 concurrent workers.\n",
      "[Parallel(n_jobs=-1)]: Done   3 out of   3 | elapsed:   59.9s finished\n"
     ]
    },
    {
     "name": "stdout",
     "output_type": "stream",
     "text": [
      "Model #30\n",
      "Best Score: 0.6352\n",
      "Best params: {'clf__criterion': 'gini', 'clf__max_depth': 1000000.0, 'clf__max_features': 0.5, 'clf__min_samples_leaf': 5, 'clf__min_samples_split': 0.0001, 'clf__n_estimators': 75}\n",
      "\n",
      "Fitting 3 folds for each of 1 candidates, totalling 3 fits\n"
     ]
    },
    {
     "name": "stderr",
     "output_type": "stream",
     "text": [
      "[Parallel(n_jobs=-1)]: Using backend LokyBackend with 4 concurrent workers.\n",
      "[Parallel(n_jobs=-1)]: Done   3 out of   3 | elapsed:  2.1min finished\n"
     ]
    },
    {
     "name": "stdout",
     "output_type": "stream",
     "text": [
      "Model #31\n",
      "Best Score: 0.6352\n",
      "Best params: {'clf__criterion': 'gini', 'clf__max_depth': 1000000.0, 'clf__max_features': 0.5, 'clf__min_samples_leaf': 5, 'clf__min_samples_split': 0.0001, 'clf__n_estimators': 75}\n",
      "\n",
      "Fitting 3 folds for each of 1 candidates, totalling 3 fits\n"
     ]
    },
    {
     "name": "stderr",
     "output_type": "stream",
     "text": [
      "[Parallel(n_jobs=-1)]: Using backend LokyBackend with 4 concurrent workers.\n",
      "[Parallel(n_jobs=-1)]: Done   3 out of   3 | elapsed:  2.1min finished\n"
     ]
    },
    {
     "name": "stdout",
     "output_type": "stream",
     "text": [
      "Model #32\n",
      "Best Score: 0.6352\n",
      "Best params: {'clf__criterion': 'gini', 'clf__max_depth': 1000000.0, 'clf__max_features': 0.5, 'clf__min_samples_leaf': 5, 'clf__min_samples_split': 0.0001, 'clf__n_estimators': 75}\n",
      "\n",
      "Fitting 3 folds for each of 1 candidates, totalling 3 fits\n"
     ]
    },
    {
     "name": "stderr",
     "output_type": "stream",
     "text": [
      "[Parallel(n_jobs=-1)]: Using backend LokyBackend with 4 concurrent workers.\n",
      "[Parallel(n_jobs=-1)]: Done   3 out of   3 | elapsed:   27.9s finished\n"
     ]
    },
    {
     "name": "stdout",
     "output_type": "stream",
     "text": [
      "Model #33\n",
      "Best Score: 0.6352\n",
      "Best params: {'clf__criterion': 'gini', 'clf__max_depth': 1000000.0, 'clf__max_features': 0.5, 'clf__min_samples_leaf': 5, 'clf__min_samples_split': 0.0001, 'clf__n_estimators': 75}\n",
      "\n",
      "Fitting 3 folds for each of 1 candidates, totalling 3 fits\n"
     ]
    },
    {
     "name": "stderr",
     "output_type": "stream",
     "text": [
      "[Parallel(n_jobs=-1)]: Using backend LokyBackend with 4 concurrent workers.\n",
      "[Parallel(n_jobs=-1)]: Done   3 out of   3 | elapsed:   59.0s finished\n"
     ]
    },
    {
     "name": "stdout",
     "output_type": "stream",
     "text": [
      "Model #34\n",
      "Best Score: 0.6352\n",
      "Best params: {'clf__criterion': 'gini', 'clf__max_depth': 1000000.0, 'clf__max_features': 0.5, 'clf__min_samples_leaf': 5, 'clf__min_samples_split': 0.0001, 'clf__n_estimators': 75}\n",
      "\n",
      "Fitting 3 folds for each of 1 candidates, totalling 3 fits\n"
     ]
    },
    {
     "name": "stderr",
     "output_type": "stream",
     "text": [
      "[Parallel(n_jobs=-1)]: Using backend LokyBackend with 4 concurrent workers.\n",
      "[Parallel(n_jobs=-1)]: Done   3 out of   3 | elapsed:   14.1s finished\n"
     ]
    },
    {
     "name": "stdout",
     "output_type": "stream",
     "text": [
      "Model #35\n",
      "Best Score: 0.6352\n",
      "Best params: {'clf__criterion': 'gini', 'clf__max_depth': 1000000.0, 'clf__max_features': 0.5, 'clf__min_samples_leaf': 5, 'clf__min_samples_split': 0.0001, 'clf__n_estimators': 75}\n",
      "\n",
      "Fitting 3 folds for each of 1 candidates, totalling 3 fits\n"
     ]
    },
    {
     "name": "stderr",
     "output_type": "stream",
     "text": [
      "[Parallel(n_jobs=-1)]: Using backend LokyBackend with 4 concurrent workers.\n",
      "[Parallel(n_jobs=-1)]: Done   3 out of   3 | elapsed:   47.2s finished\n"
     ]
    },
    {
     "name": "stdout",
     "output_type": "stream",
     "text": [
      "Model #36\n",
      "Best Score: 0.6352\n",
      "Best params: {'clf__criterion': 'gini', 'clf__max_depth': 1000000.0, 'clf__max_features': 0.5, 'clf__min_samples_leaf': 5, 'clf__min_samples_split': 0.0001, 'clf__n_estimators': 75}\n",
      "\n"
     ]
    },
    {
     "name": "stderr",
     "output_type": "stream",
     "text": [
      "/home/jupyter-khickey550/.local/lib/python3.6/site-packages/skopt/optimizer/optimizer.py:399: UserWarning: The objective has been evaluated at this point before.\n",
      "  warnings.warn(\"The objective has been evaluated \"\n"
     ]
    },
    {
     "name": "stdout",
     "output_type": "stream",
     "text": [
      "Fitting 3 folds for each of 1 candidates, totalling 3 fits\n"
     ]
    },
    {
     "name": "stderr",
     "output_type": "stream",
     "text": [
      "[Parallel(n_jobs=-1)]: Using backend LokyBackend with 4 concurrent workers.\n",
      "[Parallel(n_jobs=-1)]: Done   3 out of   3 | elapsed:  2.1min finished\n"
     ]
    },
    {
     "name": "stdout",
     "output_type": "stream",
     "text": [
      "Model #37\n",
      "Best Score: 0.6352\n",
      "Best params: {'clf__criterion': 'gini', 'clf__max_depth': 1000000.0, 'clf__max_features': 0.5, 'clf__min_samples_leaf': 5, 'clf__min_samples_split': 0.0001, 'clf__n_estimators': 75}\n",
      "\n",
      "Fitting 3 folds for each of 1 candidates, totalling 3 fits\n"
     ]
    },
    {
     "name": "stderr",
     "output_type": "stream",
     "text": [
      "[Parallel(n_jobs=-1)]: Using backend LokyBackend with 4 concurrent workers.\n",
      "[Parallel(n_jobs=-1)]: Done   3 out of   3 | elapsed:   37.2s finished\n"
     ]
    },
    {
     "name": "stdout",
     "output_type": "stream",
     "text": [
      "Model #38\n",
      "Best Score: 0.6352\n",
      "Best params: {'clf__criterion': 'gini', 'clf__max_depth': 1000000.0, 'clf__max_features': 0.5, 'clf__min_samples_leaf': 5, 'clf__min_samples_split': 0.0001, 'clf__n_estimators': 75}\n",
      "\n",
      "Fitting 3 folds for each of 1 candidates, totalling 3 fits\n"
     ]
    },
    {
     "name": "stderr",
     "output_type": "stream",
     "text": [
      "[Parallel(n_jobs=-1)]: Using backend LokyBackend with 4 concurrent workers.\n",
      "[Parallel(n_jobs=-1)]: Done   3 out of   3 | elapsed:   11.9s finished\n"
     ]
    },
    {
     "name": "stdout",
     "output_type": "stream",
     "text": [
      "Model #39\n",
      "Best Score: 0.6352\n",
      "Best params: {'clf__criterion': 'gini', 'clf__max_depth': 1000000.0, 'clf__max_features': 0.5, 'clf__min_samples_leaf': 5, 'clf__min_samples_split': 0.0001, 'clf__n_estimators': 75}\n",
      "\n",
      "Fitting 3 folds for each of 1 candidates, totalling 3 fits\n"
     ]
    },
    {
     "name": "stderr",
     "output_type": "stream",
     "text": [
      "[Parallel(n_jobs=-1)]: Using backend LokyBackend with 4 concurrent workers.\n",
      "[Parallel(n_jobs=-1)]: Done   3 out of   3 | elapsed:  3.8min finished\n"
     ]
    },
    {
     "name": "stdout",
     "output_type": "stream",
     "text": [
      "Model #40\n",
      "Best Score: 0.6389\n",
      "Best params: {'clf__criterion': 'entropy', 'clf__max_depth': 1570.8539388061872, 'clf__max_features': 0.5, 'clf__min_samples_leaf': 5, 'clf__min_samples_split': 0.0001, 'clf__n_estimators': 75}\n",
      "\n",
      "Fitting 3 folds for each of 1 candidates, totalling 3 fits\n"
     ]
    },
    {
     "name": "stderr",
     "output_type": "stream",
     "text": [
      "[Parallel(n_jobs=-1)]: Using backend LokyBackend with 4 concurrent workers.\n",
      "[Parallel(n_jobs=-1)]: Done   3 out of   3 | elapsed:  3.8min finished\n"
     ]
    },
    {
     "name": "stdout",
     "output_type": "stream",
     "text": [
      "Model #41\n",
      "Best Score: 0.6389\n",
      "Best params: {'clf__criterion': 'entropy', 'clf__max_depth': 1570.8539388061872, 'clf__max_features': 0.5, 'clf__min_samples_leaf': 5, 'clf__min_samples_split': 0.0001, 'clf__n_estimators': 75}\n",
      "\n",
      "Fitting 3 folds for each of 1 candidates, totalling 3 fits\n"
     ]
    },
    {
     "name": "stderr",
     "output_type": "stream",
     "text": [
      "[Parallel(n_jobs=-1)]: Using backend LokyBackend with 4 concurrent workers.\n",
      "[Parallel(n_jobs=-1)]: Done   3 out of   3 | elapsed:  2.9min finished\n"
     ]
    },
    {
     "name": "stdout",
     "output_type": "stream",
     "text": [
      "Model #42\n",
      "Best Score: 0.6389\n",
      "Best params: {'clf__criterion': 'entropy', 'clf__max_depth': 1570.8539388061872, 'clf__max_features': 0.5, 'clf__min_samples_leaf': 5, 'clf__min_samples_split': 0.0001, 'clf__n_estimators': 75}\n",
      "\n",
      "Fitting 3 folds for each of 1 candidates, totalling 3 fits\n"
     ]
    },
    {
     "name": "stderr",
     "output_type": "stream",
     "text": [
      "[Parallel(n_jobs=-1)]: Using backend LokyBackend with 4 concurrent workers.\n",
      "[Parallel(n_jobs=-1)]: Done   3 out of   3 | elapsed:  2.1min finished\n"
     ]
    },
    {
     "name": "stdout",
     "output_type": "stream",
     "text": [
      "Model #43\n",
      "Best Score: 0.6389\n",
      "Best params: {'clf__criterion': 'entropy', 'clf__max_depth': 1570.8539388061872, 'clf__max_features': 0.5, 'clf__min_samples_leaf': 5, 'clf__min_samples_split': 0.0001, 'clf__n_estimators': 75}\n",
      "\n",
      "Fitting 3 folds for each of 1 candidates, totalling 3 fits\n"
     ]
    },
    {
     "name": "stderr",
     "output_type": "stream",
     "text": [
      "[Parallel(n_jobs=-1)]: Using backend LokyBackend with 4 concurrent workers.\n",
      "[Parallel(n_jobs=-1)]: Done   3 out of   3 | elapsed:   37.6s finished\n"
     ]
    },
    {
     "name": "stdout",
     "output_type": "stream",
     "text": [
      "Model #44\n",
      "Best Score: 0.6389\n",
      "Best params: {'clf__criterion': 'entropy', 'clf__max_depth': 1570.8539388061872, 'clf__max_features': 0.5, 'clf__min_samples_leaf': 5, 'clf__min_samples_split': 0.0001, 'clf__n_estimators': 75}\n",
      "\n",
      "Fitting 3 folds for each of 1 candidates, totalling 3 fits\n"
     ]
    },
    {
     "name": "stderr",
     "output_type": "stream",
     "text": [
      "[Parallel(n_jobs=-1)]: Using backend LokyBackend with 4 concurrent workers.\n",
      "[Parallel(n_jobs=-1)]: Done   3 out of   3 | elapsed:  3.8min finished\n"
     ]
    },
    {
     "name": "stdout",
     "output_type": "stream",
     "text": [
      "Model #45\n",
      "Best Score: 0.6389\n",
      "Best params: {'clf__criterion': 'entropy', 'clf__max_depth': 1570.8539388061872, 'clf__max_features': 0.5, 'clf__min_samples_leaf': 5, 'clf__min_samples_split': 0.0001, 'clf__n_estimators': 75}\n",
      "\n",
      "Fitting 3 folds for each of 1 candidates, totalling 3 fits\n"
     ]
    },
    {
     "name": "stderr",
     "output_type": "stream",
     "text": [
      "[Parallel(n_jobs=-1)]: Using backend LokyBackend with 4 concurrent workers.\n",
      "[Parallel(n_jobs=-1)]: Done   3 out of   3 | elapsed:  3.8min finished\n"
     ]
    },
    {
     "name": "stdout",
     "output_type": "stream",
     "text": [
      "Model #46\n",
      "Best Score: 0.6389\n",
      "Best params: {'clf__criterion': 'entropy', 'clf__max_depth': 1570.8539388061872, 'clf__max_features': 0.5, 'clf__min_samples_leaf': 5, 'clf__min_samples_split': 0.0001, 'clf__n_estimators': 75}\n",
      "\n",
      "Fitting 3 folds for each of 1 candidates, totalling 3 fits\n"
     ]
    },
    {
     "name": "stderr",
     "output_type": "stream",
     "text": [
      "[Parallel(n_jobs=-1)]: Using backend LokyBackend with 4 concurrent workers.\n",
      "[Parallel(n_jobs=-1)]: Done   3 out of   3 | elapsed:  3.8min finished\n"
     ]
    },
    {
     "name": "stdout",
     "output_type": "stream",
     "text": [
      "Model #47\n",
      "Best Score: 0.6391\n",
      "Best params: {'clf__criterion': 'entropy', 'clf__max_depth': 602.4943486056787, 'clf__max_features': 0.5, 'clf__min_samples_leaf': 5, 'clf__min_samples_split': 0.0001, 'clf__n_estimators': 75}\n",
      "\n",
      "Fitting 3 folds for each of 1 candidates, totalling 3 fits\n"
     ]
    },
    {
     "name": "stderr",
     "output_type": "stream",
     "text": [
      "[Parallel(n_jobs=-1)]: Using backend LokyBackend with 4 concurrent workers.\n",
      "[Parallel(n_jobs=-1)]: Done   3 out of   3 | elapsed:  3.7min finished\n"
     ]
    },
    {
     "name": "stdout",
     "output_type": "stream",
     "text": [
      "Model #48\n",
      "Best Score: 0.6391\n",
      "Best params: {'clf__criterion': 'entropy', 'clf__max_depth': 602.4943486056787, 'clf__max_features': 0.5, 'clf__min_samples_leaf': 5, 'clf__min_samples_split': 0.0001, 'clf__n_estimators': 75}\n",
      "\n",
      "Fitting 3 folds for each of 1 candidates, totalling 3 fits\n"
     ]
    },
    {
     "name": "stderr",
     "output_type": "stream",
     "text": [
      "[Parallel(n_jobs=-1)]: Using backend LokyBackend with 4 concurrent workers.\n",
      "[Parallel(n_jobs=-1)]: Done   3 out of   3 | elapsed:  2.9min finished\n"
     ]
    },
    {
     "name": "stdout",
     "output_type": "stream",
     "text": [
      "Model #49\n",
      "Best Score: 0.6391\n",
      "Best params: {'clf__criterion': 'entropy', 'clf__max_depth': 602.4943486056787, 'clf__max_features': 0.5, 'clf__min_samples_leaf': 5, 'clf__min_samples_split': 0.0001, 'clf__n_estimators': 75}\n",
      "\n",
      "Fitting 3 folds for each of 1 candidates, totalling 3 fits\n"
     ]
    },
    {
     "name": "stderr",
     "output_type": "stream",
     "text": [
      "[Parallel(n_jobs=-1)]: Using backend LokyBackend with 4 concurrent workers.\n",
      "[Parallel(n_jobs=-1)]: Done   3 out of   3 | elapsed:  1.5min finished\n"
     ]
    },
    {
     "name": "stdout",
     "output_type": "stream",
     "text": [
      "Model #50\n",
      "Best Score: 0.6391\n",
      "Best params: {'clf__criterion': 'entropy', 'clf__max_depth': 602.4943486056787, 'clf__max_features': 0.5, 'clf__min_samples_leaf': 5, 'clf__min_samples_split': 0.0001, 'clf__n_estimators': 75}\n",
      "\n"
     ]
    }
   ],
   "source": [
    "results = bayes_cv_tuner.fit(X_train.values, y_train.values, callback = status_print)"
   ]
  },
  {
   "cell_type": "markdown",
   "metadata": {},
   "source": [
    "## Evaluate on Testing Data"
   ]
  },
  {
   "cell_type": "code",
   "execution_count": 38,
   "metadata": {},
   "outputs": [
    {
     "name": "stdout",
     "output_type": "stream",
     "text": [
      "Test Accuracy: 0.6318915980742351\n",
      "Test AUC: 0.5121541251384275\n",
      "              precision    recall  f1-score   support\n",
      "\n",
      "           0       0.69      0.85      0.76     17500\n",
      "           1       0.35      0.18      0.24      8256\n",
      "\n",
      "   micro avg       0.63      0.63      0.63     25756\n",
      "   macro avg       0.52      0.51      0.50     25756\n",
      "weighted avg       0.58      0.63      0.59     25756\n",
      "\n"
     ]
    }
   ],
   "source": [
    "from sklearn.metrics import classification_report, accuracy_score, roc_auc_score\n",
    "\n",
    "best_forest_pipe = results.best_estimator_\n",
    "\n",
    "def eval_test_set(pipeline, x_test, y_test):\n",
    "    predictions = pipeline.predict(x_test)\n",
    "    print(f\"Test Accuracy: {accuracy_score(y_test, predictions)}\")\n",
    "    print(f\"Test AUC: {roc_auc_score(y_test, predictions)}\")\n",
    "    print(classification_report(y_test, predictions))\n",
    "\n",
    "eval_test_set(best_forest_pipe, X_test, y_test)"
   ]
  },
  {
   "cell_type": "code",
   "execution_count": 33,
   "metadata": {},
   "outputs": [],
   "source": [
    "\n"
   ]
  },
  {
   "cell_type": "markdown",
   "metadata": {},
   "source": [
    "## Interpretability\n",
    "\n",
    "Implement LIME"
   ]
  }
 ],
 "metadata": {
  "kernelspec": {
   "display_name": "Python 3",
   "language": "python",
   "name": "python3"
  },
  "language_info": {
   "codemirror_mode": {
    "name": "ipython",
    "version": 3
   },
   "file_extension": ".py",
   "mimetype": "text/x-python",
   "name": "python",
   "nbconvert_exporter": "python",
   "pygments_lexer": "ipython3",
   "version": "3.6.7"
  }
 },
 "nbformat": 4,
 "nbformat_minor": 2
}
