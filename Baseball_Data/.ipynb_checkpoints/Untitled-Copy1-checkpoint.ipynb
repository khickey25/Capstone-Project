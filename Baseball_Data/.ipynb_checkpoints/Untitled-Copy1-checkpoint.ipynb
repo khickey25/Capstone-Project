{
 "cells": [
  {
   "cell_type": "markdown",
   "metadata": {},
   "source": [
    "## Restart"
   ]
  },
  {
   "cell_type": "code",
   "execution_count": 7,
   "metadata": {},
   "outputs": [],
   "source": [
    "#start with all dependencies\n",
    "\n",
    "import numpy as np\n",
    "import pandas as pd\n",
    "import sklearn\n",
    "import sklearn.metrics as metrics\n",
    "from data_import import *\n",
    "from Evaluation import *\n",
    "from sklearn.model_selection import cross_val_score\n",
    "from sklearn.preprocessing import Imputer\n",
    "from imblearn.under_sampling import RandomUnderSampler\n",
    "from sklearn.linear_model import LogisticRegression\n",
    "from sklearn.tree import DecisionTreeRegressor\n",
    "import matplotlib.pyplot as plt\n",
    "%matplotlib inline\n",
    "import imblearn\n",
    "import seaborn as sns\n",
    "sns.set()"
   ]
  },
  {
   "cell_type": "code",
   "execution_count": 2,
   "metadata": {},
   "outputs": [
    {
     "name": "stderr",
     "output_type": "stream",
     "text": [
      "/home/jupyter-khickey550/.local/lib/python3.6/site-packages/sklearn/utils/deprecation.py:66: DeprecationWarning: Class Imputer is deprecated; Imputer was deprecated in version 0.20 and will be removed in 0.22. Import impute.SimpleImputer from sklearn instead.\n",
      "  warnings.warn(msg, category=DeprecationWarning)\n"
     ]
    },
    {
     "data": {
      "text/html": [
       "<div>\n",
       "<style scoped>\n",
       "    .dataframe tbody tr th:only-of-type {\n",
       "        vertical-align: middle;\n",
       "    }\n",
       "\n",
       "    .dataframe tbody tr th {\n",
       "        vertical-align: top;\n",
       "    }\n",
       "\n",
       "    .dataframe thead th {\n",
       "        text-align: right;\n",
       "    }\n",
       "</style>\n",
       "<table border=\"1\" class=\"dataframe\">\n",
       "  <thead>\n",
       "    <tr style=\"text-align: right;\">\n",
       "      <th></th>\n",
       "      <th>release_speed</th>\n",
       "      <th>release_spin_rate</th>\n",
       "      <th>release_pos_x</th>\n",
       "      <th>release_pos_y</th>\n",
       "      <th>release_pos_z</th>\n",
       "      <th>pfx_x</th>\n",
       "      <th>pfx_z</th>\n",
       "      <th>vx0</th>\n",
       "      <th>vy0</th>\n",
       "      <th>vz0</th>\n",
       "      <th>...</th>\n",
       "      <th>pitch_name_Changeup</th>\n",
       "      <th>pitch_name_Curveball</th>\n",
       "      <th>pitch_name_Cutter</th>\n",
       "      <th>pitch_name_Sinker</th>\n",
       "      <th>pitch_name_Slider</th>\n",
       "      <th>pitch_name_Split Finger</th>\n",
       "      <th>pitch_name_nan</th>\n",
       "      <th>p_throws_L</th>\n",
       "      <th>p_throws_R</th>\n",
       "      <th>p_throws_nan</th>\n",
       "    </tr>\n",
       "  </thead>\n",
       "  <tbody>\n",
       "    <tr>\n",
       "      <th>0</th>\n",
       "      <td>1.073523</td>\n",
       "      <td>0.225683</td>\n",
       "      <td>2.080234</td>\n",
       "      <td>-0.016458</td>\n",
       "      <td>-1.073886</td>\n",
       "      <td>2.119752</td>\n",
       "      <td>-0.279650</td>\n",
       "      <td>-1.984984</td>\n",
       "      <td>-1.064687</td>\n",
       "      <td>1.276245</td>\n",
       "      <td>...</td>\n",
       "      <td>0</td>\n",
       "      <td>0</td>\n",
       "      <td>0</td>\n",
       "      <td>0</td>\n",
       "      <td>0</td>\n",
       "      <td>0</td>\n",
       "      <td>0</td>\n",
       "      <td>1</td>\n",
       "      <td>0</td>\n",
       "      <td>0</td>\n",
       "    </tr>\n",
       "    <tr>\n",
       "      <th>1</th>\n",
       "      <td>1.340953</td>\n",
       "      <td>0.258210</td>\n",
       "      <td>2.033107</td>\n",
       "      <td>-0.393337</td>\n",
       "      <td>-0.823324</td>\n",
       "      <td>1.228740</td>\n",
       "      <td>0.483185</td>\n",
       "      <td>-1.856961</td>\n",
       "      <td>-1.349626</td>\n",
       "      <td>0.535466</td>\n",
       "      <td>...</td>\n",
       "      <td>0</td>\n",
       "      <td>0</td>\n",
       "      <td>0</td>\n",
       "      <td>0</td>\n",
       "      <td>0</td>\n",
       "      <td>0</td>\n",
       "      <td>0</td>\n",
       "      <td>1</td>\n",
       "      <td>0</td>\n",
       "      <td>0</td>\n",
       "    </tr>\n",
       "    <tr>\n",
       "      <th>2</th>\n",
       "      <td>-1.316632</td>\n",
       "      <td>0.898992</td>\n",
       "      <td>2.124057</td>\n",
       "      <td>1.138366</td>\n",
       "      <td>-1.320666</td>\n",
       "      <td>-0.982587</td>\n",
       "      <td>-1.009283</td>\n",
       "      <td>-1.006819</td>\n",
       "      <td>1.330334</td>\n",
       "      <td>1.589316</td>\n",
       "      <td>...</td>\n",
       "      <td>0</td>\n",
       "      <td>0</td>\n",
       "      <td>0</td>\n",
       "      <td>0</td>\n",
       "      <td>1</td>\n",
       "      <td>0</td>\n",
       "      <td>0</td>\n",
       "      <td>1</td>\n",
       "      <td>0</td>\n",
       "      <td>0</td>\n",
       "    </tr>\n",
       "    <tr>\n",
       "      <th>3</th>\n",
       "      <td>1.257381</td>\n",
       "      <td>0.274474</td>\n",
       "      <td>2.013077</td>\n",
       "      <td>-0.965694</td>\n",
       "      <td>-1.152964</td>\n",
       "      <td>1.662236</td>\n",
       "      <td>0.401776</td>\n",
       "      <td>-2.347235</td>\n",
       "      <td>-1.209132</td>\n",
       "      <td>-0.252616</td>\n",
       "      <td>...</td>\n",
       "      <td>0</td>\n",
       "      <td>0</td>\n",
       "      <td>0</td>\n",
       "      <td>0</td>\n",
       "      <td>0</td>\n",
       "      <td>0</td>\n",
       "      <td>0</td>\n",
       "      <td>1</td>\n",
       "      <td>0</td>\n",
       "      <td>0</td>\n",
       "    </tr>\n",
       "    <tr>\n",
       "      <th>4</th>\n",
       "      <td>1.307524</td>\n",
       "      <td>0.625765</td>\n",
       "      <td>2.099451</td>\n",
       "      <td>-0.293616</td>\n",
       "      <td>-1.431626</td>\n",
       "      <td>1.619067</td>\n",
       "      <td>0.139219</td>\n",
       "      <td>-2.665304</td>\n",
       "      <td>-1.265463</td>\n",
       "      <td>0.268337</td>\n",
       "      <td>...</td>\n",
       "      <td>0</td>\n",
       "      <td>0</td>\n",
       "      <td>0</td>\n",
       "      <td>0</td>\n",
       "      <td>0</td>\n",
       "      <td>0</td>\n",
       "      <td>0</td>\n",
       "      <td>1</td>\n",
       "      <td>0</td>\n",
       "      <td>0</td>\n",
       "    </tr>\n",
       "  </tbody>\n",
       "</table>\n",
       "<p>5 rows × 28 columns</p>\n",
       "</div>"
      ],
      "text/plain": [
       "   release_speed  release_spin_rate  release_pos_x  release_pos_y  \\\n",
       "0       1.073523           0.225683       2.080234      -0.016458   \n",
       "1       1.340953           0.258210       2.033107      -0.393337   \n",
       "2      -1.316632           0.898992       2.124057       1.138366   \n",
       "3       1.257381           0.274474       2.013077      -0.965694   \n",
       "4       1.307524           0.625765       2.099451      -0.293616   \n",
       "\n",
       "   release_pos_z     pfx_x     pfx_z       vx0       vy0       vz0  \\\n",
       "0      -1.073886  2.119752 -0.279650 -1.984984 -1.064687  1.276245   \n",
       "1      -0.823324  1.228740  0.483185 -1.856961 -1.349626  0.535466   \n",
       "2      -1.320666 -0.982587 -1.009283 -1.006819  1.330334  1.589316   \n",
       "3      -1.152964  1.662236  0.401776 -2.347235 -1.209132 -0.252616   \n",
       "4      -1.431626  1.619067  0.139219 -2.665304 -1.265463  0.268337   \n",
       "\n",
       "       ...       pitch_name_Changeup  pitch_name_Curveball  pitch_name_Cutter  \\\n",
       "0      ...                         0                     0                  0   \n",
       "1      ...                         0                     0                  0   \n",
       "2      ...                         0                     0                  0   \n",
       "3      ...                         0                     0                  0   \n",
       "4      ...                         0                     0                  0   \n",
       "\n",
       "   pitch_name_Sinker  pitch_name_Slider  pitch_name_Split Finger  \\\n",
       "0                  0                  0                        0   \n",
       "1                  0                  0                        0   \n",
       "2                  0                  1                        0   \n",
       "3                  0                  0                        0   \n",
       "4                  0                  0                        0   \n",
       "\n",
       "   pitch_name_nan  p_throws_L  p_throws_R  p_throws_nan  \n",
       "0               0           1           0             0  \n",
       "1               0           1           0             0  \n",
       "2               0           1           0             0  \n",
       "3               0           1           0             0  \n",
       "4               0           1           0             0  \n",
       "\n",
       "[5 rows x 28 columns]"
      ]
     },
     "execution_count": 2,
     "metadata": {},
     "output_type": "execute_result"
    }
   ],
   "source": [
    "#load in the preprocessed data\n",
    "data = preprocess_data('Statcast_data.csv')\n",
    "target = data['description']\n",
    "#filter out 'player_name'; will not use as a feature\n",
    "#and filter out the target\n",
    "data = data.iloc[:, :-2]\n",
    "data.head()"
   ]
  },
  {
   "cell_type": "markdown",
   "metadata": {},
   "source": [
    "## Trying PCA with random forest\n",
    "\n"
   ]
  },
  {
   "cell_type": "code",
   "execution_count": 3,
   "metadata": {},
   "outputs": [],
   "source": [
    "from sklearn.pipeline import Pipeline\n",
    "from sklearn.ensemble import RandomForestClassifier\n",
    "from sklearn.decomposition import PCA\n",
    "from sklearn.model_selection import cross_val_score, train_test_split"
   ]
  },
  {
   "cell_type": "code",
   "execution_count": 8,
   "metadata": {},
   "outputs": [
    {
     "name": "stderr",
     "output_type": "stream",
     "text": [
      "/home/jupyter-khickey550/.local/lib/python3.6/site-packages/sklearn/ensemble/forest.py:245: FutureWarning: The default value of n_estimators will change from 10 in version 0.20 to 100 in 0.22.\n",
      "  \"10 in version 0.20 to 100 in 0.22.\", FutureWarning)\n",
      "/home/jupyter-khickey550/.local/lib/python3.6/site-packages/sklearn/ensemble/forest.py:245: FutureWarning: The default value of n_estimators will change from 10 in version 0.20 to 100 in 0.22.\n",
      "  \"10 in version 0.20 to 100 in 0.22.\", FutureWarning)\n",
      "/home/jupyter-khickey550/.local/lib/python3.6/site-packages/sklearn/ensemble/forest.py:245: FutureWarning: The default value of n_estimators will change from 10 in version 0.20 to 100 in 0.22.\n",
      "  \"10 in version 0.20 to 100 in 0.22.\", FutureWarning)\n"
     ]
    },
    {
     "name": "stdout",
     "output_type": "stream",
     "text": [
      "Mean train_accuracy Value: 0.9661686436924981\n",
      "train_accuracy scores: [0.96561418 0.9671678  0.96572396]\n",
      "\n",
      "Mean test_accuracy Value: 0.6230974398182535\n",
      "test_accuracy scores: [0.62441373 0.62353234 0.62134626]\n",
      "\n",
      "Mean train_f1 Value: 0.9444173924821975\n",
      "train_f1 scores: [0.94341937 0.94618126 0.94365154]\n",
      "\n",
      "Mean test_f1 Value: 0.2190776645674701\n",
      "test_f1 scores: [0.22117738 0.21937395 0.21668166]\n",
      "\n",
      "Mean train_roc_auc Value: 0.9975227628064264\n",
      "train_roc_auc scores: [0.9976094  0.9974675  0.99749139]\n",
      "\n",
      "Mean test_roc_auc Value: 0.502895878161277\n",
      "test_roc_auc scores: [0.50559109 0.5013166  0.50177994]\n",
      "\n",
      "dict_keys(['memory', 'steps', 'verbose', 'pca', 'forest', 'pca__copy', 'pca__iterated_power', 'pca__n_components', 'pca__random_state', 'pca__svd_solver', 'pca__tol', 'pca__whiten', 'forest__bootstrap', 'forest__class_weight', 'forest__criterion', 'forest__max_depth', 'forest__max_features', 'forest__max_leaf_nodes', 'forest__min_impurity_decrease', 'forest__min_impurity_split', 'forest__min_samples_leaf', 'forest__min_samples_split', 'forest__min_weight_fraction_leaf', 'forest__n_estimators', 'forest__n_jobs', 'forest__oob_score', 'forest__random_state', 'forest__verbose', 'forest__warm_start'])\n"
     ]
    },
    {
     "name": "stderr",
     "output_type": "stream",
     "text": [
      "/home/jupyter-khickey550/.local/lib/python3.6/site-packages/sklearn/ensemble/forest.py:245: FutureWarning: The default value of n_estimators will change from 10 in version 0.20 to 100 in 0.22.\n",
      "  \"10 in version 0.20 to 100 in 0.22.\", FutureWarning)\n",
      "/home/jupyter-khickey550/.local/lib/python3.6/site-packages/sklearn/ensemble/forest.py:245: FutureWarning: The default value of n_estimators will change from 10 in version 0.20 to 100 in 0.22.\n",
      "  \"10 in version 0.20 to 100 in 0.22.\", FutureWarning)\n",
      "/home/jupyter-khickey550/.local/lib/python3.6/site-packages/sklearn/ensemble/forest.py:245: FutureWarning: The default value of n_estimators will change from 10 in version 0.20 to 100 in 0.22.\n",
      "  \"10 in version 0.20 to 100 in 0.22.\", FutureWarning)\n"
     ]
    },
    {
     "name": "stdout",
     "output_type": "stream",
     "text": [
      "Mean train_accuracy Value: 0.972846907849681\n",
      "train_accuracy scores: [0.97300697 0.97263465 0.9728991 ]\n",
      "\n",
      "Mean test_accuracy Value: 0.6408751335858663\n",
      "test_accuracy scores: [0.63950924 0.64145493 0.64166123]\n",
      "\n",
      "Mean train_f1 Value: 0.9557073615222094\n",
      "train_f1 scores: [0.95595763 0.95535398 0.95581048]\n",
      "\n",
      "Mean test_f1 Value: 0.16584186143342974\n",
      "test_f1 scores: [0.16250541 0.16926952 0.16575065]\n",
      "\n",
      "Mean train_roc_auc Value: 0.9987043746002526\n",
      "train_roc_auc scores: [0.99875327 0.99877028 0.99858957]\n",
      "\n",
      "Mean test_roc_auc Value: 0.4981095734739303\n",
      "test_roc_auc scores: [0.49375405 0.50163747 0.4989372 ]\n",
      "\n",
      "dict_keys(['memory', 'steps', 'verbose', 'pca', 'forest', 'pca__copy', 'pca__iterated_power', 'pca__n_components', 'pca__random_state', 'pca__svd_solver', 'pca__tol', 'pca__whiten', 'forest__bootstrap', 'forest__class_weight', 'forest__criterion', 'forest__max_depth', 'forest__max_features', 'forest__max_leaf_nodes', 'forest__min_impurity_decrease', 'forest__min_impurity_split', 'forest__min_samples_leaf', 'forest__min_samples_split', 'forest__min_weight_fraction_leaf', 'forest__n_estimators', 'forest__n_jobs', 'forest__oob_score', 'forest__random_state', 'forest__verbose', 'forest__warm_start'])\n"
     ]
    },
    {
     "name": "stderr",
     "output_type": "stream",
     "text": [
      "/home/jupyter-khickey550/.local/lib/python3.6/site-packages/sklearn/ensemble/forest.py:245: FutureWarning: The default value of n_estimators will change from 10 in version 0.20 to 100 in 0.22.\n",
      "  \"10 in version 0.20 to 100 in 0.22.\", FutureWarning)\n",
      "/home/jupyter-khickey550/.local/lib/python3.6/site-packages/sklearn/ensemble/forest.py:245: FutureWarning: The default value of n_estimators will change from 10 in version 0.20 to 100 in 0.22.\n",
      "  \"10 in version 0.20 to 100 in 0.22.\", FutureWarning)\n",
      "/home/jupyter-khickey550/.local/lib/python3.6/site-packages/sklearn/ensemble/forest.py:245: FutureWarning: The default value of n_estimators will change from 10 in version 0.20 to 100 in 0.22.\n",
      "  \"10 in version 0.20 to 100 in 0.22.\", FutureWarning)\n"
     ]
    },
    {
     "name": "stdout",
     "output_type": "stream",
     "text": [
      "Mean train_accuracy Value: 0.9733490731005287\n",
      "train_accuracy scores: [0.97381459 0.97277443 0.9734582 ]\n",
      "\n",
      "Mean test_accuracy Value: 0.6448509891961597\n",
      "test_accuracy scores: [0.64671533 0.64288377 0.64495387]\n",
      "\n",
      "Mean train_f1 Value: 0.956558717139083\n",
      "train_f1 scores: [0.95734453 0.9555854  0.95674622]\n",
      "\n",
      "Mean test_f1 Value: 0.14163821504861968\n",
      "test_f1 scores: [0.1460961  0.13692666 0.14189189]\n",
      "\n",
      "Mean train_roc_auc Value: 0.998878240802216\n",
      "train_roc_auc scores: [0.99896936 0.99878846 0.9988769 ]\n",
      "\n",
      "Mean test_roc_auc Value: 0.4998780852627447\n",
      "test_roc_auc scores: [0.50148173 0.49898047 0.49917206]\n",
      "\n",
      "dict_keys(['memory', 'steps', 'verbose', 'pca', 'forest', 'pca__copy', 'pca__iterated_power', 'pca__n_components', 'pca__random_state', 'pca__svd_solver', 'pca__tol', 'pca__whiten', 'forest__bootstrap', 'forest__class_weight', 'forest__criterion', 'forest__max_depth', 'forest__max_features', 'forest__max_leaf_nodes', 'forest__min_impurity_decrease', 'forest__min_impurity_split', 'forest__min_samples_leaf', 'forest__min_samples_split', 'forest__min_weight_fraction_leaf', 'forest__n_estimators', 'forest__n_jobs', 'forest__oob_score', 'forest__random_state', 'forest__verbose', 'forest__warm_start'])\n"
     ]
    },
    {
     "name": "stderr",
     "output_type": "stream",
     "text": [
      "/home/jupyter-khickey550/.local/lib/python3.6/site-packages/sklearn/ensemble/forest.py:245: FutureWarning: The default value of n_estimators will change from 10 in version 0.20 to 100 in 0.22.\n",
      "  \"10 in version 0.20 to 100 in 0.22.\", FutureWarning)\n",
      "/home/jupyter-khickey550/.local/lib/python3.6/site-packages/sklearn/ensemble/forest.py:245: FutureWarning: The default value of n_estimators will change from 10 in version 0.20 to 100 in 0.22.\n",
      "  \"10 in version 0.20 to 100 in 0.22.\", FutureWarning)\n",
      "/home/jupyter-khickey550/.local/lib/python3.6/site-packages/sklearn/ensemble/forest.py:245: FutureWarning: The default value of n_estimators will change from 10 in version 0.20 to 100 in 0.22.\n",
      "  \"10 in version 0.20 to 100 in 0.22.\", FutureWarning)\n"
     ]
    },
    {
     "name": "stdout",
     "output_type": "stream",
     "text": [
      "Mean train_accuracy Value: 0.9747313139782546\n",
      "train_accuracy scores: [0.97468433 0.97435858 0.97515104]\n",
      "\n",
      "Mean test_accuracy Value: 0.6487854986879217\n",
      "test_accuracy scores: [0.6482373  0.64884761 0.64927158]\n",
      "\n",
      "Mean train_f1 Value: 0.9589100070868222\n",
      "train_f1 scores: [0.95882799 0.95827753 0.95962451]\n",
      "\n",
      "Mean test_f1 Value: 0.1399054817140388\n",
      "test_f1 scores: [0.13648494 0.14323607 0.13999543]\n",
      "\n",
      "Mean train_roc_auc Value: 0.9989901552023244\n",
      "train_roc_auc scores: [0.99895101 0.99901656 0.99900289]\n",
      "\n",
      "Mean test_roc_auc Value: 0.5006841988026168\n",
      "test_roc_auc scores: [0.50055036 0.49754556 0.50395668]\n",
      "\n",
      "dict_keys(['memory', 'steps', 'verbose', 'pca', 'forest', 'pca__copy', 'pca__iterated_power', 'pca__n_components', 'pca__random_state', 'pca__svd_solver', 'pca__tol', 'pca__whiten', 'forest__bootstrap', 'forest__class_weight', 'forest__criterion', 'forest__max_depth', 'forest__max_features', 'forest__max_leaf_nodes', 'forest__min_impurity_decrease', 'forest__min_impurity_split', 'forest__min_samples_leaf', 'forest__min_samples_split', 'forest__min_weight_fraction_leaf', 'forest__n_estimators', 'forest__n_jobs', 'forest__oob_score', 'forest__random_state', 'forest__verbose', 'forest__warm_start'])\n"
     ]
    },
    {
     "name": "stderr",
     "output_type": "stream",
     "text": [
      "/home/jupyter-khickey550/.local/lib/python3.6/site-packages/sklearn/ensemble/forest.py:245: FutureWarning: The default value of n_estimators will change from 10 in version 0.20 to 100 in 0.22.\n",
      "  \"10 in version 0.20 to 100 in 0.22.\", FutureWarning)\n",
      "/home/jupyter-khickey550/.local/lib/python3.6/site-packages/sklearn/ensemble/forest.py:245: FutureWarning: The default value of n_estimators will change from 10 in version 0.20 to 100 in 0.22.\n",
      "  \"10 in version 0.20 to 100 in 0.22.\", FutureWarning)\n",
      "/home/jupyter-khickey550/.local/lib/python3.6/site-packages/sklearn/ensemble/forest.py:245: FutureWarning: The default value of n_estimators will change from 10 in version 0.20 to 100 in 0.22.\n",
      "  \"10 in version 0.20 to 100 in 0.22.\", FutureWarning)\n"
     ]
    },
    {
     "name": "stdout",
     "output_type": "stream",
     "text": [
      "Mean train_accuracy Value: 0.9754250283987048\n",
      "train_accuracy scores: [0.97553854 0.97538361 0.97535293]\n",
      "\n",
      "Mean test_accuracy Value: 0.6480296195644183\n",
      "test_accuracy scores: [0.65149868 0.64437473 0.64821545]\n",
      "\n",
      "Mean train_f1 Value: 0.9600625401496755\n",
      "train_f1 scores: [0.9602664  0.95999596 0.95992525]\n",
      "\n",
      "Mean test_f1 Value: 0.14412628376488432\n",
      "test_f1 scores: [0.15077203 0.13742183 0.14418499]\n",
      "\n",
      "Mean train_roc_auc Value: 0.9989575666077858\n",
      "train_roc_auc scores: [0.99897971 0.99892167 0.99897132]\n",
      "\n",
      "Mean test_roc_auc Value: 0.5075742769732199\n",
      "test_roc_auc scores: [0.51380019 0.50152294 0.50739971]\n",
      "\n",
      "dict_keys(['memory', 'steps', 'verbose', 'pca', 'forest', 'pca__copy', 'pca__iterated_power', 'pca__n_components', 'pca__random_state', 'pca__svd_solver', 'pca__tol', 'pca__whiten', 'forest__bootstrap', 'forest__class_weight', 'forest__criterion', 'forest__max_depth', 'forest__max_features', 'forest__max_leaf_nodes', 'forest__min_impurity_decrease', 'forest__min_impurity_split', 'forest__min_samples_leaf', 'forest__min_samples_split', 'forest__min_weight_fraction_leaf', 'forest__n_estimators', 'forest__n_jobs', 'forest__oob_score', 'forest__random_state', 'forest__verbose', 'forest__warm_start'])\n"
     ]
    }
   ],
   "source": [
    "\n",
    "X_train, X_test, y_train, y_test = train_test_split(data, target, random_state = 777)\n",
    "\n",
    "for n_components in [2,4,6,8,10]:\n",
    "    pca = PCA(n_components=n_components)\n",
    "    forest = RandomForestClassifier()\n",
    "    \n",
    "    pipe = Pipeline(steps = [\n",
    "        ('pca', pca),\n",
    "        ('forest', forest)\n",
    "    ])\n",
    "    \n",
    "    eval_model(pipe, X_train, y_train, cv = 3)\n",
    "    \n"
   ]
  },
  {
   "cell_type": "code",
   "execution_count": null,
   "metadata": {},
   "outputs": [],
   "source": []
  },
  {
   "cell_type": "code",
   "execution_count": null,
   "metadata": {},
   "outputs": [],
   "source": []
  },
  {
   "cell_type": "code",
   "execution_count": null,
   "metadata": {},
   "outputs": [],
   "source": []
  },
  {
   "cell_type": "code",
   "execution_count": null,
   "metadata": {},
   "outputs": [],
   "source": []
  },
  {
   "cell_type": "code",
   "execution_count": 24,
   "metadata": {},
   "outputs": [],
   "source": [
    "\n",
    "ball_df = baseball.loc[baseball['description'] == 0]\n",
    "strike_df = baseball.loc[baseball['description'] == 1]"
   ]
  },
  {
   "cell_type": "code",
   "execution_count": 25,
   "metadata": {},
   "outputs": [
    {
     "data": {
      "image/png": "[encoded data removed]",
      "text/plain": [
       "<Figure size 864x576 with 16 Axes>"
      ]
     },
     "metadata": {},
     "output_type": "display_data"
    }
   ],
   "source": [
    "num_features_to_plot = ['release_speed', 'release_spin_rate', 'release_pos_x',\n",
    "       'release_pos_y', 'release_pos_z', 'pfx_x', 'pfx_z', 'vx0', 'vy0', 'vz0',\n",
    "       'ax', 'ay', 'az', 'sz_top', 'sz_bot', 'release_extension']\n",
    "\n",
    "fig = plt.figure(figsize = (12, 8))\n",
    "for idx, feature in enumerate(num_features_to_plot):\n",
    "    idx+=1\n",
    "    plt.subplot(5,4, idx, title = feature )\n",
    "    plt.hist(ball_df[feature], bins = 25, label='ball')\n",
    "    plt.hist(strike_df[feature], bins = 25, label = 'strike')\n",
    "    plt.legend(fontsize = 6)\n",
    "    idx +=1\n",
    "    plt.tight_layout()\n",
    "    "
   ]
  },
  {
   "cell_type": "markdown",
   "metadata": {},
   "source": [
    "### Cross tab\n"
   ]
  },
  {
   "cell_type": "code",
   "execution_count": 26,
   "metadata": {},
   "outputs": [
    {
     "data": {
      "text/html": [
       "<div>\n",
       "<style scoped>\n",
       "    .dataframe tbody tr th:only-of-type {\n",
       "        vertical-align: middle;\n",
       "    }\n",
       "\n",
       "    .dataframe tbody tr th {\n",
       "        vertical-align: top;\n",
       "    }\n",
       "\n",
       "    .dataframe thead th {\n",
       "        text-align: right;\n",
       "    }\n",
       "</style>\n",
       "<table border=\"1\" class=\"dataframe\">\n",
       "  <thead>\n",
       "    <tr style=\"text-align: right;\">\n",
       "      <th>description</th>\n",
       "      <th>0</th>\n",
       "      <th>1</th>\n",
       "    </tr>\n",
       "    <tr>\n",
       "      <th>pitch_name</th>\n",
       "      <th></th>\n",
       "      <th></th>\n",
       "    </tr>\n",
       "  </thead>\n",
       "  <tbody>\n",
       "    <tr>\n",
       "      <th>2-Seam Fastball</th>\n",
       "      <td>0.073456</td>\n",
       "      <td>0.039242</td>\n",
       "    </tr>\n",
       "    <tr>\n",
       "      <th>4-Seam Fastball</th>\n",
       "      <td>0.228755</td>\n",
       "      <td>0.123267</td>\n",
       "    </tr>\n",
       "    <tr>\n",
       "      <th>Changeup</th>\n",
       "      <td>0.072033</td>\n",
       "      <td>0.018846</td>\n",
       "    </tr>\n",
       "    <tr>\n",
       "      <th>Curveball</th>\n",
       "      <td>0.060649</td>\n",
       "      <td>0.028388</td>\n",
       "    </tr>\n",
       "    <tr>\n",
       "      <th>Cutter</th>\n",
       "      <td>0.041186</td>\n",
       "      <td>0.017747</td>\n",
       "    </tr>\n",
       "    <tr>\n",
       "      <th>Eephus</th>\n",
       "      <td>0.000079</td>\n",
       "      <td>0.000016</td>\n",
       "    </tr>\n",
       "    <tr>\n",
       "      <th>Knuckle Curve</th>\n",
       "      <td>0.017060</td>\n",
       "      <td>0.008221</td>\n",
       "    </tr>\n",
       "    <tr>\n",
       "      <th>Sinker</th>\n",
       "      <td>0.063052</td>\n",
       "      <td>0.037234</td>\n",
       "    </tr>\n",
       "    <tr>\n",
       "      <th>Slider</th>\n",
       "      <td>0.110674</td>\n",
       "      <td>0.044941</td>\n",
       "    </tr>\n",
       "    <tr>\n",
       "      <th>Split Finger</th>\n",
       "      <td>0.012688</td>\n",
       "      <td>0.002466</td>\n",
       "    </tr>\n",
       "  </tbody>\n",
       "</table>\n",
       "</div>"
      ],
      "text/plain": [
       "description             0         1\n",
       "pitch_name                         \n",
       "2-Seam Fastball  0.073456  0.039242\n",
       "4-Seam Fastball  0.228755  0.123267\n",
       "Changeup         0.072033  0.018846\n",
       "Curveball        0.060649  0.028388\n",
       "Cutter           0.041186  0.017747\n",
       "Eephus           0.000079  0.000016\n",
       "Knuckle Curve    0.017060  0.008221\n",
       "Sinker           0.063052  0.037234\n",
       "Slider           0.110674  0.044941\n",
       "Split Finger     0.012688  0.002466"
      ]
     },
     "execution_count": 26,
     "metadata": {},
     "output_type": "execute_result"
    }
   ],
   "source": [
    "pd.crosstab(baseball['description'], baseball['pitch_name'] ,normalize=True).T"
   ]
  },
  {
   "cell_type": "markdown",
   "metadata": {},
   "source": [
    "## Feature Creation\n",
    "1. posx + movementx, posz +movementz\n",
    "2. topzone - bottom zone\n",
    "3. compare to target"
   ]
  },
  {
   "cell_type": "code",
   "execution_count": 27,
   "metadata": {},
   "outputs": [],
   "source": [
    "baseball['position_x'] = baseball['release_pos_x'] + baseball['pfx_x']\n",
    "baseball['position_z'] = baseball['release_pos_z'] + baseball['pfx_z']\n",
    "\n",
    "baseball['height_of_zone'] = baseball['sz_top'] - baseball['sz_bot']\n",
    "\n",
    "baseball['area_of_zone'] = 17 * baseball['height_of_zone']"
   ]
  },
  {
   "cell_type": "code",
   "execution_count": 28,
   "metadata": {},
   "outputs": [],
   "source": [
    "ball_df = baseball.loc[baseball['description'] == 0]\n",
    "strike_df = baseball.loc[baseball['description'] == 1]"
   ]
  },
  {
   "cell_type": "code",
   "execution_count": 29,
   "metadata": {},
   "outputs": [
    {
     "data": {
      "image/png": "[encoded data removed]",
      "text/plain": [
       "<Figure size 864x576 with 3 Axes>"
      ]
     },
     "metadata": {},
     "output_type": "display_data"
    }
   ],
   "source": [
    "fig = plt.figure(figsize = (12, 8))\n",
    "for idx, feature in enumerate(['position_x',\n",
    "'position_z', 'height_of_zone']):\n",
    "    idx+=1\n",
    "    plt.subplot(3,2, idx, title = feature )\n",
    "    plt.hist(ball_df[feature], bins = 25, label='ball')\n",
    "    plt.hist(strike_df[feature], bins = 25, label = 'strike')\n",
    "    plt.legend(fontsize = 12)\n",
    "    idx +=1\n",
    "    plt.tight_layout()\n",
    "    "
   ]
  },
  {
   "cell_type": "code",
   "execution_count": null,
   "metadata": {},
   "outputs": [],
   "source": [
    "sns.relplot('sz_top', 'sz_bot', data = baseball, markers= = 'position_z',hue = 'description')"
   ]
  },
  {
   "cell_type": "markdown",
   "metadata": {},
   "source": [
    "## Downsample\n",
    "\n",
    "use downsampling to see if results from above hold true. Will even out the classes.\n"
   ]
  },
  {
   "cell_type": "code",
   "execution_count": 59,
   "metadata": {},
   "outputs": [],
   "source": [
    "target = 'description'\n",
    "predictors = [col for col in baseball.columns if col not in [target]]\n",
    "\n",
    "\n",
    "under_sampled = RandomUnderSampler(ratio = 1, random_state = 777).fit_resample(baseball[predictors], baseball[target])\n",
    "baseball_down = pd.DataFrame(under_sampled[0], columns = baseball[predictors].columns)\n",
    "baseball_down['description'] = under_sampled[1]"
   ]
  },
  {
   "cell_type": "code",
   "execution_count": 78,
   "metadata": {},
   "outputs": [
    {
     "data": {
      "text/plain": [
       "1    40526\n",
       "0    40526\n",
       "Name: description, dtype: int64"
      ]
     },
     "execution_count": 78,
     "metadata": {},
     "output_type": "execute_result"
    }
   ],
   "source": [
    "baseball_down['description'].value_counts()"
   ]
  },
  {
   "cell_type": "code",
   "execution_count": 82,
   "metadata": {},
   "outputs": [
    {
     "data": {
      "image/png": "[encoded data removed]",
      "text/plain": [
       "<Figure size 432x288 with 3 Axes>"
      ]
     },
     "metadata": {},
     "output_type": "display_data"
    }
   ],
   "source": [
    "for idx, col in enumerate(['position_x', 'position_z', 'height_of_zone']):\n",
    "    idx+=1\n",
    "    plt.subplot(2,2, idx, title = col )\n",
    "    plt.hist(baseball_down[col], bins = 25, label='ball')\n",
    "    plt.hist(baseball_down[col], bins = 25, label = 'strike', alpha = .25)\n",
    "    plt.legend(fontsize = 12)\n",
    "    idx +=1\n",
    "    plt.tight_layout()"
   ]
  },
  {
   "cell_type": "code",
   "execution_count": null,
   "metadata": {},
   "outputs": [],
   "source": [
    "\n",
    "\n"
   ]
  },
  {
   "cell_type": "code",
   "execution_count": null,
   "metadata": {},
   "outputs": [],
   "source": []
  }
 ],
 "metadata": {
  "kernelspec": {
   "display_name": "Python 3",
   "language": "python",
   "name": "python3"
  },
  "language_info": {
   "codemirror_mode": {
    "name": "ipython",
    "version": 3
   },
   "file_extension": ".py",
   "mimetype": "text/x-python",
   "name": "python",
   "nbconvert_exporter": "python",
   "pygments_lexer": "ipython3",
   "version": "3.6.7"
  }
 },
 "nbformat": 4,
 "nbformat_minor": 2
}
