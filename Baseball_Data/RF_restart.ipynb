{
 "cells": [
  {
   "cell_type": "markdown",
   "metadata": {},
   "source": [
    "## Undersampler Pipeline random forest with just excluding features"
   ]
  },
  {
   "cell_type": "code",
   "execution_count": 16,
   "metadata": {},
   "outputs": [],
   "source": [
    "#start with all dependencies\n",
    "%matplotlib inline\n",
    "import numpy as np\n",
    "import pandas as pd\n",
    "from Evaluation import *\n",
    "import sklearn\n",
    "import sklearn.metrics as metrics\n",
    "from sklearn.model_selection import cross_val_score, cross_validate\n",
    "from sklearn.preprocessing import Imputer\n",
    "from imblearn.under_sampling import RandomUnderSampler\n",
    "from sklearn.linear_model import LogisticRegression\n",
    "from sklearn.tree import DecisionTreeRegressor\n",
    "import matplotlib.pyplot as plt\n",
    "%matplotlib inline\n",
    "import imblearn\n",
    "import seaborn as sns\n",
    "sns.set()\n",
    "import warnings\n",
    "warnings.filterwarnings(\"ignore\", category=FutureWarning)"
   ]
  },
  {
   "cell_type": "code",
   "execution_count": 2,
   "metadata": {},
   "outputs": [],
   "source": [
    "#Read in the data as pandas dataframe\n",
    "data = 'Statcast_data.csv'\n",
    "\n",
    "def load_data(file):\n",
    "    '''Load the Statcast_data.csv file into a pandas dataframe.\n",
    "       Resolve unnecessary column in csv file'''\n",
    "    baseball = pd.read_csv('Statcast_data.csv', index_col = 0)\n",
    "    \n",
    "    return baseball\n",
    "\n",
    "baseball = load_data(data)\n",
    "baseball['description'] = baseball['description'].replace({'blocked_ball': 0, 'ball': 0, \"called_strike\": 1})\n",
    "\n",
    "baseball = baseball.dropna()"
   ]
  },
  {
   "cell_type": "code",
   "execution_count": 3,
   "metadata": {},
   "outputs": [
    {
     "data": {
      "text/html": [
       "<div>\n",
       "<style scoped>\n",
       "    .dataframe tbody tr th:only-of-type {\n",
       "        vertical-align: middle;\n",
       "    }\n",
       "\n",
       "    .dataframe tbody tr th {\n",
       "        vertical-align: top;\n",
       "    }\n",
       "\n",
       "    .dataframe thead th {\n",
       "        text-align: right;\n",
       "    }\n",
       "</style>\n",
       "<table border=\"1\" class=\"dataframe\">\n",
       "  <thead>\n",
       "    <tr style=\"text-align: right;\">\n",
       "      <th></th>\n",
       "      <th>player_name</th>\n",
       "      <th>p_throws</th>\n",
       "      <th>pitch_name</th>\n",
       "      <th>release_speed</th>\n",
       "      <th>release_spin_rate</th>\n",
       "      <th>release_pos_x</th>\n",
       "      <th>release_pos_y</th>\n",
       "      <th>release_pos_z</th>\n",
       "      <th>pfx_x</th>\n",
       "      <th>pfx_z</th>\n",
       "      <th>vx0</th>\n",
       "      <th>vy0</th>\n",
       "      <th>vz0</th>\n",
       "      <th>ax</th>\n",
       "      <th>ay</th>\n",
       "      <th>az</th>\n",
       "      <th>sz_top</th>\n",
       "      <th>sz_bot</th>\n",
       "      <th>release_extension</th>\n",
       "      <th>description</th>\n",
       "    </tr>\n",
       "  </thead>\n",
       "  <tbody>\n",
       "    <tr>\n",
       "      <th>0</th>\n",
       "      <td>Chris Sale</td>\n",
       "      <td>L</td>\n",
       "      <td>2-Seam Fastball</td>\n",
       "      <td>95.1</td>\n",
       "      <td>2314.0</td>\n",
       "      <td>3.2655</td>\n",
       "      <td>54.4995</td>\n",
       "      <td>5.2575</td>\n",
       "      <td>1.7213</td>\n",
       "      <td>0.4271</td>\n",
       "      <td>-9.8035</td>\n",
       "      <td>-138.1130</td>\n",
       "      <td>0.1339</td>\n",
       "      <td>23.9464</td>\n",
       "      <td>31.0012</td>\n",
       "      <td>-27.0426</td>\n",
       "      <td>3.2971</td>\n",
       "      <td>1.5059</td>\n",
       "      <td>6.001</td>\n",
       "      <td>0</td>\n",
       "    </tr>\n",
       "    <tr>\n",
       "      <th>1</th>\n",
       "      <td>Chris Sale</td>\n",
       "      <td>L</td>\n",
       "      <td>4-Seam Fastball</td>\n",
       "      <td>96.7</td>\n",
       "      <td>2324.0</td>\n",
       "      <td>3.1728</td>\n",
       "      <td>54.3094</td>\n",
       "      <td>5.3966</td>\n",
       "      <td>0.9349</td>\n",
       "      <td>1.0015</td>\n",
       "      <td>-9.0084</td>\n",
       "      <td>-140.5865</td>\n",
       "      <td>-2.4218</td>\n",
       "      <td>14.3766</td>\n",
       "      <td>32.1373</td>\n",
       "      <td>-18.6501</td>\n",
       "      <td>3.3136</td>\n",
       "      <td>1.5730</td>\n",
       "      <td>6.191</td>\n",
       "      <td>1</td>\n",
       "    </tr>\n",
       "    <tr>\n",
       "      <th>2</th>\n",
       "      <td>Chris Sale</td>\n",
       "      <td>L</td>\n",
       "      <td>Slider</td>\n",
       "      <td>80.8</td>\n",
       "      <td>2521.0</td>\n",
       "      <td>3.3517</td>\n",
       "      <td>55.0820</td>\n",
       "      <td>5.1205</td>\n",
       "      <td>-1.0168</td>\n",
       "      <td>-0.1223</td>\n",
       "      <td>-3.7285</td>\n",
       "      <td>-117.3223</td>\n",
       "      <td>1.2140</td>\n",
       "      <td>-8.2088</td>\n",
       "      <td>25.0797</td>\n",
       "      <td>-33.8129</td>\n",
       "      <td>3.9119</td>\n",
       "      <td>1.7080</td>\n",
       "      <td>5.420</td>\n",
       "      <td>1</td>\n",
       "    </tr>\n",
       "    <tr>\n",
       "      <th>3</th>\n",
       "      <td>Chris Sale</td>\n",
       "      <td>L</td>\n",
       "      <td>4-Seam Fastball</td>\n",
       "      <td>96.2</td>\n",
       "      <td>2329.0</td>\n",
       "      <td>3.1334</td>\n",
       "      <td>54.0207</td>\n",
       "      <td>5.2136</td>\n",
       "      <td>1.3175</td>\n",
       "      <td>0.9402</td>\n",
       "      <td>-12.0533</td>\n",
       "      <td>-139.3669</td>\n",
       "      <td>-5.1407</td>\n",
       "      <td>20.1652</td>\n",
       "      <td>36.1370</td>\n",
       "      <td>-18.9205</td>\n",
       "      <td>3.5553</td>\n",
       "      <td>1.5639</td>\n",
       "      <td>6.479</td>\n",
       "      <td>1</td>\n",
       "    </tr>\n",
       "    <tr>\n",
       "      <th>4</th>\n",
       "      <td>Chris Sale</td>\n",
       "      <td>L</td>\n",
       "      <td>4-Seam Fastball</td>\n",
       "      <td>96.5</td>\n",
       "      <td>2437.0</td>\n",
       "      <td>3.3033</td>\n",
       "      <td>54.3597</td>\n",
       "      <td>5.0589</td>\n",
       "      <td>1.2794</td>\n",
       "      <td>0.7425</td>\n",
       "      <td>-14.0287</td>\n",
       "      <td>-139.8559</td>\n",
       "      <td>-3.3434</td>\n",
       "      <td>19.7342</td>\n",
       "      <td>30.0266</td>\n",
       "      <td>-21.9652</td>\n",
       "      <td>3.3450</td>\n",
       "      <td>1.6241</td>\n",
       "      <td>6.141</td>\n",
       "      <td>0</td>\n",
       "    </tr>\n",
       "  </tbody>\n",
       "</table>\n",
       "</div>"
      ],
      "text/plain": [
       "  player_name p_throws       pitch_name  release_speed  release_spin_rate  \\\n",
       "0  Chris Sale        L  2-Seam Fastball           95.1             2314.0   \n",
       "1  Chris Sale        L  4-Seam Fastball           96.7             2324.0   \n",
       "2  Chris Sale        L           Slider           80.8             2521.0   \n",
       "3  Chris Sale        L  4-Seam Fastball           96.2             2329.0   \n",
       "4  Chris Sale        L  4-Seam Fastball           96.5             2437.0   \n",
       "\n",
       "   release_pos_x  release_pos_y  release_pos_z   pfx_x   pfx_z      vx0  \\\n",
       "0         3.2655        54.4995         5.2575  1.7213  0.4271  -9.8035   \n",
       "1         3.1728        54.3094         5.3966  0.9349  1.0015  -9.0084   \n",
       "2         3.3517        55.0820         5.1205 -1.0168 -0.1223  -3.7285   \n",
       "3         3.1334        54.0207         5.2136  1.3175  0.9402 -12.0533   \n",
       "4         3.3033        54.3597         5.0589  1.2794  0.7425 -14.0287   \n",
       "\n",
       "        vy0     vz0       ax       ay       az  sz_top  sz_bot  \\\n",
       "0 -138.1130  0.1339  23.9464  31.0012 -27.0426  3.2971  1.5059   \n",
       "1 -140.5865 -2.4218  14.3766  32.1373 -18.6501  3.3136  1.5730   \n",
       "2 -117.3223  1.2140  -8.2088  25.0797 -33.8129  3.9119  1.7080   \n",
       "3 -139.3669 -5.1407  20.1652  36.1370 -18.9205  3.5553  1.5639   \n",
       "4 -139.8559 -3.3434  19.7342  30.0266 -21.9652  3.3450  1.6241   \n",
       "\n",
       "   release_extension  description  \n",
       "0              6.001            0  \n",
       "1              6.191            1  \n",
       "2              5.420            1  \n",
       "3              6.479            1  \n",
       "4              6.141            0  "
      ]
     },
     "execution_count": 3,
     "metadata": {},
     "output_type": "execute_result"
    }
   ],
   "source": [
    "baseball.head()"
   ]
  },
  {
   "cell_type": "markdown",
   "metadata": {},
   "source": [
    "## Feature Creation\n",
    "1. posx + movementx, posz +movementz\n",
    "2. difference in the top of the zone and the position of the ball\n",
    "    - any negative value will mean the ball is above the zone. \n",
    "4. difference in the position of the ball and the bottom of the zone. \n",
    "    - Any negative value will mean the ball is in the zone. \n",
    "3. compare to target"
   ]
  },
  {
   "cell_type": "code",
   "execution_count": 4,
   "metadata": {},
   "outputs": [],
   "source": [
    "baseball['position_x'] = baseball['release_pos_x'] + baseball['pfx_x']\n",
    "baseball['position_z'] = baseball['release_pos_z'] + baseball['pfx_z']\n",
    "\n",
    "#baseball['difference_top_of_zone'] = baseball['sz_top'] - baseball['position_z']\n",
    "#baseball['difference_bottom_of_zone'] = baseball['position_z'] - baseball['sz_top']\n",
    "#baseball['difference_side_of_plate_x'] = baseball['']\n",
    "#baseball['area_of_zone'] = 17 * baseball['height_of_zone']"
   ]
  },
  {
   "cell_type": "code",
   "execution_count": 5,
   "metadata": {},
   "outputs": [
    {
     "data": {
      "text/plain": [
       "Index(['player_name', 'p_throws', 'pitch_name', 'release_speed',\n",
       "       'release_spin_rate', 'release_pos_x', 'release_pos_y', 'release_pos_z',\n",
       "       'pfx_x', 'pfx_z', 'vx0', 'vy0', 'vz0', 'ax', 'ay', 'az', 'sz_top',\n",
       "       'sz_bot', 'release_extension', 'description', 'position_x',\n",
       "       'position_z'],\n",
       "      dtype='object')"
      ]
     },
     "execution_count": 5,
     "metadata": {},
     "output_type": "execute_result"
    }
   ],
   "source": [
    "baseball.columns"
   ]
  },
  {
   "cell_type": "code",
   "execution_count": 7,
   "metadata": {},
   "outputs": [
    {
     "data": {
      "text/html": [
       "<div>\n",
       "<style scoped>\n",
       "    .dataframe tbody tr th:only-of-type {\n",
       "        vertical-align: middle;\n",
       "    }\n",
       "\n",
       "    .dataframe tbody tr th {\n",
       "        vertical-align: top;\n",
       "    }\n",
       "\n",
       "    .dataframe thead th {\n",
       "        text-align: right;\n",
       "    }\n",
       "</style>\n",
       "<table border=\"1\" class=\"dataframe\">\n",
       "  <thead>\n",
       "    <tr style=\"text-align: right;\">\n",
       "      <th></th>\n",
       "      <th>release_spin_rate</th>\n",
       "      <th>position_x</th>\n",
       "      <th>position_z</th>\n",
       "      <th>vx0</th>\n",
       "      <th>vy0</th>\n",
       "      <th>vz0</th>\n",
       "      <th>sz_top</th>\n",
       "      <th>sz_bot</th>\n",
       "      <th>pitch_L</th>\n",
       "      <th>pitch_R</th>\n",
       "      <th>pitch_2-Seam Fastball</th>\n",
       "      <th>pitch_4-Seam Fastball</th>\n",
       "      <th>pitch_Changeup</th>\n",
       "      <th>pitch_Curveball</th>\n",
       "      <th>pitch_Cutter</th>\n",
       "      <th>pitch_Eephus</th>\n",
       "      <th>pitch_Knuckle Curve</th>\n",
       "      <th>pitch_Sinker</th>\n",
       "      <th>pitch_Slider</th>\n",
       "      <th>pitch_Split Finger</th>\n",
       "    </tr>\n",
       "  </thead>\n",
       "  <tbody>\n",
       "    <tr>\n",
       "      <th>0</th>\n",
       "      <td>2314.0</td>\n",
       "      <td>4.9868</td>\n",
       "      <td>5.6846</td>\n",
       "      <td>-9.8035</td>\n",
       "      <td>-138.1130</td>\n",
       "      <td>0.1339</td>\n",
       "      <td>3.2971</td>\n",
       "      <td>1.5059</td>\n",
       "      <td>1</td>\n",
       "      <td>0</td>\n",
       "      <td>1</td>\n",
       "      <td>0</td>\n",
       "      <td>0</td>\n",
       "      <td>0</td>\n",
       "      <td>0</td>\n",
       "      <td>0</td>\n",
       "      <td>0</td>\n",
       "      <td>0</td>\n",
       "      <td>0</td>\n",
       "      <td>0</td>\n",
       "    </tr>\n",
       "    <tr>\n",
       "      <th>1</th>\n",
       "      <td>2324.0</td>\n",
       "      <td>4.1077</td>\n",
       "      <td>6.3981</td>\n",
       "      <td>-9.0084</td>\n",
       "      <td>-140.5865</td>\n",
       "      <td>-2.4218</td>\n",
       "      <td>3.3136</td>\n",
       "      <td>1.5730</td>\n",
       "      <td>1</td>\n",
       "      <td>0</td>\n",
       "      <td>0</td>\n",
       "      <td>1</td>\n",
       "      <td>0</td>\n",
       "      <td>0</td>\n",
       "      <td>0</td>\n",
       "      <td>0</td>\n",
       "      <td>0</td>\n",
       "      <td>0</td>\n",
       "      <td>0</td>\n",
       "      <td>0</td>\n",
       "    </tr>\n",
       "    <tr>\n",
       "      <th>2</th>\n",
       "      <td>2521.0</td>\n",
       "      <td>2.3349</td>\n",
       "      <td>4.9982</td>\n",
       "      <td>-3.7285</td>\n",
       "      <td>-117.3223</td>\n",
       "      <td>1.2140</td>\n",
       "      <td>3.9119</td>\n",
       "      <td>1.7080</td>\n",
       "      <td>1</td>\n",
       "      <td>0</td>\n",
       "      <td>0</td>\n",
       "      <td>0</td>\n",
       "      <td>0</td>\n",
       "      <td>0</td>\n",
       "      <td>0</td>\n",
       "      <td>0</td>\n",
       "      <td>0</td>\n",
       "      <td>0</td>\n",
       "      <td>1</td>\n",
       "      <td>0</td>\n",
       "    </tr>\n",
       "    <tr>\n",
       "      <th>3</th>\n",
       "      <td>2329.0</td>\n",
       "      <td>4.4509</td>\n",
       "      <td>6.1538</td>\n",
       "      <td>-12.0533</td>\n",
       "      <td>-139.3669</td>\n",
       "      <td>-5.1407</td>\n",
       "      <td>3.5553</td>\n",
       "      <td>1.5639</td>\n",
       "      <td>1</td>\n",
       "      <td>0</td>\n",
       "      <td>0</td>\n",
       "      <td>1</td>\n",
       "      <td>0</td>\n",
       "      <td>0</td>\n",
       "      <td>0</td>\n",
       "      <td>0</td>\n",
       "      <td>0</td>\n",
       "      <td>0</td>\n",
       "      <td>0</td>\n",
       "      <td>0</td>\n",
       "    </tr>\n",
       "    <tr>\n",
       "      <th>4</th>\n",
       "      <td>2437.0</td>\n",
       "      <td>4.5827</td>\n",
       "      <td>5.8014</td>\n",
       "      <td>-14.0287</td>\n",
       "      <td>-139.8559</td>\n",
       "      <td>-3.3434</td>\n",
       "      <td>3.3450</td>\n",
       "      <td>1.6241</td>\n",
       "      <td>1</td>\n",
       "      <td>0</td>\n",
       "      <td>0</td>\n",
       "      <td>1</td>\n",
       "      <td>0</td>\n",
       "      <td>0</td>\n",
       "      <td>0</td>\n",
       "      <td>0</td>\n",
       "      <td>0</td>\n",
       "      <td>0</td>\n",
       "      <td>0</td>\n",
       "      <td>0</td>\n",
       "    </tr>\n",
       "  </tbody>\n",
       "</table>\n",
       "</div>"
      ],
      "text/plain": [
       "   release_spin_rate  position_x  position_z      vx0       vy0     vz0  \\\n",
       "0             2314.0      4.9868      5.6846  -9.8035 -138.1130  0.1339   \n",
       "1             2324.0      4.1077      6.3981  -9.0084 -140.5865 -2.4218   \n",
       "2             2521.0      2.3349      4.9982  -3.7285 -117.3223  1.2140   \n",
       "3             2329.0      4.4509      6.1538 -12.0533 -139.3669 -5.1407   \n",
       "4             2437.0      4.5827      5.8014 -14.0287 -139.8559 -3.3434   \n",
       "\n",
       "   sz_top  sz_bot  pitch_L  pitch_R  pitch_2-Seam Fastball  \\\n",
       "0  3.2971  1.5059        1        0                      1   \n",
       "1  3.3136  1.5730        1        0                      0   \n",
       "2  3.9119  1.7080        1        0                      0   \n",
       "3  3.5553  1.5639        1        0                      0   \n",
       "4  3.3450  1.6241        1        0                      0   \n",
       "\n",
       "   pitch_4-Seam Fastball  pitch_Changeup  pitch_Curveball  pitch_Cutter  \\\n",
       "0                      0               0                0             0   \n",
       "1                      1               0                0             0   \n",
       "2                      0               0                0             0   \n",
       "3                      1               0                0             0   \n",
       "4                      1               0                0             0   \n",
       "\n",
       "   pitch_Eephus  pitch_Knuckle Curve  pitch_Sinker  pitch_Slider  \\\n",
       "0             0                    0             0             0   \n",
       "1             0                    0             0             0   \n",
       "2             0                    0             0             1   \n",
       "3             0                    0             0             0   \n",
       "4             0                    0             0             0   \n",
       "\n",
       "   pitch_Split Finger  \n",
       "0                   0  \n",
       "1                   0  \n",
       "2                   0  \n",
       "3                   0  \n",
       "4                   0  "
      ]
     },
     "execution_count": 7,
     "metadata": {},
     "output_type": "execute_result"
    }
   ],
   "source": [
    "final_df = baseball.loc[:, ['p_throws', 'pitch_name',\n",
    "       'release_spin_rate', 'position_x', 'position_z',\n",
    "        'vx0', 'vy0', 'vz0',  'sz_top',\n",
    "       'sz_bot',]]\n",
    "\n",
    "final_df=pd.get_dummies(final_df, prefix = 'pitch')\n",
    "final_df.head()"
   ]
  },
  {
   "cell_type": "code",
   "execution_count": 8,
   "metadata": {},
   "outputs": [
    {
     "name": "stdout",
     "output_type": "stream",
     "text": [
      "Index(['release_spin_rate', 'position_x', 'position_z', 'vx0', 'vy0', 'vz0',\n",
      "       'sz_top', 'sz_bot', 'pitch_L', 'pitch_R', 'pitch_2-Seam Fastball',\n",
      "       'pitch_4-Seam Fastball', 'pitch_Changeup', 'pitch_Curveball',\n",
      "       'pitch_Cutter', 'pitch_Eephus', 'pitch_Knuckle Curve', 'pitch_Sinker',\n",
      "       'pitch_Slider', 'pitch_Split Finger'],\n",
      "      dtype='object')\n"
     ]
    }
   ],
   "source": [
    "print(final_df.columns)"
   ]
  },
  {
   "cell_type": "code",
   "execution_count": 19,
   "metadata": {},
   "outputs": [
    {
     "data": {
      "image/png": "[encoded data removed]",
      "text/plain": [
       "<Figure size 864x576 with 8 Axes>"
      ]
     },
     "metadata": {},
     "output_type": "display_data"
    }
   ],
   "source": [
    "fig = plt.figure(figsize = (12, 8))\n",
    "for idx, feature in enumerate(final_df.columns[:8]):\n",
    "    idx+=1\n",
    "    plt.subplot(3,4, idx, title = feature )\n",
    "    plt.hist(final_df[feature], bins = 25)\n",
    "    idx +=1\n",
    "    plt.tight_layout()"
   ]
  },
  {
   "cell_type": "markdown",
   "metadata": {},
   "source": [
    "## Simple Random Forest, to evaluatate new features"
   ]
  },
  {
   "cell_type": "code",
   "execution_count": 9,
   "metadata": {},
   "outputs": [],
   "source": [
    "from imblearn.pipeline import make_pipeline, Pipeline\n",
    "from sklearn.ensemble import RandomForestClassifier\n",
    "from sklearn.decomposition import PCA\n",
    "from sklearn.model_selection import cross_val_score, train_test_split"
   ]
  },
  {
   "cell_type": "code",
   "execution_count": 10,
   "metadata": {},
   "outputs": [
    {
     "name": "stdout",
     "output_type": "stream",
     "text": [
      "Accuracy Score: 0.835699604743083\n",
      "\n",
      "Classification Report: \n",
      "               precision    recall  f1-score   support\n",
      "\n",
      "           0       0.91      0.85      0.88     21552\n",
      "           1       0.71      0.81      0.76     10073\n",
      "\n",
      "    accuracy                           0.84     31625\n",
      "   macro avg       0.81      0.83      0.82     31625\n",
      "weighted avg       0.84      0.84      0.84     31625\n",
      "\n",
      "\n",
      " Confustion Matrix: \n",
      " [[18271  3281]\n",
      " [ 1915  8158]]\n"
     ]
    },
    {
     "data": {
      "text/plain": [
       "<matplotlib.axes._subplots.AxesSubplot at 0x7f186bec6978>"
      ]
     },
     "execution_count": 10,
     "metadata": {},
     "output_type": "execute_result"
    },
    {
     "data": {
      "image/png": "[encoded data removed]",
      "text/plain": [
       "<Figure size 432x288 with 1 Axes>"
      ]
     },
     "metadata": {
      "needs_background": "light"
     },
     "output_type": "display_data"
    }
   ],
   "source": [
    "X_train, X_test, y_train, y_test = train_test_split(final_df,\n",
    "                                                    baseball['description'], random_state = 777)\n",
    "under_sampler = RandomUnderSampler(ratio = 1, random_state = 777)\n",
    "\n",
    "forest = RandomForestClassifier()\n",
    "\n",
    "pipe = imblearn.pipeline.make_pipeline(under_sampler,forest)\n",
    "\n",
    "\n",
    "\n",
    "pipe.fit(X_train, y_train)\n",
    "\n",
    "pred = pipe.predict(X_test)\n",
    "def eval_test_set(x_test_predictions, y_test):\n",
    "    print(f\"Accuracy Score: {metrics.accuracy_score(y_test, x_test_predictions)}\")\n",
    "    print()\n",
    "    print(f\"Classification Report: \\n {metrics.classification_report(y_test, x_test_predictions)}\")\n",
    "    print()\n",
    "    print(f\" Confustion Matrix: \\n {metrics.confusion_matrix(y_test, x_test_predictions)}\")\n",
    "\n",
    "eval_test_set(pred, y_test)\n",
    "\n",
    "pd.Series(pipe[1][2].feature_importances_, index=X_train.columns).plot(kind = 'barh')"
   ]
  },
  {
   "cell_type": "markdown",
   "metadata": {},
   "source": [
    "## USE PCA"
   ]
  },
  {
   "cell_type": "code",
   "execution_count": 11,
   "metadata": {},
   "outputs": [
    {
     "name": "stdout",
     "output_type": "stream",
     "text": [
      "Number of Components: 3\n",
      "---------------------------------------------------------------------------\n",
      "\n",
      "Mean train_accuracy Value: 0.8501892027352422\n",
      "train_accuracy scores: [0.8506514  0.85049566 0.84942054]\n",
      "\n",
      "Mean test_accuracy Value: 0.5718275991250287\n",
      "test_accuracy scores: [0.57201581 0.57402606 0.56944093]\n",
      "\n",
      "Mean train_f1 Value: 0.805730123126156\n",
      "train_f1 scores: [0.80621205 0.80611826 0.80486006]\n",
      "\n",
      "Mean test_f1 Value: 0.4168679824852317\n",
      "test_f1 scores: [0.41586466 0.41711739 0.4176219 ]\n",
      "\n",
      "Mean train_roc_auc Value: 0.9465282848927278\n",
      "train_roc_auc scores: [0.94634051 0.94759899 0.94564536]\n",
      "\n",
      "Mean test_roc_auc Value: 0.5712459643320048\n",
      "test_roc_auc scores: [0.57034546 0.57089213 0.5725003 ]\n",
      "\n",
      "Number of Components: 4\n",
      "---------------------------------------------------------------------------\n",
      "\n",
      "Mean train_accuracy Value: 0.8795442360317326\n",
      "train_accuracy scores: [0.88015431 0.87925501 0.87922339]\n",
      "\n",
      "Mean test_accuracy Value: 0.6734476458732664\n",
      "test_accuracy scores: [0.67494071 0.67081963 0.6745826 ]\n",
      "\n",
      "Mean train_f1 Value: 0.8388856930095724\n",
      "train_f1 scores: [0.83967851 0.83860606 0.83837251]\n",
      "\n",
      "Mean test_f1 Value: 0.556054615639946\n",
      "test_f1 scores: [0.55887401 0.5509447  0.55834514]\n",
      "\n",
      "Mean train_roc_auc Value: 0.9591294383962921\n",
      "train_roc_auc scores: [0.95969028 0.95900385 0.95869419]\n",
      "\n",
      "Mean test_roc_auc Value: 0.7290558442313398\n",
      "test_roc_auc scores: [0.7297204  0.72651417 0.73093296]\n",
      "\n",
      "Number of Components: 5\n",
      "---------------------------------------------------------------------------\n",
      "\n",
      "Mean train_accuracy Value: 0.9262118853334962\n",
      "train_accuracy scores: [0.92660637 0.92646524 0.92556404]\n",
      "\n",
      "Mean test_accuracy Value: 0.8097878264602492\n",
      "test_accuracy scores: [0.80932806 0.80948014 0.81055527]\n",
      "\n",
      "Mean train_f1 Value: 0.8957354092313397\n",
      "train_f1 scores: [0.8962867  0.89602289 0.89489664]\n",
      "\n",
      "Mean test_f1 Value: 0.7317485749159056\n",
      "test_f1 scores: [0.73027375 0.73096673 0.73400524]\n",
      "\n",
      "Mean train_roc_auc Value: 0.9777664399499774\n",
      "train_roc_auc scores: [0.97733576 0.97756045 0.97840311]\n",
      "\n",
      "Mean test_roc_auc Value: 0.8846143264003551\n",
      "test_roc_auc scores: [0.88464802 0.88265679 0.88653818]\n",
      "\n",
      "Number of Components: 6\n",
      "---------------------------------------------------------------------------\n",
      "\n",
      "Mean train_accuracy Value: 0.9592507885041875\n",
      "train_accuracy scores: [0.9593663  0.95971478 0.95867128]\n",
      "\n",
      "Mean test_accuracy Value: 0.8915392175586194\n",
      "test_accuracy scores: [0.89135178 0.88926132 0.89400455]\n",
      "\n",
      "Mean train_f1 Value: 0.939858270004622\n",
      "train_f1 scores: [0.93998692 0.94051177 0.93907612]\n",
      "\n",
      "Mean test_f1 Value: 0.8391064795018933\n",
      "test_f1 scores: [0.83903307 0.83550963 0.84277674]\n",
      "\n",
      "Mean train_roc_auc Value: 0.991377405850708\n",
      "train_roc_auc scores: [0.99137824 0.99119212 0.99156186]\n",
      "\n",
      "Mean test_roc_auc Value: 0.9533999565103278\n",
      "test_roc_auc scores: [0.95440588 0.9507692  0.95502479]\n",
      "\n"
     ]
    }
   ],
   "source": [
    "\n",
    "cv_results_lst = []\n",
    "for n_components in [3,4,5,6]:\n",
    "    print(f\"Number of Components: {n_components}\")\n",
    "    print('-'*75)\n",
    "    print()\n",
    "    pca = PCA(n_components=n_components)\n",
    "    forest = RandomForestClassifier(n_estimators=10)\n",
    "    \n",
    "    pipe = Pipeline(steps = [\n",
    "        ('sampler', under_sampler), #RandomUnderSampler(ratio = 1, random_state = 777)\n",
    "        ('pca', pca),\n",
    "        ('forest', forest)\n",
    "    ])\n",
    "    \n",
    "    cv_results = cross_validate(pipe, X_train, y_train, scoring = ['accuracy', 'f1', 'roc_auc'], \n",
    "                                cv =3, return_estimator=True, return_train_score = True)\n",
    "\n",
    "    cv_results_lst.append(cv_results)\n",
    "    for result in ['train_accuracy', 'test_accuracy', 'train_f1', 'test_f1', 'train_roc_auc', 'test_roc_auc']:\n",
    "        print(f\"Mean {result} Value: {np.mean(cv_results[result])}\")\n",
    "        print(f\"{result} scores: {cv_results[result]}\")\n",
    "        print() \n",
    "    \n",
    "\n",
    "    \n"
   ]
  },
  {
   "cell_type": "code",
   "execution_count": 12,
   "metadata": {},
   "outputs": [
    {
     "data": {
      "text/plain": [
       "Pipeline(memory=None,\n",
       "         steps=[('sampler',\n",
       "                 RandomUnderSampler(random_state=777, ratio=1,\n",
       "                                    replacement=False, return_indices=False,\n",
       "                                    sampling_strategy=1)),\n",
       "                ('pca',\n",
       "                 PCA(copy=True, iterated_power='auto', n_components=6,\n",
       "                     random_state=None, svd_solver='auto', tol=0.0,\n",
       "                     whiten=False)),\n",
       "                ('forest',\n",
       "                 RandomForestClassifier(bootstrap=True, class_weight=None,\n",
       "                                        criterion='gini', max_depth=None,\n",
       "                                        max_features='auto',\n",
       "                                        max_leaf_nodes=None,\n",
       "                                        min_impurity_decrease=0.0,\n",
       "                                        min_impurity_split=None,\n",
       "                                        min_samples_leaf=1, min_samples_split=2,\n",
       "                                        min_weight_fraction_leaf=0.0,\n",
       "                                        n_estimators=10, n_jobs=None,\n",
       "                                        oob_score=False, random_state=None,\n",
       "                                        verbose=0, warm_start=False))],\n",
       "         verbose=False)"
      ]
     },
     "execution_count": 12,
     "metadata": {},
     "output_type": "execute_result"
    }
   ],
   "source": [
    "cv_results_lst[3]['estimator'][0] #n_components of 6, as it performed best"
   ]
  },
  {
   "cell_type": "code",
   "execution_count": null,
   "metadata": {},
   "outputs": [],
   "source": [
    "forest_best = result.best_estimator_\n",
    "\n",
    "predictions = forest_best.predict(X_test)\n",
    "\n",
    "def eval_test_set(x_test_predictions, y_test):\n",
    "    print(f\"Accuracy Score: {metrics.accuracy_score(y_test, x_test_predictions)}\")\n",
    "    print()\n",
    "    print(f\"AUC Score: {metrics.roc_auc_score(y_test, x_test_predictions)}\")\n",
    "    print()\n",
    "    print(f\"F1 Score: {metrics.f1_score(y_test, x_test_predictions)}\")\n",
    "    print()\n",
    "    print(f\"Classification Report: \\n {metrics.classification_report(y_test, x_test_predictions)}\")\n",
    "    print()\n",
    "    print(f\" Confustion Matrix: \\n {metrics.confusion_matrix(y_test, x_test_predictions)}\")\n",
    "\n",
    "eval_test_set(predictions, y_test)"
   ]
  },
  {
   "cell_type": "code",
   "execution_count": 13,
   "metadata": {},
   "outputs": [
    {
     "name": "stdout",
     "output_type": "stream",
     "text": [
      "Accuracy Score: 0.8904664031620554\n",
      "\n",
      "Classification Report: \n",
      "               precision    recall  f1-score   support\n",
      "\n",
      "           0       0.94      0.89      0.92     21552\n",
      "           1       0.80      0.88      0.84     10073\n",
      "\n",
      "    accuracy                           0.89     31625\n",
      "   macro avg       0.87      0.89      0.88     31625\n",
      "weighted avg       0.90      0.89      0.89     31625\n",
      "\n",
      "\n",
      " Confustion Matrix: \n",
      " [[19265  2287]\n",
      " [ 1177  8896]]\n"
     ]
    }
   ],
   "source": [
    "predictions = cv_results_lst[3]['estimator'][0].predict(X_test)\n",
    "\n",
    "def eval_test_set(x_test_predictions, y_test):\n",
    "    print(f\"Accuracy Score: {metrics.accuracy_score(y_test, x_test_predictions)}\")\n",
    "    print()\n",
    "    print(f\"Classification Report: \\n {metrics.classification_report(y_test, x_test_predictions)}\")\n",
    "    print()\n",
    "    print(f\" Confustion Matrix: \\n {metrics.confusion_matrix(y_test, x_test_predictions)}\")\n",
    "\n",
    "eval_test_set(predictions, y_test)"
   ]
  },
  {
   "cell_type": "code",
   "execution_count": 14,
   "metadata": {},
   "outputs": [
    {
     "data": {
      "text/plain": [
       "<matplotlib.axes._subplots.AxesSubplot at 0x7f186bd62588>"
      ]
     },
     "execution_count": 14,
     "metadata": {},
     "output_type": "execute_result"
    },
    {
     "data": {
      "image/png": "[encoded data removed]",
      "text/plain": [
       "<Figure size 432x288 with 1 Axes>"
      ]
     },
     "metadata": {
      "needs_background": "light"
     },
     "output_type": "display_data"
    }
   ],
   "source": [
    "pd.Series(cv_results_lst[3]['estimator'][0][2].feature_importances_).plot(kind = 'barh')"
   ]
  },
  {
   "cell_type": "code",
   "execution_count": 14,
   "metadata": {},
   "outputs": [
    {
     "data": {
      "text/plain": [
       "0    0.998145\n",
       "1    0.001302\n",
       "2    0.000442\n",
       "3    0.000082\n",
       "4    0.000009\n",
       "5    0.000004\n",
       "dtype: float64"
      ]
     },
     "execution_count": 14,
     "metadata": {},
     "output_type": "execute_result"
    }
   ],
   "source": [
    "pd.Series(cv_results_lst[3]['estimator'][0][1].explained_variance_ratio_)"
   ]
  },
  {
   "cell_type": "code",
   "execution_count": null,
   "metadata": {},
   "outputs": [],
   "source": []
  }
 ],
 "metadata": {
  "kernelspec": {
   "display_name": "Python 3",
   "language": "python",
   "name": "python3"
  },
  "language_info": {
   "codemirror_mode": {
    "name": "ipython",
    "version": 3
   },
   "file_extension": ".py",
   "mimetype": "text/x-python",
   "name": "python",
   "nbconvert_exporter": "python",
   "pygments_lexer": "ipython3",
   "version": "3.6.7"
  }
 },
 "nbformat": 4,
 "nbformat_minor": 2
}
